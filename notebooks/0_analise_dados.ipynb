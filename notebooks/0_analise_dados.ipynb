{
 "cells": [
  {
   "cell_type": "code",
   "execution_count": 65,
   "metadata": {},
   "outputs": [],
   "source": [
    "import re\n",
    "\n",
    "import pandas as pd"
   ]
  },
  {
   "cell_type": "code",
   "execution_count": 25,
   "metadata": {},
   "outputs": [
    {
     "name": "stdout",
     "output_type": "stream",
     "text": [
      "Visualização inicial do dataframe:\n"
     ]
    },
    {
     "data": {
      "text/html": [
       "<div>\n",
       "<style scoped>\n",
       "    .dataframe tbody tr th:only-of-type {\n",
       "        vertical-align: middle;\n",
       "    }\n",
       "\n",
       "    .dataframe tbody tr th {\n",
       "        vertical-align: top;\n",
       "    }\n",
       "\n",
       "    .dataframe thead th {\n",
       "        text-align: right;\n",
       "    }\n",
       "</style>\n",
       "<table border=\"1\" class=\"dataframe\">\n",
       "  <thead>\n",
       "    <tr style=\"text-align: right;\">\n",
       "      <th></th>\n",
       "      <th>id_paciente</th>\n",
       "      <th>sexo</th>\n",
       "      <th>obito</th>\n",
       "      <th>bairro</th>\n",
       "      <th>raca_cor</th>\n",
       "      <th>ocupacao</th>\n",
       "      <th>religiao</th>\n",
       "      <th>luz_eletrica</th>\n",
       "      <th>data_cadastro</th>\n",
       "      <th>escolaridade</th>\n",
       "      <th>...</th>\n",
       "      <th>familia_beneficiaria_auxilio_brasil</th>\n",
       "      <th>crianca_matriculada_creche_pre_escola</th>\n",
       "      <th>altura</th>\n",
       "      <th>peso</th>\n",
       "      <th>pressao_sistolica</th>\n",
       "      <th>pressao_diastolica</th>\n",
       "      <th>n_atendimentos_atencao_primaria</th>\n",
       "      <th>n_atendimentos_hospital</th>\n",
       "      <th>updated_at</th>\n",
       "      <th>tipo</th>\n",
       "    </tr>\n",
       "  </thead>\n",
       "  <tbody>\n",
       "    <tr>\n",
       "      <th>0</th>\n",
       "      <td>cd6daa6e-038d-4952-af29-579e62e07f97</td>\n",
       "      <td>male</td>\n",
       "      <td>0</td>\n",
       "      <td>Parada de Lucas</td>\n",
       "      <td>Branca</td>\n",
       "      <td>Não se aplica</td>\n",
       "      <td>Sem religião</td>\n",
       "      <td>True</td>\n",
       "      <td>2021-06-24 00:00:00.000</td>\n",
       "      <td>Fundamental Incompleto</td>\n",
       "      <td>...</td>\n",
       "      <td>0</td>\n",
       "      <td>0</td>\n",
       "      <td>172.0</td>\n",
       "      <td>52.5</td>\n",
       "      <td>110.0</td>\n",
       "      <td>70.0</td>\n",
       "      <td>8</td>\n",
       "      <td>9</td>\n",
       "      <td>2021-06-01 00:00:00.000</td>\n",
       "      <td>historico</td>\n",
       "    </tr>\n",
       "    <tr>\n",
       "      <th>1</th>\n",
       "      <td>ad6cecb2-3a44-49ab-b2f3-6f9ffc2e2ec7</td>\n",
       "      <td>male</td>\n",
       "      <td>0</td>\n",
       "      <td>Cidade Nova</td>\n",
       "      <td>Parda</td>\n",
       "      <td>Assistente Administrativo</td>\n",
       "      <td>Evangélica</td>\n",
       "      <td>1</td>\n",
       "      <td>2021-01-07 00:00:00.000</td>\n",
       "      <td>Médio Incompleto</td>\n",
       "      <td>...</td>\n",
       "      <td>1</td>\n",
       "      <td>0</td>\n",
       "      <td>158.0</td>\n",
       "      <td>76.2</td>\n",
       "      <td>140.0</td>\n",
       "      <td>80.0</td>\n",
       "      <td>0</td>\n",
       "      <td>6</td>\n",
       "      <td>2020-06-25 00:00:00.000</td>\n",
       "      <td>historico</td>\n",
       "    </tr>\n",
       "    <tr>\n",
       "      <th>2</th>\n",
       "      <td>54e834e7-e722-4daa-8909-cf917a1247e6</td>\n",
       "      <td>male</td>\n",
       "      <td>0</td>\n",
       "      <td>Santa cruz</td>\n",
       "      <td>Parda</td>\n",
       "      <td>Não se aplica</td>\n",
       "      <td>Católica</td>\n",
       "      <td>1</td>\n",
       "      <td>2021-02-18 00:00:00.000</td>\n",
       "      <td>Fundamental Completo</td>\n",
       "      <td>...</td>\n",
       "      <td>0</td>\n",
       "      <td>0</td>\n",
       "      <td>53.0</td>\n",
       "      <td>82.5</td>\n",
       "      <td>180.0</td>\n",
       "      <td>60.0</td>\n",
       "      <td>5</td>\n",
       "      <td>2</td>\n",
       "      <td>2020-03-02 00:00:00.000</td>\n",
       "      <td>historico</td>\n",
       "    </tr>\n",
       "  </tbody>\n",
       "</table>\n",
       "<p>3 rows × 35 columns</p>\n",
       "</div>"
      ],
      "text/plain": [
       "                            id_paciente  sexo obito           bairro raca_cor  \\\n",
       "0  cd6daa6e-038d-4952-af29-579e62e07f97  male     0  Parada de Lucas   Branca   \n",
       "1  ad6cecb2-3a44-49ab-b2f3-6f9ffc2e2ec7  male     0      Cidade Nova    Parda   \n",
       "2  54e834e7-e722-4daa-8909-cf917a1247e6  male     0       Santa cruz    Parda   \n",
       "\n",
       "                    ocupacao      religiao luz_eletrica  \\\n",
       "0              Não se aplica  Sem religião         True   \n",
       "1  Assistente Administrativo    Evangélica            1   \n",
       "2              Não se aplica      Católica            1   \n",
       "\n",
       "             data_cadastro            escolaridade  ...  \\\n",
       "0  2021-06-24 00:00:00.000  Fundamental Incompleto  ...   \n",
       "1  2021-01-07 00:00:00.000        Médio Incompleto  ...   \n",
       "2  2021-02-18 00:00:00.000    Fundamental Completo  ...   \n",
       "\n",
       "  familia_beneficiaria_auxilio_brasil crianca_matriculada_creche_pre_escola  \\\n",
       "0                                   0                                     0   \n",
       "1                                   1                                     0   \n",
       "2                                   0                                     0   \n",
       "\n",
       "  altura  peso  pressao_sistolica pressao_diastolica  \\\n",
       "0  172.0  52.5              110.0               70.0   \n",
       "1  158.0  76.2              140.0               80.0   \n",
       "2   53.0  82.5              180.0               60.0   \n",
       "\n",
       "  n_atendimentos_atencao_primaria n_atendimentos_hospital  \\\n",
       "0                               8                       9   \n",
       "1                               0                       6   \n",
       "2                               5                       2   \n",
       "\n",
       "                updated_at       tipo  \n",
       "0  2021-06-01 00:00:00.000  historico  \n",
       "1  2020-06-25 00:00:00.000  historico  \n",
       "2  2020-03-02 00:00:00.000  historico  \n",
       "\n",
       "[3 rows x 35 columns]"
      ]
     },
     "execution_count": 25,
     "metadata": {},
     "output_type": "execute_result"
    }
   ],
   "source": [
    "df = pd.read_csv(\"../data/dados_ficha_a_desafio.csv\")\n",
    "print(f\"Visualização inicial do dataframe:\")\n",
    "df.head(3)"
   ]
  },
  {
   "cell_type": "code",
   "execution_count": null,
   "metadata": {},
   "outputs": [
    {
     "name": "stdout",
     "output_type": "stream",
     "text": [
      "Colunas do dataframe:\n",
      "Index(['id_paciente', 'sexo', 'obito', 'bairro', 'raca_cor', 'ocupacao',\n",
      "       'religiao', 'luz_eletrica', 'data_cadastro', 'escolaridade',\n",
      "       'nacionalidade', 'renda_familiar', 'data_nascimento',\n",
      "       'em_situacao_de_rua', 'frequenta_escola', 'meios_transporte',\n",
      "       'doencas_condicoes', 'identidade_genero', 'meios_comunicacao',\n",
      "       'orientacao_sexual', 'possui_plano_saude', 'em_caso_doenca_procura',\n",
      "       'situacao_profissional', 'vulnerabilidade_social',\n",
      "       'data_atualizacao_cadastro', 'familia_beneficiaria_auxilio_brasil',\n",
      "       'crianca_matriculada_creche_pre_escola', 'altura', 'peso',\n",
      "       'pressao_sistolica', 'pressao_diastolica',\n",
      "       'n_atendimentos_atencao_primaria', 'n_atendimentos_hospital',\n",
      "       'updated_at', 'tipo'],\n",
      "      dtype='object')\n"
     ]
    }
   ],
   "source": [
    "print(f\"Colunas do dataframe:\")\n",
    "print(df.columns)"
   ]
  },
  {
   "cell_type": "markdown",
   "metadata": {},
   "source": [
    "# Coluna: id_paciente"
   ]
  },
  {
   "cell_type": "markdown",
   "metadata": {},
   "source": [
    "## Requisito: Unicidade"
   ]
  },
  {
   "cell_type": "code",
   "execution_count": null,
   "metadata": {},
   "outputs": [
    {
     "name": "stdout",
     "output_type": "stream",
     "text": [
      "Avaliando se todas as entradas de 'id_paciente' são únicas:\n",
      "count\n",
      "1    98007\n",
      "2      986\n",
      "3        7\n",
      "Name: count, dtype: int64\n"
     ]
    },
    {
     "data": {
      "text/plain": [
       "'49cf308b-411f-4fd5-a33d-0446d48de446'"
      ]
     },
     "execution_count": 34,
     "metadata": {},
     "output_type": "execute_result"
    }
   ],
   "source": [
    "print(\"Avaliando se todas as entradas de 'id_paciente' são únicas:\")\n",
    "id_counts = df[\"id_paciente\"].value_counts()\n",
    "id_counts_counts = id_counts.value_counts()\n",
    "print(id_counts_counts)"
   ]
  },
  {
   "cell_type": "code",
   "execution_count": null,
   "metadata": {},
   "outputs": [
    {
     "name": "stdout",
     "output_type": "stream",
     "text": [
      "Há 986 id's duplicados e 7 id's triplicados\n",
      "Mostrando todas as ocorrências para o id triplicado '49cf308b-411f-4fd5-a33d-0446d48de446'\n"
     ]
    },
    {
     "data": {
      "text/html": [
       "<div>\n",
       "<style scoped>\n",
       "    .dataframe tbody tr th:only-of-type {\n",
       "        vertical-align: middle;\n",
       "    }\n",
       "\n",
       "    .dataframe tbody tr th {\n",
       "        vertical-align: top;\n",
       "    }\n",
       "\n",
       "    .dataframe thead th {\n",
       "        text-align: right;\n",
       "    }\n",
       "</style>\n",
       "<table border=\"1\" class=\"dataframe\">\n",
       "  <thead>\n",
       "    <tr style=\"text-align: right;\">\n",
       "      <th></th>\n",
       "      <th>id_paciente</th>\n",
       "      <th>sexo</th>\n",
       "      <th>obito</th>\n",
       "      <th>bairro</th>\n",
       "      <th>raca_cor</th>\n",
       "      <th>ocupacao</th>\n",
       "      <th>religiao</th>\n",
       "      <th>luz_eletrica</th>\n",
       "      <th>data_cadastro</th>\n",
       "      <th>escolaridade</th>\n",
       "      <th>...</th>\n",
       "      <th>familia_beneficiaria_auxilio_brasil</th>\n",
       "      <th>crianca_matriculada_creche_pre_escola</th>\n",
       "      <th>altura</th>\n",
       "      <th>peso</th>\n",
       "      <th>pressao_sistolica</th>\n",
       "      <th>pressao_diastolica</th>\n",
       "      <th>n_atendimentos_atencao_primaria</th>\n",
       "      <th>n_atendimentos_hospital</th>\n",
       "      <th>updated_at</th>\n",
       "      <th>tipo</th>\n",
       "    </tr>\n",
       "  </thead>\n",
       "  <tbody>\n",
       "    <tr>\n",
       "      <th>42083</th>\n",
       "      <td>49cf308b-411f-4fd5-a33d-0446d48de446</td>\n",
       "      <td>female</td>\n",
       "      <td>0</td>\n",
       "      <td>Catumbi</td>\n",
       "      <td>Branca</td>\n",
       "      <td>Técnico Mecânico</td>\n",
       "      <td>Religião de matriz africana</td>\n",
       "      <td>1</td>\n",
       "      <td>2023-08-29 10:59:09.410</td>\n",
       "      <td>Fundamental Incompleto</td>\n",
       "      <td>...</td>\n",
       "      <td>0</td>\n",
       "      <td>0</td>\n",
       "      <td>117.0</td>\n",
       "      <td>80.20</td>\n",
       "      <td>120.0</td>\n",
       "      <td>70.0</td>\n",
       "      <td>0</td>\n",
       "      <td>12</td>\n",
       "      <td>2020-03-02 00:00:00.000</td>\n",
       "      <td>historico</td>\n",
       "    </tr>\n",
       "    <tr>\n",
       "      <th>48094</th>\n",
       "      <td>49cf308b-411f-4fd5-a33d-0446d48de446</td>\n",
       "      <td>female</td>\n",
       "      <td>0</td>\n",
       "      <td>Irajá</td>\n",
       "      <td>Branca</td>\n",
       "      <td>Não se aplica</td>\n",
       "      <td>Outra</td>\n",
       "      <td>1</td>\n",
       "      <td>2021-03-24 19:35:47</td>\n",
       "      <td>Superior completo</td>\n",
       "      <td>...</td>\n",
       "      <td>0</td>\n",
       "      <td>1</td>\n",
       "      <td>158.0</td>\n",
       "      <td>70.85</td>\n",
       "      <td>170.0</td>\n",
       "      <td>100.0</td>\n",
       "      <td>0</td>\n",
       "      <td>7</td>\n",
       "      <td>2020-09-02 00:00:00.000</td>\n",
       "      <td>historico</td>\n",
       "    </tr>\n",
       "    <tr>\n",
       "      <th>87084</th>\n",
       "      <td>49cf308b-411f-4fd5-a33d-0446d48de446</td>\n",
       "      <td>female</td>\n",
       "      <td>False</td>\n",
       "      <td>Alto da Boa Vista</td>\n",
       "      <td>Parda</td>\n",
       "      <td>Empregado doméstico nos serviços gerais</td>\n",
       "      <td>Sem religião</td>\n",
       "      <td>1</td>\n",
       "      <td>2022-05-11 08:45:32.933</td>\n",
       "      <td>Fundamental Incompleto</td>\n",
       "      <td>...</td>\n",
       "      <td>0</td>\n",
       "      <td>1</td>\n",
       "      <td>155.0</td>\n",
       "      <td>18.60</td>\n",
       "      <td>143.0</td>\n",
       "      <td>70.0</td>\n",
       "      <td>0</td>\n",
       "      <td>3</td>\n",
       "      <td>2022-05-13 00:00:00.000</td>\n",
       "      <td>historico</td>\n",
       "    </tr>\n",
       "  </tbody>\n",
       "</table>\n",
       "<p>3 rows × 35 columns</p>\n",
       "</div>"
      ],
      "text/plain": [
       "                                id_paciente    sexo  obito             bairro  \\\n",
       "42083  49cf308b-411f-4fd5-a33d-0446d48de446  female      0            Catumbi   \n",
       "48094  49cf308b-411f-4fd5-a33d-0446d48de446  female      0              Irajá   \n",
       "87084  49cf308b-411f-4fd5-a33d-0446d48de446  female  False  Alto da Boa Vista   \n",
       "\n",
       "      raca_cor                                 ocupacao  \\\n",
       "42083   Branca                         Técnico Mecânico   \n",
       "48094   Branca                            Não se aplica   \n",
       "87084    Parda  Empregado doméstico nos serviços gerais   \n",
       "\n",
       "                          religiao luz_eletrica            data_cadastro  \\\n",
       "42083  Religião de matriz africana            1  2023-08-29 10:59:09.410   \n",
       "48094                        Outra            1      2021-03-24 19:35:47   \n",
       "87084                 Sem religião            1  2022-05-11 08:45:32.933   \n",
       "\n",
       "                 escolaridade  ... familia_beneficiaria_auxilio_brasil  \\\n",
       "42083  Fundamental Incompleto  ...                                   0   \n",
       "48094       Superior completo  ...                                   0   \n",
       "87084  Fundamental Incompleto  ...                                   0   \n",
       "\n",
       "      crianca_matriculada_creche_pre_escola altura   peso  pressao_sistolica  \\\n",
       "42083                                     0  117.0  80.20              120.0   \n",
       "48094                                     1  158.0  70.85              170.0   \n",
       "87084                                     1  155.0  18.60              143.0   \n",
       "\n",
       "      pressao_diastolica n_atendimentos_atencao_primaria  \\\n",
       "42083               70.0                               0   \n",
       "48094              100.0                               0   \n",
       "87084               70.0                               0   \n",
       "\n",
       "      n_atendimentos_hospital               updated_at       tipo  \n",
       "42083                      12  2020-03-02 00:00:00.000  historico  \n",
       "48094                       7  2020-09-02 00:00:00.000  historico  \n",
       "87084                       3  2022-05-13 00:00:00.000  historico  \n",
       "\n",
       "[3 rows x 35 columns]"
      ]
     },
     "execution_count": 44,
     "metadata": {},
     "output_type": "execute_result"
    }
   ],
   "source": [
    "print(f\"Há {id_counts_counts[2]} id's duplicados e {id_counts_counts[3]} id's triplicados\")\n",
    "id_triplicado_exemplo = id_counts[id_counts == 3].index[0]\n",
    "print(f\"Mostrando todas as ocorrências para o id triplicado '{id_triplicado_exemplo}'\")\n",
    "df[df[\"id_paciente\"] == id_triplicado_exemplo]"
   ]
  },
  {
   "cell_type": "code",
   "execution_count": 62,
   "metadata": {},
   "outputs": [
    {
     "name": "stdout",
     "output_type": "stream",
     "text": [
      "Avaliando se há algum id duplicado/triplicado com repetição dos dados\n",
      "Total de entradas duplicadas/triplicadas com todos os dados iguais: 0\n",
      "Avaliando quão semelhante os id's repetidos são (caso sejam leves modificações dos mesmos pacientes):\n",
      "Valor máximo da média de valores iguais entre os id's duplicados/triplicados: 55.88%\n",
      "Avaliação final: os id's duplicados/triplicados são de pacientes diferentes\n"
     ]
    }
   ],
   "source": [
    "print(\"Avaliando se há algum id duplicado/triplicado com repetição dos dados\")\n",
    "duplicated_ids = id_counts[id_counts > 1].index\n",
    "duplicated_entries = df[df[\"id_paciente\"].isin(duplicated_ids)]\n",
    "grouped = duplicated_entries.groupby(\"id_paciente\").nunique()\n",
    "grouped\n",
    "\n",
    "# Checando se há entradas duplicadas/triplicadas com todos os dados iguais\n",
    "equal_entries = grouped[grouped.eq(1).all(axis=1)]\n",
    "print(f\"Total de entradas duplicadas/triplicadas com todos os dados iguais: {equal_entries.shape[0]}\")\n",
    "print(f\"Avaliando quão semelhante os id's repetidos são (caso sejam leves modificações dos mesmos pacientes):\")\n",
    "entries_similarity = grouped.eq(1).mean(axis=1).sort_values(ascending=False).head(10)\n",
    "print(f\"Valor máximo da média de valores iguais entre os id's duplicados/triplicados: {entries_similarity.max():.2%}\")\n",
    "print(f\"Avaliação final: os id's duplicados/triplicados são de pacientes diferentes\")"
   ]
  },
  {
   "cell_type": "markdown",
   "metadata": {},
   "source": [
    "## Requisito: Máscara"
   ]
  },
  {
   "cell_type": "code",
   "execution_count": 71,
   "metadata": {},
   "outputs": [],
   "source": [
    "def verificar_mascara_id_paciente(id_paciente: str) -> bool:\n",
    "    \"\"\"\n",
    "    Verifica se a máscara do id_paciente está correta.\n",
    "    \"\"\"\n",
    "    return bool(re.match(r\"^[a-zA-Z0-9]{8}-[a-zA-Z0-9]{4}-[a-zA-Z0-9]{4}-[a-zA-Z0-9]{4}-[a-zA-Z0-9]{12}$\", id_paciente))"
   ]
  },
  {
   "cell_type": "code",
   "execution_count": 78,
   "metadata": {},
   "outputs": [
    {
     "name": "stdout",
     "output_type": "stream",
     "text": [
      "Todos os id's respeitam a máscara? True\n"
     ]
    }
   ],
   "source": [
    "print(f\"Todos os id's respeitam a máscara? {str(df[\"id_paciente\"].apply(verificar_mascara_id_paciente).all())}\")"
   ]
  },
  {
   "cell_type": "markdown",
   "metadata": {},
   "source": [
    "# Coluna: sexo"
   ]
  },
  {
   "cell_type": "code",
   "execution_count": 80,
   "metadata": {},
   "outputs": [
    {
     "name": "stdout",
     "output_type": "stream",
     "text": [
      "Verificando valores unicos:\n"
     ]
    },
    {
     "data": {
      "text/plain": [
       "array(['male', 'female'], dtype=object)"
      ]
     },
     "execution_count": 80,
     "metadata": {},
     "output_type": "execute_result"
    }
   ],
   "source": [
    "print(f\"Verificando valores unicos:\")\n",
    "df[\"sexo\"].unique()"
   ]
  },
  {
   "cell_type": "code",
   "execution_count": null,
   "metadata": {},
   "outputs": [],
   "source": [
    "print(f\"Está ok, porém o dado está em inglês, enquanto o resto da base está em português.\")"
   ]
  }
 ],
 "metadata": {
  "kernelspec": {
   "display_name": "Python 3",
   "language": "python",
   "name": "python3"
  },
  "language_info": {
   "codemirror_mode": {
    "name": "ipython",
    "version": 3
   },
   "file_extension": ".py",
   "mimetype": "text/x-python",
   "name": "python",
   "nbconvert_exporter": "python",
   "pygments_lexer": "ipython3",
   "version": "3.13.2"
  }
 },
 "nbformat": 4,
 "nbformat_minor": 2
}
