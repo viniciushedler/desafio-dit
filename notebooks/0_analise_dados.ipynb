{
 "cells": [
  {
   "cell_type": "code",
   "execution_count": 2,
   "metadata": {},
   "outputs": [],
   "source": [
    "import re\n",
    "\n",
    "import pandas as pd"
   ]
  },
  {
   "cell_type": "code",
   "execution_count": 5,
   "metadata": {},
   "outputs": [
    {
     "name": "stdout",
     "output_type": "stream",
     "text": [
      "Visualização inicial do dataframe:\n"
     ]
    },
    {
     "data": {
      "text/html": [
       "<div>\n",
       "<style scoped>\n",
       "    .dataframe tbody tr th:only-of-type {\n",
       "        vertical-align: middle;\n",
       "    }\n",
       "\n",
       "    .dataframe tbody tr th {\n",
       "        vertical-align: top;\n",
       "    }\n",
       "\n",
       "    .dataframe thead th {\n",
       "        text-align: right;\n",
       "    }\n",
       "</style>\n",
       "<table border=\"1\" class=\"dataframe\">\n",
       "  <thead>\n",
       "    <tr style=\"text-align: right;\">\n",
       "      <th></th>\n",
       "      <th>id_paciente</th>\n",
       "      <th>sexo</th>\n",
       "      <th>obito</th>\n",
       "      <th>bairro</th>\n",
       "      <th>raca_cor</th>\n",
       "      <th>ocupacao</th>\n",
       "      <th>religiao</th>\n",
       "      <th>luz_eletrica</th>\n",
       "      <th>data_cadastro</th>\n",
       "      <th>escolaridade</th>\n",
       "      <th>...</th>\n",
       "      <th>familia_beneficiaria_auxilio_brasil</th>\n",
       "      <th>crianca_matriculada_creche_pre_escola</th>\n",
       "      <th>altura</th>\n",
       "      <th>peso</th>\n",
       "      <th>pressao_sistolica</th>\n",
       "      <th>pressao_diastolica</th>\n",
       "      <th>n_atendimentos_atencao_primaria</th>\n",
       "      <th>n_atendimentos_hospital</th>\n",
       "      <th>updated_at</th>\n",
       "      <th>tipo</th>\n",
       "    </tr>\n",
       "  </thead>\n",
       "  <tbody>\n",
       "    <tr>\n",
       "      <th>0</th>\n",
       "      <td>cd6daa6e-038d-4952-af29-579e62e07f97</td>\n",
       "      <td>male</td>\n",
       "      <td>0</td>\n",
       "      <td>Parada de Lucas</td>\n",
       "      <td>Branca</td>\n",
       "      <td>Não se aplica</td>\n",
       "      <td>Sem religião</td>\n",
       "      <td>True</td>\n",
       "      <td>2021-06-24 00:00:00.000</td>\n",
       "      <td>Fundamental Incompleto</td>\n",
       "      <td>...</td>\n",
       "      <td>0</td>\n",
       "      <td>0</td>\n",
       "      <td>172.0</td>\n",
       "      <td>52.5</td>\n",
       "      <td>110.0</td>\n",
       "      <td>70.0</td>\n",
       "      <td>8</td>\n",
       "      <td>9</td>\n",
       "      <td>2021-06-01 00:00:00.000</td>\n",
       "      <td>historico</td>\n",
       "    </tr>\n",
       "    <tr>\n",
       "      <th>1</th>\n",
       "      <td>ad6cecb2-3a44-49ab-b2f3-6f9ffc2e2ec7</td>\n",
       "      <td>male</td>\n",
       "      <td>0</td>\n",
       "      <td>Cidade Nova</td>\n",
       "      <td>Parda</td>\n",
       "      <td>Assistente Administrativo</td>\n",
       "      <td>Evangélica</td>\n",
       "      <td>1</td>\n",
       "      <td>2021-01-07 00:00:00.000</td>\n",
       "      <td>Médio Incompleto</td>\n",
       "      <td>...</td>\n",
       "      <td>1</td>\n",
       "      <td>0</td>\n",
       "      <td>158.0</td>\n",
       "      <td>76.2</td>\n",
       "      <td>140.0</td>\n",
       "      <td>80.0</td>\n",
       "      <td>0</td>\n",
       "      <td>6</td>\n",
       "      <td>2020-06-25 00:00:00.000</td>\n",
       "      <td>historico</td>\n",
       "    </tr>\n",
       "    <tr>\n",
       "      <th>2</th>\n",
       "      <td>54e834e7-e722-4daa-8909-cf917a1247e6</td>\n",
       "      <td>male</td>\n",
       "      <td>0</td>\n",
       "      <td>Santa cruz</td>\n",
       "      <td>Parda</td>\n",
       "      <td>Não se aplica</td>\n",
       "      <td>Católica</td>\n",
       "      <td>1</td>\n",
       "      <td>2021-02-18 00:00:00.000</td>\n",
       "      <td>Fundamental Completo</td>\n",
       "      <td>...</td>\n",
       "      <td>0</td>\n",
       "      <td>0</td>\n",
       "      <td>53.0</td>\n",
       "      <td>82.5</td>\n",
       "      <td>180.0</td>\n",
       "      <td>60.0</td>\n",
       "      <td>5</td>\n",
       "      <td>2</td>\n",
       "      <td>2020-03-02 00:00:00.000</td>\n",
       "      <td>historico</td>\n",
       "    </tr>\n",
       "  </tbody>\n",
       "</table>\n",
       "<p>3 rows × 35 columns</p>\n",
       "</div>"
      ],
      "text/plain": [
       "                            id_paciente  sexo obito           bairro raca_cor  \\\n",
       "0  cd6daa6e-038d-4952-af29-579e62e07f97  male     0  Parada de Lucas   Branca   \n",
       "1  ad6cecb2-3a44-49ab-b2f3-6f9ffc2e2ec7  male     0      Cidade Nova    Parda   \n",
       "2  54e834e7-e722-4daa-8909-cf917a1247e6  male     0       Santa cruz    Parda   \n",
       "\n",
       "                    ocupacao      religiao luz_eletrica  \\\n",
       "0              Não se aplica  Sem religião         True   \n",
       "1  Assistente Administrativo    Evangélica            1   \n",
       "2              Não se aplica      Católica            1   \n",
       "\n",
       "             data_cadastro            escolaridade  ...  \\\n",
       "0  2021-06-24 00:00:00.000  Fundamental Incompleto  ...   \n",
       "1  2021-01-07 00:00:00.000        Médio Incompleto  ...   \n",
       "2  2021-02-18 00:00:00.000    Fundamental Completo  ...   \n",
       "\n",
       "  familia_beneficiaria_auxilio_brasil crianca_matriculada_creche_pre_escola  \\\n",
       "0                                   0                                     0   \n",
       "1                                   1                                     0   \n",
       "2                                   0                                     0   \n",
       "\n",
       "  altura  peso  pressao_sistolica pressao_diastolica  \\\n",
       "0  172.0  52.5              110.0               70.0   \n",
       "1  158.0  76.2              140.0               80.0   \n",
       "2   53.0  82.5              180.0               60.0   \n",
       "\n",
       "  n_atendimentos_atencao_primaria n_atendimentos_hospital  \\\n",
       "0                               8                       9   \n",
       "1                               0                       6   \n",
       "2                               5                       2   \n",
       "\n",
       "                updated_at       tipo  \n",
       "0  2021-06-01 00:00:00.000  historico  \n",
       "1  2020-06-25 00:00:00.000  historico  \n",
       "2  2020-03-02 00:00:00.000  historico  \n",
       "\n",
       "[3 rows x 35 columns]"
      ]
     },
     "execution_count": 5,
     "metadata": {},
     "output_type": "execute_result"
    }
   ],
   "source": [
    "df = pd.read_csv(\"../data/input/dados_ficha_a_desafio.csv\")\n",
    "print(f\"Visualização inicial do dataframe:\")\n",
    "df.head(3)"
   ]
  },
  {
   "cell_type": "code",
   "execution_count": 6,
   "metadata": {},
   "outputs": [
    {
     "name": "stdout",
     "output_type": "stream",
     "text": [
      "Colunas do dataframe:\n",
      "Index(['id_paciente', 'sexo', 'obito', 'bairro', 'raca_cor', 'ocupacao',\n",
      "       'religiao', 'luz_eletrica', 'data_cadastro', 'escolaridade',\n",
      "       'nacionalidade', 'renda_familiar', 'data_nascimento',\n",
      "       'em_situacao_de_rua', 'frequenta_escola', 'meios_transporte',\n",
      "       'doencas_condicoes', 'identidade_genero', 'meios_comunicacao',\n",
      "       'orientacao_sexual', 'possui_plano_saude', 'em_caso_doenca_procura',\n",
      "       'situacao_profissional', 'vulnerabilidade_social',\n",
      "       'data_atualizacao_cadastro', 'familia_beneficiaria_auxilio_brasil',\n",
      "       'crianca_matriculada_creche_pre_escola', 'altura', 'peso',\n",
      "       'pressao_sistolica', 'pressao_diastolica',\n",
      "       'n_atendimentos_atencao_primaria', 'n_atendimentos_hospital',\n",
      "       'updated_at', 'tipo'],\n",
      "      dtype='object')\n"
     ]
    }
   ],
   "source": [
    "print(f\"Colunas do dataframe:\")\n",
    "print(df.columns)"
   ]
  },
  {
   "cell_type": "markdown",
   "metadata": {},
   "source": [
    "# Coluna: id_paciente"
   ]
  },
  {
   "cell_type": "markdown",
   "metadata": {},
   "source": [
    "## Requisito: Unicidade"
   ]
  },
  {
   "cell_type": "code",
   "execution_count": 7,
   "metadata": {},
   "outputs": [
    {
     "name": "stdout",
     "output_type": "stream",
     "text": [
      "Avaliando se todas as entradas de 'id_paciente' são únicas:\n",
      "count\n",
      "1    98007\n",
      "2      986\n",
      "3        7\n",
      "Name: count, dtype: int64\n"
     ]
    }
   ],
   "source": [
    "print(\"Avaliando se todas as entradas de 'id_paciente' são únicas:\")\n",
    "id_counts = df[\"id_paciente\"].value_counts()\n",
    "id_counts_counts = id_counts.value_counts()\n",
    "print(id_counts_counts)"
   ]
  },
  {
   "cell_type": "code",
   "execution_count": 8,
   "metadata": {},
   "outputs": [
    {
     "name": "stdout",
     "output_type": "stream",
     "text": [
      "Há 986 id's duplicados e 7 id's triplicados\n",
      "Mostrando todas as ocorrências para o id triplicado '49cf308b-411f-4fd5-a33d-0446d48de446'\n"
     ]
    },
    {
     "data": {
      "text/html": [
       "<div>\n",
       "<style scoped>\n",
       "    .dataframe tbody tr th:only-of-type {\n",
       "        vertical-align: middle;\n",
       "    }\n",
       "\n",
       "    .dataframe tbody tr th {\n",
       "        vertical-align: top;\n",
       "    }\n",
       "\n",
       "    .dataframe thead th {\n",
       "        text-align: right;\n",
       "    }\n",
       "</style>\n",
       "<table border=\"1\" class=\"dataframe\">\n",
       "  <thead>\n",
       "    <tr style=\"text-align: right;\">\n",
       "      <th></th>\n",
       "      <th>id_paciente</th>\n",
       "      <th>sexo</th>\n",
       "      <th>obito</th>\n",
       "      <th>bairro</th>\n",
       "      <th>raca_cor</th>\n",
       "      <th>ocupacao</th>\n",
       "      <th>religiao</th>\n",
       "      <th>luz_eletrica</th>\n",
       "      <th>data_cadastro</th>\n",
       "      <th>escolaridade</th>\n",
       "      <th>...</th>\n",
       "      <th>familia_beneficiaria_auxilio_brasil</th>\n",
       "      <th>crianca_matriculada_creche_pre_escola</th>\n",
       "      <th>altura</th>\n",
       "      <th>peso</th>\n",
       "      <th>pressao_sistolica</th>\n",
       "      <th>pressao_diastolica</th>\n",
       "      <th>n_atendimentos_atencao_primaria</th>\n",
       "      <th>n_atendimentos_hospital</th>\n",
       "      <th>updated_at</th>\n",
       "      <th>tipo</th>\n",
       "    </tr>\n",
       "  </thead>\n",
       "  <tbody>\n",
       "    <tr>\n",
       "      <th>42083</th>\n",
       "      <td>49cf308b-411f-4fd5-a33d-0446d48de446</td>\n",
       "      <td>female</td>\n",
       "      <td>0</td>\n",
       "      <td>Catumbi</td>\n",
       "      <td>Branca</td>\n",
       "      <td>Técnico Mecânico</td>\n",
       "      <td>Religião de matriz africana</td>\n",
       "      <td>1</td>\n",
       "      <td>2023-08-29 10:59:09.410</td>\n",
       "      <td>Fundamental Incompleto</td>\n",
       "      <td>...</td>\n",
       "      <td>0</td>\n",
       "      <td>0</td>\n",
       "      <td>117.0</td>\n",
       "      <td>80.20</td>\n",
       "      <td>120.0</td>\n",
       "      <td>70.0</td>\n",
       "      <td>0</td>\n",
       "      <td>12</td>\n",
       "      <td>2020-03-02 00:00:00.000</td>\n",
       "      <td>historico</td>\n",
       "    </tr>\n",
       "    <tr>\n",
       "      <th>48094</th>\n",
       "      <td>49cf308b-411f-4fd5-a33d-0446d48de446</td>\n",
       "      <td>female</td>\n",
       "      <td>0</td>\n",
       "      <td>Irajá</td>\n",
       "      <td>Branca</td>\n",
       "      <td>Não se aplica</td>\n",
       "      <td>Outra</td>\n",
       "      <td>1</td>\n",
       "      <td>2021-03-24 19:35:47</td>\n",
       "      <td>Superior completo</td>\n",
       "      <td>...</td>\n",
       "      <td>0</td>\n",
       "      <td>1</td>\n",
       "      <td>158.0</td>\n",
       "      <td>70.85</td>\n",
       "      <td>170.0</td>\n",
       "      <td>100.0</td>\n",
       "      <td>0</td>\n",
       "      <td>7</td>\n",
       "      <td>2020-09-02 00:00:00.000</td>\n",
       "      <td>historico</td>\n",
       "    </tr>\n",
       "    <tr>\n",
       "      <th>87084</th>\n",
       "      <td>49cf308b-411f-4fd5-a33d-0446d48de446</td>\n",
       "      <td>female</td>\n",
       "      <td>False</td>\n",
       "      <td>Alto da Boa Vista</td>\n",
       "      <td>Parda</td>\n",
       "      <td>Empregado doméstico nos serviços gerais</td>\n",
       "      <td>Sem religião</td>\n",
       "      <td>1</td>\n",
       "      <td>2022-05-11 08:45:32.933</td>\n",
       "      <td>Fundamental Incompleto</td>\n",
       "      <td>...</td>\n",
       "      <td>0</td>\n",
       "      <td>1</td>\n",
       "      <td>155.0</td>\n",
       "      <td>18.60</td>\n",
       "      <td>143.0</td>\n",
       "      <td>70.0</td>\n",
       "      <td>0</td>\n",
       "      <td>3</td>\n",
       "      <td>2022-05-13 00:00:00.000</td>\n",
       "      <td>historico</td>\n",
       "    </tr>\n",
       "  </tbody>\n",
       "</table>\n",
       "<p>3 rows × 35 columns</p>\n",
       "</div>"
      ],
      "text/plain": [
       "                                id_paciente    sexo  obito             bairro  \\\n",
       "42083  49cf308b-411f-4fd5-a33d-0446d48de446  female      0            Catumbi   \n",
       "48094  49cf308b-411f-4fd5-a33d-0446d48de446  female      0              Irajá   \n",
       "87084  49cf308b-411f-4fd5-a33d-0446d48de446  female  False  Alto da Boa Vista   \n",
       "\n",
       "      raca_cor                                 ocupacao  \\\n",
       "42083   Branca                         Técnico Mecânico   \n",
       "48094   Branca                            Não se aplica   \n",
       "87084    Parda  Empregado doméstico nos serviços gerais   \n",
       "\n",
       "                          religiao luz_eletrica            data_cadastro  \\\n",
       "42083  Religião de matriz africana            1  2023-08-29 10:59:09.410   \n",
       "48094                        Outra            1      2021-03-24 19:35:47   \n",
       "87084                 Sem religião            1  2022-05-11 08:45:32.933   \n",
       "\n",
       "                 escolaridade  ... familia_beneficiaria_auxilio_brasil  \\\n",
       "42083  Fundamental Incompleto  ...                                   0   \n",
       "48094       Superior completo  ...                                   0   \n",
       "87084  Fundamental Incompleto  ...                                   0   \n",
       "\n",
       "      crianca_matriculada_creche_pre_escola altura   peso  pressao_sistolica  \\\n",
       "42083                                     0  117.0  80.20              120.0   \n",
       "48094                                     1  158.0  70.85              170.0   \n",
       "87084                                     1  155.0  18.60              143.0   \n",
       "\n",
       "      pressao_diastolica n_atendimentos_atencao_primaria  \\\n",
       "42083               70.0                               0   \n",
       "48094              100.0                               0   \n",
       "87084               70.0                               0   \n",
       "\n",
       "      n_atendimentos_hospital               updated_at       tipo  \n",
       "42083                      12  2020-03-02 00:00:00.000  historico  \n",
       "48094                       7  2020-09-02 00:00:00.000  historico  \n",
       "87084                       3  2022-05-13 00:00:00.000  historico  \n",
       "\n",
       "[3 rows x 35 columns]"
      ]
     },
     "execution_count": 8,
     "metadata": {},
     "output_type": "execute_result"
    }
   ],
   "source": [
    "print(f\"Há {id_counts_counts[2]} id's duplicados e {id_counts_counts[3]} id's triplicados\")\n",
    "id_triplicado_exemplo = id_counts[id_counts == 3].index[0]\n",
    "print(f\"Mostrando todas as ocorrências para o id triplicado '{id_triplicado_exemplo}'\")\n",
    "df[df[\"id_paciente\"] == id_triplicado_exemplo]"
   ]
  },
  {
   "cell_type": "code",
   "execution_count": 9,
   "metadata": {},
   "outputs": [
    {
     "name": "stdout",
     "output_type": "stream",
     "text": [
      "Avaliando se há algum id duplicado/triplicado com repetição dos dados\n",
      "Total de entradas duplicadas/triplicadas com todos os dados iguais: 0\n",
      "Avaliando quão semelhante os id's repetidos são (caso sejam leves modificações dos mesmos pacientes):\n",
      "Valor máximo da média de valores iguais entre os id's duplicados/triplicados: 55.88%\n",
      "Avaliação final: os id's duplicados/triplicados são de pacientes diferentes\n"
     ]
    }
   ],
   "source": [
    "print(\"Avaliando se há algum id duplicado/triplicado com repetição dos dados\")\n",
    "duplicated_ids = id_counts[id_counts > 1].index\n",
    "duplicated_entries = df[df[\"id_paciente\"].isin(duplicated_ids)]\n",
    "grouped = duplicated_entries.groupby(\"id_paciente\").nunique()\n",
    "grouped\n",
    "\n",
    "# Checando se há entradas duplicadas/triplicadas com todos os dados iguais\n",
    "equal_entries = grouped[grouped.eq(1).all(axis=1)]\n",
    "print(f\"Total de entradas duplicadas/triplicadas com todos os dados iguais: {equal_entries.shape[0]}\")\n",
    "print(f\"Avaliando quão semelhante os id's repetidos são (caso sejam leves modificações dos mesmos pacientes):\")\n",
    "entries_similarity = grouped.eq(1).mean(axis=1).sort_values(ascending=False).head(10)\n",
    "print(f\"Valor máximo da média de valores iguais entre os id's duplicados/triplicados: {entries_similarity.max():.2%}\")\n",
    "print(f\"Avaliação final: os id's duplicados/triplicados são de pacientes diferentes\")"
   ]
  },
  {
   "cell_type": "markdown",
   "metadata": {},
   "source": [
    "## Requisito: Máscara"
   ]
  },
  {
   "cell_type": "code",
   "execution_count": 10,
   "metadata": {},
   "outputs": [],
   "source": [
    "def verificar_mascara_id_paciente(id_paciente: str) -> bool:\n",
    "    \"\"\"\n",
    "    Verifica se a máscara do id_paciente está correta.\n",
    "    \"\"\"\n",
    "    return bool(re.match(r\"^[a-zA-Z0-9]{8}-[a-zA-Z0-9]{4}-[a-zA-Z0-9]{4}-[a-zA-Z0-9]{4}-[a-zA-Z0-9]{12}$\", id_paciente))"
   ]
  },
  {
   "cell_type": "code",
   "execution_count": 11,
   "metadata": {},
   "outputs": [
    {
     "name": "stdout",
     "output_type": "stream",
     "text": [
      "Todos os id's respeitam a máscara? True\n"
     ]
    }
   ],
   "source": [
    "print(f\"Todos os id's respeitam a máscara? {str(df[\"id_paciente\"].apply(verificar_mascara_id_paciente).all())}\")"
   ]
  },
  {
   "cell_type": "markdown",
   "metadata": {},
   "source": [
    "# Coluna: sexo"
   ]
  },
  {
   "cell_type": "code",
   "execution_count": 12,
   "metadata": {},
   "outputs": [
    {
     "name": "stdout",
     "output_type": "stream",
     "text": [
      "Valores únicos da coluna 'sexo': ['male' 'female']\n",
      "Está ok, porém o dado está em inglês, enquanto o resto da base está em português.\n"
     ]
    }
   ],
   "source": [
    "print(f\"Valores únicos da coluna 'sexo': {df[\"sexo\"].unique()}\")\n",
    "print(f\"Está ok, porém o dado está em inglês, enquanto o resto da base está em português.\")"
   ]
  },
  {
   "cell_type": "markdown",
   "metadata": {},
   "source": [
    "# Coluna: obito"
   ]
  },
  {
   "cell_type": "code",
   "execution_count": 13,
   "metadata": {},
   "outputs": [
    {
     "name": "stdout",
     "output_type": "stream",
     "text": [
      "Valores únicos da coluna 'obito': ['0' 'False' '1' 'True']\n",
      "O dado está inconsistente, variando entre (0, 1) e (False, True)\n",
      "Isto deve ser corrigido para ficar consistente.\n"
     ]
    }
   ],
   "source": [
    "print(f\"Valores únicos da coluna 'obito': {df[\"obito\"].unique()}\")\n",
    "print(\"O dado está inconsistente, variando entre (0, 1) e (False, True)\")\n",
    "print(\"Isto deve ser corrigido para ficar consistente.\")"
   ]
  },
  {
   "cell_type": "markdown",
   "metadata": {},
   "source": [
    "# Coluna: bairro"
   ]
  },
  {
   "cell_type": "code",
   "execution_count": 14,
   "metadata": {},
   "outputs": [
    {
     "name": "stdout",
     "output_type": "stream",
     "text": [
      "Valores únicos da coluna 'bairro': ['Parada de Lucas' 'Cidade Nova' 'Santa cruz' 'Bangu' 'Santíssimo'\n",
      " 'Jardim Vinte e Cinco de Agosto' 'Penha Circular' 'Guadalupe'\n",
      " 'Manguinhos' 'Irajá']\n"
     ]
    }
   ],
   "source": [
    "print(f\"Valores únicos da coluna 'bairro': {df[\"bairro\"].unique()[:10]}\")"
   ]
  },
  {
   "cell_type": "code",
   "execution_count": 15,
   "metadata": {},
   "outputs": [],
   "source": [
    "def salvar_count_unique(\n",
    "    series: pd.Series,\n",
    "    path: str,\n",
    "    ascending: bool = True,\n",
    "    verbose: bool = False\n",
    "    ) -> None:\n",
    "    \"\"\"\n",
    "    Salva a contagem de valores únicos de uma série em um arquivo CSV. O foco \n",
    "    desta função é auxiliar a encontrar valores errados/problemáticos em uma\n",
    "    série cheia de valores únicos.\n",
    "    \n",
    "    Os valores únicos são ordenados de acordo com a contagem de ocorrências, e\n",
    "    então salvos em um arquivo CSV para serem avaliados, dando prioridade aos\n",
    "    valores com menor ocorrência. Isto é feito porque se assume que os valores\n",
    "    com uma ocorrência média/alta são menos sucetíveis a serem erros.\n",
    "    \n",
    "    Isto deve ser feito para economizar esforço. Avaliar todos os valores únicos\n",
    "    da série é uma abordagem mais eficaz (porém menos eficiente).\n",
    "\n",
    "    Parameters\n",
    "    ----------\n",
    "    series : pd.Series\n",
    "        A série com os valores (não únicos) a serem avaliados.\n",
    "    path : str\n",
    "        O caminho para salvar o arquivo CSV.\n",
    "    ascending : bool, optional\n",
    "        Se os valores devem ser ordenados em ordem crescente. O padrão é True.\n",
    "    verbose : bool, optional\n",
    "        Se deve imprimir mensagens de log. O padrão é False.\n",
    "    \"\"\"\n",
    "    if verbose:\n",
    "        print(f\"Arquivo com contagem salvo em: {path}\")\n",
    "    series.value_counts().sort_values(ascending=ascending).to_csv(path)"
   ]
  },
  {
   "cell_type": "code",
   "execution_count": 16,
   "metadata": {},
   "outputs": [
    {
     "name": "stdout",
     "output_type": "stream",
     "text": [
      "Avaliando os bairros com menor quantidade de ocorrências\n",
      "Arquivo com contagem salvo em: ../data/output/bairro_counts.csv\n",
      "Foram avaliados os nomes dos bairros, focando nos bairros com menor ocorrência\n",
      "Isso porque se assume que caso um bairro tenha alta quantidade de ocorrências, dificilmente será um dado errado\n",
      "Não foi identificado nenhum bairro com nome problemático\n"
     ]
    }
   ],
   "source": [
    "print(f\"Avaliando os bairros com menor quantidade de ocorrências\")\n",
    "local_bairro_counts = \"../data/output/bairro_counts.csv\"\n",
    "salvar_count_unique(df[\"bairro\"], local_bairro_counts, verbose=True)\n",
    "print(\"Foram avaliados os nomes dos bairros, focando nos bairros com menor ocorrência\")\n",
    "print(\"Isso porque se assume que caso um bairro tenha alta quantidade de ocorrências, dificilmente será um dado errado\")\n",
    "print(\"Não foi identificado nenhum bairro com nome problemático\")"
   ]
  },
  {
   "cell_type": "markdown",
   "metadata": {},
   "source": [
    "# Coluna: raca_cor"
   ]
  },
  {
   "cell_type": "code",
   "execution_count": 17,
   "metadata": {},
   "outputs": [
    {
     "name": "stdout",
     "output_type": "stream",
     "text": [
      "Valores únicos da coluna 'raca_cor': ['Branca' 'Parda' 'Preta' 'Amarela' 'Não' 'Indígena']\n",
      "Uma das ocorrências é 'Não' (3 ocorrências)\n",
      "Isto parece errado, com o dado equivalente esperado sendo 'Não Informado'\n"
     ]
    }
   ],
   "source": [
    "print(f\"Valores únicos da coluna 'raca_cor': {df[\"raca_cor\"].unique()}\")\n",
    "print(f\"Uma das ocorrências é 'Não' ({df['raca_cor'].value_counts()['Não']} ocorrências)\")\n",
    "print(\"Isto parece errado, com o dado equivalente esperado sendo 'Não Informado'\")"
   ]
  },
  {
   "cell_type": "markdown",
   "metadata": {},
   "source": [
    "# Coluna: ocupacao"
   ]
  },
  {
   "cell_type": "code",
   "execution_count": 23,
   "metadata": {},
   "outputs": [
    {
     "name": "stdout",
     "output_type": "stream",
     "text": [
      "Valores únicos da coluna 'ocupacao': ['Não se aplica' 'Assistente Administrativo'\n",
      " 'Representante Comercial Autônomo' ... 'Assistente de Coreografia'\n",
      " 'Produtor de Espécies Frutíferas Rasteiras'\n",
      " 'Supervisor da confecção de artefatos de tecidos, couros e afins']\n",
      "Arquivo com contagem salvo em: ../data/output/ocupacao_counts.csv\n",
      "Diversas entradas possuem o token \". Isto não fica aparente no python, mas deve ser corrigido\n"
     ]
    }
   ],
   "source": [
    "print(f\"Valores únicos da coluna 'ocupacao': {df[\"ocupacao\"].unique()}\")\n",
    "salvar_count_unique(df[\"ocupacao\"], \"../data/output/ocupacao_counts.csv\", verbose=True)\n",
    "print(\"Diversas entradas possuem o token \\\". Isto não fica aparente no python, mas deve ser corrigido\")"
   ]
  },
  {
   "cell_type": "markdown",
   "metadata": {},
   "source": [
    "# Coluna: religiao"
   ]
  },
  {
   "cell_type": "code",
   "execution_count": 31,
   "metadata": {},
   "outputs": [
    {
     "name": "stdout",
     "output_type": "stream",
     "text": [
      "Valores únicos da coluna 'religiao': ['Sem religião' 'Evangélica' 'Católica' 'Outra' 'Espírita'\n",
      " 'Religião de matriz africana' 'Não' 'Budismo' 'Judaísmo' 'ESB ALMIRANTE'\n",
      " 'Candomblé' 'Islamismo' '10 EAP 01' 'Acomp. Cresc. e Desenv. da Criança'\n",
      " 'ORQUIDEA' 'Sim']\n",
      "\n",
      "Contagem das ocorrências de cada valor:\n",
      "\n",
      "religiao\n",
      "Sem religião                          35119\n",
      "Católica                              28348\n",
      "Outra                                 18714\n",
      "Evangélica                            14798\n",
      "Espírita                               1974\n",
      "Religião de matriz africana             731\n",
      "Não                                     174\n",
      "Budismo                                  81\n",
      "Judaísmo                                 32\n",
      "Islamismo                                 8\n",
      "Acomp. Cresc. e Desenv. da Criança        7\n",
      "Candomblé                                 6\n",
      "ESB ALMIRANTE                             5\n",
      "10 EAP 01                                 1\n",
      "ORQUIDEA                                  1\n",
      "Sim                                       1\n",
      "Name: count, dtype: int64\n"
     ]
    }
   ],
   "source": [
    "print(f\"Valores únicos da coluna 'religiao': {df[\"religiao\"].unique()}\")\n",
    "print(\"\\nContagem das ocorrências de cada valor:\\n\")\n",
    "print(df[\"religiao\"].value_counts())"
   ]
  },
  {
   "cell_type": "code",
   "execution_count": 41,
   "metadata": {},
   "outputs": [
    {
     "name": "stdout",
     "output_type": "stream",
     "text": [
      "Aqui ocorre novamente o caso de haver o valor 'Não' ao invés de 'Não Informado', ou neste caso, 'Sem religião'.\n",
      "Dificilmente será possível recuperar este dado\n",
      "Deve ser decidido por um especilista de negócio qual o valor padrão\n",
      "Valores padrão sugeridos: 'Não Informado'\n",
      "\n",
      "Há diversas ocorrências que não aparentam ser religiões conhecidas:\n",
      "['ESB ALMIRANTE', '10 EAP 01', 'Acomp. Cresc. e Desenv. da Criança', 'ORQUIDEA', 'Sim']\n",
      "Como estes valores são poucos (15), é razoável mudál-los para 'Outra'\n"
     ]
    }
   ],
   "source": [
    "print(\"Aqui ocorre novamente o caso de haver o valor 'Não' ao invés de 'Não Informado', ou neste caso, 'Sem religião'.\")\n",
    "print(\"Dificilmente será possível recuperar este dado\")\n",
    "print(\"Deve ser decidido por um especilista de negócio qual o valor padrão\")\n",
    "print(\"Valores padrão sugeridos: 'Não Informado'\")\n",
    "print(\"\\nHá diversas ocorrências que não aparentam ser religiões conhecidas:\")\n",
    "print(f\"{[\n",
    "    'ESB ALMIRANTE', '10 EAP 01', 'Acomp. Cresc. e Desenv. da Criança',\n",
    "    'ORQUIDEA', 'Sim'\n",
    "]}\")\n",
    "count_religioes_nao_reconhecidas = df[\"religiao\"].isin([\n",
    "    'ESB ALMIRANTE', '10 EAP 01', 'Acomp. Cresc. e Desenv. da Criança',\n",
    "    'ORQUIDEA', 'Sim'\n",
    "]).sum()\n",
    "print(f\"Como estes valores são poucos ({count_religioes_nao_reconhecidas}), é razoável mudál-los para 'Outra'\")"
   ]
  },
  {
   "cell_type": "code",
   "execution_count": 40,
   "metadata": {},
   "outputs": [
    {
     "data": {
      "text/plain": [
       "np.int64(15)"
      ]
     },
     "execution_count": 40,
     "metadata": {},
     "output_type": "execute_result"
    }
   ],
   "source": [
    "df[\"religiao\"].isin([\n",
    "    'ESB ALMIRANTE', '10 EAP 01', 'Acomp. Cresc. e Desenv. da Criança',\n",
    "    'ORQUIDEA', 'Sim'\n",
    "]).sum()"
   ]
  },
  {
   "cell_type": "markdown",
   "metadata": {},
   "source": [
    "# Coluna: luz_eletrica"
   ]
  },
  {
   "cell_type": "code",
   "execution_count": 43,
   "metadata": {},
   "outputs": [
    {
     "name": "stdout",
     "output_type": "stream",
     "text": [
      "Valores únicos da coluna 'luz_eletrica': ['True' '1' '0' 'False']\n",
      "Novamente, há dois padrões diferentes para representar a mesma informação\n",
      "As ocorrências no padrão (0, 1) devem ser convertidas para (False, True)\n"
     ]
    }
   ],
   "source": [
    "print(f\"Valores únicos da coluna 'luz_eletrica': {df[\"luz_eletrica\"].unique()}\")\n",
    "print(\"Novamente, há dois padrões diferentes para representar a mesma informação\")\n",
    "print(\"As ocorrências no padrão (0, 1) devem ser convertidas para (False, True)\")"
   ]
  }
 ],
 "metadata": {
  "kernelspec": {
   "display_name": "Python 3",
   "language": "python",
   "name": "python3"
  },
  "language_info": {
   "codemirror_mode": {
    "name": "ipython",
    "version": 3
   },
   "file_extension": ".py",
   "mimetype": "text/x-python",
   "name": "python",
   "nbconvert_exporter": "python",
   "pygments_lexer": "ipython3",
   "version": "3.13.2"
  }
 },
 "nbformat": 4,
 "nbformat_minor": 2
}
