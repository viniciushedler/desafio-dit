{
 "cells": [
  {
   "cell_type": "code",
   "execution_count": 2,
   "metadata": {},
   "outputs": [],
   "source": [
    "import re\n",
    "import unicodedata\n",
    "\n",
    "import pandas as pd"
   ]
  },
  {
   "cell_type": "code",
   "execution_count": 3,
   "metadata": {},
   "outputs": [
    {
     "name": "stdout",
     "output_type": "stream",
     "text": [
      "Visualização inicial do dataframe:\n"
     ]
    },
    {
     "data": {
      "text/html": [
       "<div>\n",
       "<style scoped>\n",
       "    .dataframe tbody tr th:only-of-type {\n",
       "        vertical-align: middle;\n",
       "    }\n",
       "\n",
       "    .dataframe tbody tr th {\n",
       "        vertical-align: top;\n",
       "    }\n",
       "\n",
       "    .dataframe thead th {\n",
       "        text-align: right;\n",
       "    }\n",
       "</style>\n",
       "<table border=\"1\" class=\"dataframe\">\n",
       "  <thead>\n",
       "    <tr style=\"text-align: right;\">\n",
       "      <th></th>\n",
       "      <th>id_paciente</th>\n",
       "      <th>sexo</th>\n",
       "      <th>obito</th>\n",
       "      <th>bairro</th>\n",
       "      <th>raca_cor</th>\n",
       "      <th>ocupacao</th>\n",
       "      <th>religiao</th>\n",
       "      <th>luz_eletrica</th>\n",
       "      <th>data_cadastro</th>\n",
       "      <th>escolaridade</th>\n",
       "      <th>...</th>\n",
       "      <th>familia_beneficiaria_auxilio_brasil</th>\n",
       "      <th>crianca_matriculada_creche_pre_escola</th>\n",
       "      <th>altura</th>\n",
       "      <th>peso</th>\n",
       "      <th>pressao_sistolica</th>\n",
       "      <th>pressao_diastolica</th>\n",
       "      <th>n_atendimentos_atencao_primaria</th>\n",
       "      <th>n_atendimentos_hospital</th>\n",
       "      <th>updated_at</th>\n",
       "      <th>tipo</th>\n",
       "    </tr>\n",
       "  </thead>\n",
       "  <tbody>\n",
       "    <tr>\n",
       "      <th>0</th>\n",
       "      <td>cd6daa6e-038d-4952-af29-579e62e07f97</td>\n",
       "      <td>male</td>\n",
       "      <td>0</td>\n",
       "      <td>Parada de Lucas</td>\n",
       "      <td>Branca</td>\n",
       "      <td>Não se aplica</td>\n",
       "      <td>Sem religião</td>\n",
       "      <td>True</td>\n",
       "      <td>2021-06-24 00:00:00.000</td>\n",
       "      <td>Fundamental Incompleto</td>\n",
       "      <td>...</td>\n",
       "      <td>0</td>\n",
       "      <td>0</td>\n",
       "      <td>172.0</td>\n",
       "      <td>52.5</td>\n",
       "      <td>110.0</td>\n",
       "      <td>70.0</td>\n",
       "      <td>8</td>\n",
       "      <td>9</td>\n",
       "      <td>2021-06-01 00:00:00.000</td>\n",
       "      <td>historico</td>\n",
       "    </tr>\n",
       "    <tr>\n",
       "      <th>1</th>\n",
       "      <td>ad6cecb2-3a44-49ab-b2f3-6f9ffc2e2ec7</td>\n",
       "      <td>male</td>\n",
       "      <td>0</td>\n",
       "      <td>Cidade Nova</td>\n",
       "      <td>Parda</td>\n",
       "      <td>Assistente Administrativo</td>\n",
       "      <td>Evangélica</td>\n",
       "      <td>1</td>\n",
       "      <td>2021-01-07 00:00:00.000</td>\n",
       "      <td>Médio Incompleto</td>\n",
       "      <td>...</td>\n",
       "      <td>1</td>\n",
       "      <td>0</td>\n",
       "      <td>158.0</td>\n",
       "      <td>76.2</td>\n",
       "      <td>140.0</td>\n",
       "      <td>80.0</td>\n",
       "      <td>0</td>\n",
       "      <td>6</td>\n",
       "      <td>2020-06-25 00:00:00.000</td>\n",
       "      <td>historico</td>\n",
       "    </tr>\n",
       "    <tr>\n",
       "      <th>2</th>\n",
       "      <td>54e834e7-e722-4daa-8909-cf917a1247e6</td>\n",
       "      <td>male</td>\n",
       "      <td>0</td>\n",
       "      <td>Santa cruz</td>\n",
       "      <td>Parda</td>\n",
       "      <td>Não se aplica</td>\n",
       "      <td>Católica</td>\n",
       "      <td>1</td>\n",
       "      <td>2021-02-18 00:00:00.000</td>\n",
       "      <td>Fundamental Completo</td>\n",
       "      <td>...</td>\n",
       "      <td>0</td>\n",
       "      <td>0</td>\n",
       "      <td>53.0</td>\n",
       "      <td>82.5</td>\n",
       "      <td>180.0</td>\n",
       "      <td>60.0</td>\n",
       "      <td>5</td>\n",
       "      <td>2</td>\n",
       "      <td>2020-03-02 00:00:00.000</td>\n",
       "      <td>historico</td>\n",
       "    </tr>\n",
       "  </tbody>\n",
       "</table>\n",
       "<p>3 rows × 35 columns</p>\n",
       "</div>"
      ],
      "text/plain": [
       "                            id_paciente  sexo obito           bairro raca_cor  \\\n",
       "0  cd6daa6e-038d-4952-af29-579e62e07f97  male     0  Parada de Lucas   Branca   \n",
       "1  ad6cecb2-3a44-49ab-b2f3-6f9ffc2e2ec7  male     0      Cidade Nova    Parda   \n",
       "2  54e834e7-e722-4daa-8909-cf917a1247e6  male     0       Santa cruz    Parda   \n",
       "\n",
       "                    ocupacao      religiao luz_eletrica  \\\n",
       "0              Não se aplica  Sem religião         True   \n",
       "1  Assistente Administrativo    Evangélica            1   \n",
       "2              Não se aplica      Católica            1   \n",
       "\n",
       "             data_cadastro            escolaridade  ...  \\\n",
       "0  2021-06-24 00:00:00.000  Fundamental Incompleto  ...   \n",
       "1  2021-01-07 00:00:00.000        Médio Incompleto  ...   \n",
       "2  2021-02-18 00:00:00.000    Fundamental Completo  ...   \n",
       "\n",
       "  familia_beneficiaria_auxilio_brasil crianca_matriculada_creche_pre_escola  \\\n",
       "0                                   0                                     0   \n",
       "1                                   1                                     0   \n",
       "2                                   0                                     0   \n",
       "\n",
       "  altura  peso  pressao_sistolica pressao_diastolica  \\\n",
       "0  172.0  52.5              110.0               70.0   \n",
       "1  158.0  76.2              140.0               80.0   \n",
       "2   53.0  82.5              180.0               60.0   \n",
       "\n",
       "  n_atendimentos_atencao_primaria n_atendimentos_hospital  \\\n",
       "0                               8                       9   \n",
       "1                               0                       6   \n",
       "2                               5                       2   \n",
       "\n",
       "                updated_at       tipo  \n",
       "0  2021-06-01 00:00:00.000  historico  \n",
       "1  2020-06-25 00:00:00.000  historico  \n",
       "2  2020-03-02 00:00:00.000  historico  \n",
       "\n",
       "[3 rows x 35 columns]"
      ]
     },
     "execution_count": 3,
     "metadata": {},
     "output_type": "execute_result"
    }
   ],
   "source": [
    "df = pd.read_csv(\"../data/input/dados_ficha_a_desafio.csv\")\n",
    "print(f\"Visualização inicial do dataframe:\")\n",
    "df.head(3)"
   ]
  },
  {
   "cell_type": "code",
   "execution_count": 4,
   "metadata": {},
   "outputs": [
    {
     "name": "stdout",
     "output_type": "stream",
     "text": [
      "Colunas do dataframe:\n",
      "Index(['id_paciente', 'sexo', 'obito', 'bairro', 'raca_cor', 'ocupacao',\n",
      "       'religiao', 'luz_eletrica', 'data_cadastro', 'escolaridade',\n",
      "       'nacionalidade', 'renda_familiar', 'data_nascimento',\n",
      "       'em_situacao_de_rua', 'frequenta_escola', 'meios_transporte',\n",
      "       'doencas_condicoes', 'identidade_genero', 'meios_comunicacao',\n",
      "       'orientacao_sexual', 'possui_plano_saude', 'em_caso_doenca_procura',\n",
      "       'situacao_profissional', 'vulnerabilidade_social',\n",
      "       'data_atualizacao_cadastro', 'familia_beneficiaria_auxilio_brasil',\n",
      "       'crianca_matriculada_creche_pre_escola', 'altura', 'peso',\n",
      "       'pressao_sistolica', 'pressao_diastolica',\n",
      "       'n_atendimentos_atencao_primaria', 'n_atendimentos_hospital',\n",
      "       'updated_at', 'tipo'],\n",
      "      dtype='object')\n"
     ]
    }
   ],
   "source": [
    "print(f\"Colunas do dataframe:\")\n",
    "print(df.columns)"
   ]
  },
  {
   "cell_type": "markdown",
   "metadata": {},
   "source": [
    "# Coluna: id_paciente"
   ]
  },
  {
   "cell_type": "markdown",
   "metadata": {},
   "source": [
    "## Requisito: Unicidade"
   ]
  },
  {
   "cell_type": "code",
   "execution_count": 5,
   "metadata": {},
   "outputs": [
    {
     "name": "stdout",
     "output_type": "stream",
     "text": [
      "Avaliando se todas as entradas de 'id_paciente' são únicas:\n",
      "count\n",
      "1    98007\n",
      "2      986\n",
      "3        7\n",
      "Name: count, dtype: int64\n"
     ]
    }
   ],
   "source": [
    "print(\"Avaliando se todas as entradas de 'id_paciente' são únicas:\")\n",
    "id_counts = df[\"id_paciente\"].value_counts()\n",
    "id_counts_counts = id_counts.value_counts()\n",
    "print(id_counts_counts)"
   ]
  },
  {
   "cell_type": "code",
   "execution_count": 6,
   "metadata": {},
   "outputs": [
    {
     "name": "stdout",
     "output_type": "stream",
     "text": [
      "Há 986 id's duplicados e 7 id's triplicados\n",
      "Mostrando todas as ocorrências para o id triplicado '49cf308b-411f-4fd5-a33d-0446d48de446'\n"
     ]
    },
    {
     "data": {
      "text/html": [
       "<div>\n",
       "<style scoped>\n",
       "    .dataframe tbody tr th:only-of-type {\n",
       "        vertical-align: middle;\n",
       "    }\n",
       "\n",
       "    .dataframe tbody tr th {\n",
       "        vertical-align: top;\n",
       "    }\n",
       "\n",
       "    .dataframe thead th {\n",
       "        text-align: right;\n",
       "    }\n",
       "</style>\n",
       "<table border=\"1\" class=\"dataframe\">\n",
       "  <thead>\n",
       "    <tr style=\"text-align: right;\">\n",
       "      <th></th>\n",
       "      <th>id_paciente</th>\n",
       "      <th>sexo</th>\n",
       "      <th>obito</th>\n",
       "      <th>bairro</th>\n",
       "      <th>raca_cor</th>\n",
       "      <th>ocupacao</th>\n",
       "      <th>religiao</th>\n",
       "      <th>luz_eletrica</th>\n",
       "      <th>data_cadastro</th>\n",
       "      <th>escolaridade</th>\n",
       "      <th>...</th>\n",
       "      <th>familia_beneficiaria_auxilio_brasil</th>\n",
       "      <th>crianca_matriculada_creche_pre_escola</th>\n",
       "      <th>altura</th>\n",
       "      <th>peso</th>\n",
       "      <th>pressao_sistolica</th>\n",
       "      <th>pressao_diastolica</th>\n",
       "      <th>n_atendimentos_atencao_primaria</th>\n",
       "      <th>n_atendimentos_hospital</th>\n",
       "      <th>updated_at</th>\n",
       "      <th>tipo</th>\n",
       "    </tr>\n",
       "  </thead>\n",
       "  <tbody>\n",
       "    <tr>\n",
       "      <th>42083</th>\n",
       "      <td>49cf308b-411f-4fd5-a33d-0446d48de446</td>\n",
       "      <td>female</td>\n",
       "      <td>0</td>\n",
       "      <td>Catumbi</td>\n",
       "      <td>Branca</td>\n",
       "      <td>Técnico Mecânico</td>\n",
       "      <td>Religião de matriz africana</td>\n",
       "      <td>1</td>\n",
       "      <td>2023-08-29 10:59:09.410</td>\n",
       "      <td>Fundamental Incompleto</td>\n",
       "      <td>...</td>\n",
       "      <td>0</td>\n",
       "      <td>0</td>\n",
       "      <td>117.0</td>\n",
       "      <td>80.20</td>\n",
       "      <td>120.0</td>\n",
       "      <td>70.0</td>\n",
       "      <td>0</td>\n",
       "      <td>12</td>\n",
       "      <td>2020-03-02 00:00:00.000</td>\n",
       "      <td>historico</td>\n",
       "    </tr>\n",
       "    <tr>\n",
       "      <th>48094</th>\n",
       "      <td>49cf308b-411f-4fd5-a33d-0446d48de446</td>\n",
       "      <td>female</td>\n",
       "      <td>0</td>\n",
       "      <td>Irajá</td>\n",
       "      <td>Branca</td>\n",
       "      <td>Não se aplica</td>\n",
       "      <td>Outra</td>\n",
       "      <td>1</td>\n",
       "      <td>2021-03-24 19:35:47</td>\n",
       "      <td>Superior completo</td>\n",
       "      <td>...</td>\n",
       "      <td>0</td>\n",
       "      <td>1</td>\n",
       "      <td>158.0</td>\n",
       "      <td>70.85</td>\n",
       "      <td>170.0</td>\n",
       "      <td>100.0</td>\n",
       "      <td>0</td>\n",
       "      <td>7</td>\n",
       "      <td>2020-09-02 00:00:00.000</td>\n",
       "      <td>historico</td>\n",
       "    </tr>\n",
       "    <tr>\n",
       "      <th>87084</th>\n",
       "      <td>49cf308b-411f-4fd5-a33d-0446d48de446</td>\n",
       "      <td>female</td>\n",
       "      <td>False</td>\n",
       "      <td>Alto da Boa Vista</td>\n",
       "      <td>Parda</td>\n",
       "      <td>Empregado doméstico nos serviços gerais</td>\n",
       "      <td>Sem religião</td>\n",
       "      <td>1</td>\n",
       "      <td>2022-05-11 08:45:32.933</td>\n",
       "      <td>Fundamental Incompleto</td>\n",
       "      <td>...</td>\n",
       "      <td>0</td>\n",
       "      <td>1</td>\n",
       "      <td>155.0</td>\n",
       "      <td>18.60</td>\n",
       "      <td>143.0</td>\n",
       "      <td>70.0</td>\n",
       "      <td>0</td>\n",
       "      <td>3</td>\n",
       "      <td>2022-05-13 00:00:00.000</td>\n",
       "      <td>historico</td>\n",
       "    </tr>\n",
       "  </tbody>\n",
       "</table>\n",
       "<p>3 rows × 35 columns</p>\n",
       "</div>"
      ],
      "text/plain": [
       "                                id_paciente    sexo  obito             bairro  \\\n",
       "42083  49cf308b-411f-4fd5-a33d-0446d48de446  female      0            Catumbi   \n",
       "48094  49cf308b-411f-4fd5-a33d-0446d48de446  female      0              Irajá   \n",
       "87084  49cf308b-411f-4fd5-a33d-0446d48de446  female  False  Alto da Boa Vista   \n",
       "\n",
       "      raca_cor                                 ocupacao  \\\n",
       "42083   Branca                         Técnico Mecânico   \n",
       "48094   Branca                            Não se aplica   \n",
       "87084    Parda  Empregado doméstico nos serviços gerais   \n",
       "\n",
       "                          religiao luz_eletrica            data_cadastro  \\\n",
       "42083  Religião de matriz africana            1  2023-08-29 10:59:09.410   \n",
       "48094                        Outra            1      2021-03-24 19:35:47   \n",
       "87084                 Sem religião            1  2022-05-11 08:45:32.933   \n",
       "\n",
       "                 escolaridade  ... familia_beneficiaria_auxilio_brasil  \\\n",
       "42083  Fundamental Incompleto  ...                                   0   \n",
       "48094       Superior completo  ...                                   0   \n",
       "87084  Fundamental Incompleto  ...                                   0   \n",
       "\n",
       "      crianca_matriculada_creche_pre_escola altura   peso  pressao_sistolica  \\\n",
       "42083                                     0  117.0  80.20              120.0   \n",
       "48094                                     1  158.0  70.85              170.0   \n",
       "87084                                     1  155.0  18.60              143.0   \n",
       "\n",
       "      pressao_diastolica n_atendimentos_atencao_primaria  \\\n",
       "42083               70.0                               0   \n",
       "48094              100.0                               0   \n",
       "87084               70.0                               0   \n",
       "\n",
       "      n_atendimentos_hospital               updated_at       tipo  \n",
       "42083                      12  2020-03-02 00:00:00.000  historico  \n",
       "48094                       7  2020-09-02 00:00:00.000  historico  \n",
       "87084                       3  2022-05-13 00:00:00.000  historico  \n",
       "\n",
       "[3 rows x 35 columns]"
      ]
     },
     "execution_count": 6,
     "metadata": {},
     "output_type": "execute_result"
    }
   ],
   "source": [
    "print(f\"Há {id_counts_counts[2]} id's duplicados e {id_counts_counts[3]} id's triplicados\")\n",
    "id_triplicado_exemplo = id_counts[id_counts == 3].index[0]\n",
    "print(f\"Mostrando todas as ocorrências para o id triplicado '{id_triplicado_exemplo}'\")\n",
    "df[df[\"id_paciente\"] == id_triplicado_exemplo]"
   ]
  },
  {
   "cell_type": "code",
   "execution_count": 7,
   "metadata": {},
   "outputs": [
    {
     "name": "stdout",
     "output_type": "stream",
     "text": [
      "Avaliando se há algum id duplicado/triplicado com repetição dos dados\n",
      "Total de entradas duplicadas/triplicadas com todos os dados iguais: 0\n",
      "Avaliando quão semelhante os id's repetidos são (caso sejam leves modificações dos mesmos pacientes):\n",
      "Valor máximo da média de valores iguais entre os id's duplicados/triplicados: 55.88%\n",
      "Avaliação final: os id's duplicados/triplicados são de pacientes diferentes\n"
     ]
    }
   ],
   "source": [
    "print(\"Avaliando se há algum id duplicado/triplicado com repetição dos dados\")\n",
    "duplicated_ids = id_counts[id_counts > 1].index\n",
    "duplicated_entries = df[df[\"id_paciente\"].isin(duplicated_ids)]\n",
    "grouped = duplicated_entries.groupby(\"id_paciente\").nunique()\n",
    "grouped\n",
    "\n",
    "# Checando se há entradas duplicadas/triplicadas com todos os dados iguais\n",
    "equal_entries = grouped[grouped.eq(1).all(axis=1)]\n",
    "print(f\"Total de entradas duplicadas/triplicadas com todos os dados iguais: {equal_entries.shape[0]}\")\n",
    "print(f\"Avaliando quão semelhante os id's repetidos são (caso sejam leves modificações dos mesmos pacientes):\")\n",
    "entries_similarity = grouped.eq(1).mean(axis=1).sort_values(ascending=False).head(10)\n",
    "print(f\"Valor máximo da média de valores iguais entre os id's duplicados/triplicados: {entries_similarity.max():.2%}\")\n",
    "print(f\"Avaliação final: os id's duplicados/triplicados são de pacientes diferentes\")"
   ]
  },
  {
   "cell_type": "markdown",
   "metadata": {},
   "source": [
    "## Requisito: Máscara"
   ]
  },
  {
   "cell_type": "code",
   "execution_count": 8,
   "metadata": {},
   "outputs": [],
   "source": [
    "def verificar_mascara_id_paciente(id_paciente: str) -> bool:\n",
    "    \"\"\"\n",
    "    Verifica se a máscara do id_paciente está correta.\n",
    "    \"\"\"\n",
    "    return bool(re.match(r\"^[a-zA-Z0-9]{8}-[a-zA-Z0-9]{4}-[a-zA-Z0-9]{4}-[a-zA-Z0-9]{4}-[a-zA-Z0-9]{12}$\", id_paciente))"
   ]
  },
  {
   "cell_type": "code",
   "execution_count": 9,
   "metadata": {},
   "outputs": [
    {
     "name": "stdout",
     "output_type": "stream",
     "text": [
      "Todos os id's respeitam a máscara? True\n"
     ]
    }
   ],
   "source": [
    "print(f\"Todos os id's respeitam a máscara? {str(df[\"id_paciente\"].apply(verificar_mascara_id_paciente).all())}\")"
   ]
  },
  {
   "cell_type": "markdown",
   "metadata": {},
   "source": [
    "# Coluna: sexo"
   ]
  },
  {
   "cell_type": "code",
   "execution_count": 10,
   "metadata": {},
   "outputs": [
    {
     "name": "stdout",
     "output_type": "stream",
     "text": [
      "Valores únicos da coluna 'sexo': ['male' 'female']\n",
      "Está ok, porém o dado está em inglês, enquanto o resto da base está em português.\n"
     ]
    }
   ],
   "source": [
    "print(f\"Valores únicos da coluna 'sexo': {df[\"sexo\"].unique()}\")\n",
    "print(f\"Está ok, porém o dado está em inglês, enquanto o resto da base está em português.\")"
   ]
  },
  {
   "cell_type": "markdown",
   "metadata": {},
   "source": [
    "# Coluna: obito"
   ]
  },
  {
   "cell_type": "code",
   "execution_count": 11,
   "metadata": {},
   "outputs": [
    {
     "name": "stdout",
     "output_type": "stream",
     "text": [
      "Valores únicos da coluna 'obito': ['0' 'False' '1' 'True']\n",
      "O dado está inconsistente, variando entre (0, 1) e (False, True)\n",
      "Isto deve ser corrigido para ficar consistente.\n"
     ]
    }
   ],
   "source": [
    "print(f\"Valores únicos da coluna 'obito': {df[\"obito\"].unique()}\")\n",
    "print(\"O dado está inconsistente, variando entre (0, 1) e (False, True)\")\n",
    "print(\"Isto deve ser corrigido para ficar consistente.\")"
   ]
  },
  {
   "cell_type": "markdown",
   "metadata": {},
   "source": [
    "# Coluna: bairro"
   ]
  },
  {
   "cell_type": "code",
   "execution_count": 12,
   "metadata": {},
   "outputs": [
    {
     "name": "stdout",
     "output_type": "stream",
     "text": [
      "Valores únicos da coluna 'bairro': ['Parada de Lucas' 'Cidade Nova' 'Santa cruz' 'Bangu' 'Santíssimo'\n",
      " 'Jardim Vinte e Cinco de Agosto' 'Penha Circular' 'Guadalupe'\n",
      " 'Manguinhos' 'Irajá']\n"
     ]
    }
   ],
   "source": [
    "print(f\"Valores únicos da coluna 'bairro': {df[\"bairro\"].unique()[:10]}\")"
   ]
  },
  {
   "cell_type": "code",
   "execution_count": 13,
   "metadata": {},
   "outputs": [],
   "source": [
    "def salvar_count_unique(\n",
    "    series: pd.Series,\n",
    "    path: str,\n",
    "    ascending: bool = True,\n",
    "    verbose: bool = False\n",
    "    ) -> None:\n",
    "    \"\"\"\n",
    "    Salva a contagem de valores únicos de uma série em um arquivo CSV. O foco \n",
    "    desta função é auxiliar a encontrar valores errados/problemáticos em uma\n",
    "    série cheia de valores únicos.\n",
    "    \n",
    "    Os valores únicos são ordenados de acordo com a contagem de ocorrências, e\n",
    "    então salvos em um arquivo CSV para serem avaliados, dando prioridade aos\n",
    "    valores com menor ocorrência. Isto é feito porque se assume que os valores\n",
    "    com uma ocorrência média/alta são menos sucetíveis a serem erros.\n",
    "    \n",
    "    Isto deve ser feito para economizar esforço. Avaliar todos os valores únicos\n",
    "    da série é uma abordagem mais eficaz (porém menos eficiente).\n",
    "\n",
    "    Parameters\n",
    "    ----------\n",
    "    series : pd.Series\n",
    "        A série com os valores (não únicos) a serem avaliados.\n",
    "    path : str\n",
    "        O caminho para salvar o arquivo CSV.\n",
    "    ascending : bool, optional\n",
    "        Se os valores devem ser ordenados em ordem crescente. O padrão é True.\n",
    "    verbose : bool, optional\n",
    "        Se deve imprimir mensagens de log. O padrão é False.\n",
    "    \"\"\"\n",
    "    if verbose:\n",
    "        print(f\"Arquivo com contagem salvo em: {path}\")\n",
    "    series.value_counts().sort_values(ascending=ascending).to_csv(path)"
   ]
  },
  {
   "cell_type": "code",
   "execution_count": 14,
   "metadata": {},
   "outputs": [
    {
     "name": "stdout",
     "output_type": "stream",
     "text": [
      "Avaliando os bairros com menor quantidade de ocorrências\n",
      "Arquivo com contagem salvo em: ../data/output/bairro_counts.csv\n",
      "Foram avaliados os nomes dos bairros, focando nos bairros com menor ocorrência\n",
      "Isso porque se assume que caso um bairro tenha alta quantidade de ocorrências, dificilmente será um dado errado\n",
      "Não foi identificado nenhum bairro com nome problemático\n"
     ]
    }
   ],
   "source": [
    "print(f\"Avaliando os bairros com menor quantidade de ocorrências\")\n",
    "local_bairro_counts = \"../data/output/bairro_counts.csv\"\n",
    "salvar_count_unique(df[\"bairro\"], local_bairro_counts, verbose=True)\n",
    "print(\"Foram avaliados os nomes dos bairros, focando nos bairros com menor ocorrência\")\n",
    "print(\"Isso porque se assume que caso um bairro tenha alta quantidade de ocorrências, dificilmente será um dado errado\")\n",
    "print(\"Não foi identificado nenhum bairro com nome problemático\")"
   ]
  },
  {
   "cell_type": "markdown",
   "metadata": {},
   "source": [
    "# Coluna: raca_cor"
   ]
  },
  {
   "cell_type": "code",
   "execution_count": 15,
   "metadata": {},
   "outputs": [
    {
     "name": "stdout",
     "output_type": "stream",
     "text": [
      "Valores únicos da coluna 'raca_cor': ['Branca' 'Parda' 'Preta' 'Amarela' 'Não' 'Indígena']\n",
      "Uma das ocorrências é 'Não' (3 ocorrências)\n",
      "Isto parece errado, com o dado equivalente esperado sendo 'Não Informado'\n"
     ]
    }
   ],
   "source": [
    "print(f\"Valores únicos da coluna 'raca_cor': {df[\"raca_cor\"].unique()}\")\n",
    "print(f\"Uma das ocorrências é 'Não' ({df['raca_cor'].value_counts()['Não']} ocorrências)\")\n",
    "print(\"Isto parece errado, com o dado equivalente esperado sendo 'Não Informado'\")"
   ]
  },
  {
   "cell_type": "markdown",
   "metadata": {},
   "source": [
    "# Coluna: ocupacao"
   ]
  },
  {
   "cell_type": "code",
   "execution_count": 16,
   "metadata": {},
   "outputs": [
    {
     "name": "stdout",
     "output_type": "stream",
     "text": [
      "Valores únicos da coluna 'ocupacao': ['Não se aplica' 'Assistente Administrativo'\n",
      " 'Representante Comercial Autônomo' ... 'Assistente de Coreografia'\n",
      " 'Produtor de Espécies Frutíferas Rasteiras'\n",
      " 'Supervisor da confecção de artefatos de tecidos, couros e afins']\n",
      "Arquivo com contagem salvo em: ../data/output/ocupacao_counts.csv\n",
      "Diversas entradas possuem o token \". Isto não fica aparente no python, mas deve ser corrigido\n"
     ]
    }
   ],
   "source": [
    "print(f\"Valores únicos da coluna 'ocupacao': {df[\"ocupacao\"].unique()}\")\n",
    "salvar_count_unique(df[\"ocupacao\"], \"../data/output/ocupacao_counts.csv\", verbose=True)\n",
    "print(\"Diversas entradas possuem o token \\\". Isto não fica aparente no python, mas deve ser corrigido\")"
   ]
  },
  {
   "cell_type": "markdown",
   "metadata": {},
   "source": [
    "# Coluna: religiao"
   ]
  },
  {
   "cell_type": "code",
   "execution_count": 17,
   "metadata": {},
   "outputs": [
    {
     "name": "stdout",
     "output_type": "stream",
     "text": [
      "Valores únicos da coluna 'religiao': ['Sem religião' 'Evangélica' 'Católica' 'Outra' 'Espírita'\n",
      " 'Religião de matriz africana' 'Não' 'Budismo' 'Judaísmo' 'ESB ALMIRANTE'\n",
      " 'Candomblé' 'Islamismo' '10 EAP 01' 'Acomp. Cresc. e Desenv. da Criança'\n",
      " 'ORQUIDEA' 'Sim']\n",
      "\n",
      "Contagem das ocorrências de cada valor:\n",
      "\n",
      "religiao\n",
      "Sem religião                          35119\n",
      "Católica                              28348\n",
      "Outra                                 18714\n",
      "Evangélica                            14798\n",
      "Espírita                               1974\n",
      "Religião de matriz africana             731\n",
      "Não                                     174\n",
      "Budismo                                  81\n",
      "Judaísmo                                 32\n",
      "Islamismo                                 8\n",
      "Acomp. Cresc. e Desenv. da Criança        7\n",
      "Candomblé                                 6\n",
      "ESB ALMIRANTE                             5\n",
      "10 EAP 01                                 1\n",
      "ORQUIDEA                                  1\n",
      "Sim                                       1\n",
      "Name: count, dtype: int64\n"
     ]
    }
   ],
   "source": [
    "print(f\"Valores únicos da coluna 'religiao': {df[\"religiao\"].unique()}\")\n",
    "print(\"\\nContagem das ocorrências de cada valor:\\n\")\n",
    "print(df[\"religiao\"].value_counts())"
   ]
  },
  {
   "cell_type": "code",
   "execution_count": 18,
   "metadata": {},
   "outputs": [
    {
     "name": "stdout",
     "output_type": "stream",
     "text": [
      "Aqui ocorre novamente o caso de haver o valor 'Não' ao invés de 'Não Informado', ou neste caso, 'Sem religião'.\n",
      "Dificilmente será possível recuperar este dado\n",
      "Deve ser decidido por um especilista de negócio qual o valor padrão\n",
      "Valores padrão sugeridos: 'Não Informado'\n",
      "\n",
      "Há diversas ocorrências que não aparentam ser religiões conhecidas:\n",
      "['ESB ALMIRANTE', '10 EAP 01', 'Acomp. Cresc. e Desenv. da Criança', 'ORQUIDEA', 'Sim']\n",
      "Como estes valores são poucos (15), é razoável mudál-los para 'Outra'\n"
     ]
    }
   ],
   "source": [
    "print(\"Aqui ocorre novamente o caso de haver o valor 'Não' ao invés de 'Não Informado', ou neste caso, 'Sem religião'.\")\n",
    "print(\"Dificilmente será possível recuperar este dado\")\n",
    "print(\"Deve ser decidido por um especilista de negócio qual o valor padrão\")\n",
    "print(\"Valores padrão sugeridos: 'Não Informado'\")\n",
    "print(\"\\nHá diversas ocorrências que não aparentam ser religiões conhecidas:\")\n",
    "print(f\"{[\n",
    "    'ESB ALMIRANTE', '10 EAP 01', 'Acomp. Cresc. e Desenv. da Criança',\n",
    "    'ORQUIDEA', 'Sim'\n",
    "]}\")\n",
    "count_religioes_nao_reconhecidas = df[\"religiao\"].isin([\n",
    "    'ESB ALMIRANTE', '10 EAP 01', 'Acomp. Cresc. e Desenv. da Criança',\n",
    "    'ORQUIDEA', 'Sim'\n",
    "]).sum()\n",
    "print(f\"Como estes valores são poucos ({count_religioes_nao_reconhecidas}), é razoável mudál-los para 'Outra'\")"
   ]
  },
  {
   "cell_type": "code",
   "execution_count": 19,
   "metadata": {},
   "outputs": [
    {
     "data": {
      "text/plain": [
       "np.int64(15)"
      ]
     },
     "execution_count": 19,
     "metadata": {},
     "output_type": "execute_result"
    }
   ],
   "source": [
    "df[\"religiao\"].isin([\n",
    "    'ESB ALMIRANTE', '10 EAP 01', 'Acomp. Cresc. e Desenv. da Criança',\n",
    "    'ORQUIDEA', 'Sim'\n",
    "]).sum()"
   ]
  },
  {
   "cell_type": "markdown",
   "metadata": {},
   "source": [
    "# Coluna: luz_eletrica"
   ]
  },
  {
   "cell_type": "code",
   "execution_count": 20,
   "metadata": {},
   "outputs": [
    {
     "name": "stdout",
     "output_type": "stream",
     "text": [
      "Valores únicos da coluna 'luz_eletrica': ['True' '1' '0' 'False']\n",
      "Novamente, há dois padrões diferentes para representar a mesma informação\n",
      "As ocorrências no padrão (0, 1) devem ser convertidas para (False, True)\n"
     ]
    }
   ],
   "source": [
    "print(f\"Valores únicos da coluna 'luz_eletrica': {df[\"luz_eletrica\"].unique()}\")\n",
    "print(\"Novamente, há dois padrões diferentes para representar a mesma informação\")\n",
    "print(\"As ocorrências no padrão (0, 1) devem ser convertidas para (False, True)\")"
   ]
  },
  {
   "cell_type": "markdown",
   "metadata": {},
   "source": [
    "# Coluna: data_cadastro"
   ]
  },
  {
   "cell_type": "code",
   "execution_count": 21,
   "metadata": {},
   "outputs": [
    {
     "name": "stdout",
     "output_type": "stream",
     "text": [
      "Valores únicos da coluna 'data_cadastro': ['2021-06-24 00:00:00.000' '2021-01-07 00:00:00.000'\n",
      " '2021-02-18 00:00:00.000' ... '2021-07-28 11:17:00'\n",
      " '2022-05-11 11:11:51.667' '2021-12-15 12:01:59.133']\n",
      "Todas as entradas na coluna 'data_cadastro' são datas\n"
     ]
    }
   ],
   "source": [
    "print(f\"Valores únicos da coluna 'data_cadastro': {df[\"data_cadastro\"].unique()}\")\n",
    "# Verificando se todas as entradas da coluna 'data_cadastro' são do tipo datetime\n",
    "series_cadastro = pd.to_datetime(df['data_cadastro'], format='mixed', errors='coerce')\n",
    "if series_cadastro.isnull().any():\n",
    "    print(\"Há entradas na coluna 'data_cadastro' que não são datas\")\n",
    "else:\n",
    "    print(\"Todas as entradas na coluna 'data_cadastro' são datas\")"
   ]
  },
  {
   "cell_type": "code",
   "execution_count": 22,
   "metadata": {},
   "outputs": [
    {
     "name": "stdout",
     "output_type": "stream",
     "text": [
      "Data mais antiga: 2012-12-26 00:00:00\n",
      "Data mais recente: 2210-07-15 18:16:26.967000\n",
      "Datas mais recentes que hoje: 1\n",
      "Datas mais recentes que 2025-02-13 (data de recebimento do teste): 1\n",
      "A correção da data '2210-07-15' não é simples. Caso seja possível, deve ser coletada a data em que este dado foi inserido no banco\n"
     ]
    }
   ],
   "source": [
    "print(f\"Data mais antiga: {series_cadastro.min()}\")\n",
    "print(f\"Data mais recente: {series_cadastro.max()}\")\n",
    "print(f\"Datas mais recentes que hoje: {series_cadastro[series_cadastro > pd.Timestamp.today()].count()}\")\n",
    "print(f\"Datas mais recentes que 2025-02-13 (data de recebimento do teste): {series_cadastro[series_cadastro > pd.Timestamp('2025-02-13')].count()}\")\n",
    "print(f\"A correção da data '2210-07-15' não é simples. Caso seja possível, deve ser coletada a data em que este dado foi inserido no banco\")"
   ]
  },
  {
   "cell_type": "markdown",
   "metadata": {},
   "source": [
    "# Coluna: 'escolaridade'"
   ]
  },
  {
   "cell_type": "code",
   "execution_count": 23,
   "metadata": {},
   "outputs": [
    {
     "name": "stdout",
     "output_type": "stream",
     "text": [
      "Valores únicos da coluna 'escolaridade': ['Fundamental Incompleto' 'Médio Incompleto' 'Fundamental Completo'\n",
      " 'Alfabetizado' 'Médio Completo' 'Não sabe ler/escrever'\n",
      " 'Superior completo' 'Mestrado' 'Superior incompleto' 'Doutorado'\n",
      " 'Especialização/Residência']\n",
      "Parece ok\n"
     ]
    }
   ],
   "source": [
    "print(f\"Valores únicos da coluna 'escolaridade': {df[\"escolaridade\"].unique()}\")\n",
    "print(\"Parece ok\")"
   ]
  },
  {
   "cell_type": "markdown",
   "metadata": {},
   "source": [
    "# Coluna: 'nacionalidade'"
   ]
  },
  {
   "cell_type": "code",
   "execution_count": 24,
   "metadata": {},
   "outputs": [
    {
     "name": "stdout",
     "output_type": "stream",
     "text": [
      "Valores únicos da coluna 'nacionalidade': ['Brasileira' 'Estrangeiro' 'Naturalizado']\n",
      "Parece ok\n"
     ]
    }
   ],
   "source": [
    "print(f\"Valores únicos da coluna 'nacionalidade': {df[\"nacionalidade\"].unique()}\")\n",
    "print(\"Parece ok\")"
   ]
  },
  {
   "cell_type": "markdown",
   "metadata": {},
   "source": [
    "# Coluna: 'renda_familiar'"
   ]
  },
  {
   "cell_type": "code",
   "execution_count": 25,
   "metadata": {},
   "outputs": [
    {
     "name": "stdout",
     "output_type": "stream",
     "text": [
      "Valores únicos da coluna 'renda_familiar': ['2 Salários Mínimos' '1 Salário Mínimo' '1/2 Salário Mínimo'\n",
      " '4 Salários Mínimos' '3 Salários Mínimos' '1/4 Salário Mínimo'\n",
      " 'Mais de 4 Salários Mínimos' 'Manhã' 'Internet']\n",
      "Há valores inválidos: ['Manhã' 'Internet']\n"
     ]
    }
   ],
   "source": [
    "print(f\"Valores únicos da coluna 'renda_familiar': {df[\"renda_familiar\"].unique()}\")\n",
    "print(f\"Há valores inválidos: {df.loc[~df[\"renda_familiar\"].str.contains(\"Salário\"), \"renda_familiar\"].unique()}\")"
   ]
  },
  {
   "cell_type": "markdown",
   "metadata": {},
   "source": [
    "# Coluna: 'data_nascimento'"
   ]
  },
  {
   "cell_type": "code",
   "execution_count": 26,
   "metadata": {},
   "outputs": [
    {
     "name": "stdout",
     "output_type": "stream",
     "text": [
      "Valores únicos da coluna 'data_nascimento': ['1996-06-25' '1952-12-20' '1931-11-14' ... '2008-10-12' '1939-12-02'\n",
      " '1948-05-10']\n",
      "Todas as entradas na coluna 'data_nascimento' são datas\n"
     ]
    }
   ],
   "source": [
    "print(f\"Valores únicos da coluna 'data_nascimento': {df[\"data_nascimento\"].unique()}\")\n",
    "# Verificando se todas as entradas da coluna 'data_nascimento' são do tipo datetime\n",
    "series_nascimento = pd.to_datetime(df['data_nascimento'], format='mixed', errors='coerce')\n",
    "if series_nascimento.isnull().any():\n",
    "    print(\"Há entradas na coluna 'data_nascimento' que não são datas\")\n",
    "else:\n",
    "    print(\"Todas as entradas na coluna 'data_nascimento' são datas\")"
   ]
  },
  {
   "cell_type": "code",
   "execution_count": 27,
   "metadata": {},
   "outputs": [
    {
     "name": "stdout",
     "output_type": "stream",
     "text": [
      "Data mais antiga: 1911-07-11 00:00:00\n",
      "Data mais recente: 2025-01-30 00:00:00\n",
      "Datas mais recentes que hoje: 0\n"
     ]
    }
   ],
   "source": [
    "print(f\"Data mais antiga: {series_nascimento.min()}\")\n",
    "print(f\"Data mais recente: {series_nascimento.max()}\")\n",
    "print(f\"Datas mais recentes que hoje: {series_nascimento[series_nascimento > pd.Timestamp.today()].count()}\")"
   ]
  },
  {
   "cell_type": "markdown",
   "metadata": {},
   "source": [
    "# Coluna: 'em_situacao_de_rua'"
   ]
  },
  {
   "cell_type": "code",
   "execution_count": 28,
   "metadata": {},
   "outputs": [
    {
     "name": "stdout",
     "output_type": "stream",
     "text": [
      "Valores únicos da coluna 'em_situacao_de_rua': ['0' 'False' '1']\n",
      "Inconsistência de valores: (0, 1) e (False, True)\n",
      "Deve ser corrigido para (False, True)\n"
     ]
    }
   ],
   "source": [
    "print(f\"Valores únicos da coluna 'em_situacao_de_rua': {df[\"em_situacao_de_rua\"].unique()}\")\n",
    "print(\"Inconsistência de valores: (0, 1) e (False, True)\")\n",
    "print(\"Deve ser corrigido para (False, True)\")"
   ]
  },
  {
   "cell_type": "markdown",
   "metadata": {},
   "source": [
    "# Coluna: 'frequenta_escola'"
   ]
  },
  {
   "cell_type": "code",
   "execution_count": 29,
   "metadata": {},
   "outputs": [
    {
     "name": "stdout",
     "output_type": "stream",
     "text": [
      "Valores únicos da coluna 'frequenta_escola': [0 1]\n",
      "Os valores são consistentes, porém para ficar consistente com o resto da base de dados, devem ser convertidos para (False, True)\n"
     ]
    }
   ],
   "source": [
    "print(f\"Valores únicos da coluna 'frequenta_escola': {df[\"frequenta_escola\"].unique()}\")\n",
    "print(\"Os valores são consistentes, porém para ficar consistente com o resto da base de dados, devem ser convertidos para (False, True)\")"
   ]
  },
  {
   "cell_type": "markdown",
   "metadata": {},
   "source": [
    "# Coluna 'meios_transporte'"
   ]
  },
  {
   "cell_type": "code",
   "execution_count": 30,
   "metadata": {},
   "outputs": [
    {
     "name": "stdout",
     "output_type": "stream",
     "text": [
      "Valores únicos da coluna 'meios_transporte':\n",
      "['Ônibus' 'Carro, Metrô, Ônibus, Trem' 'Carro, Ônibus' 'Metrô, Ônibus'\n",
      " '[\"Carro\"]']\n",
      "{'', '\"Trem\"', '\"\\\\u00d4nibus\"', \"'Bicicleta'\", '\"Bicicleta\"', \"'Caminhão'\", '\"Metr\\\\u00f4\"', '\"Alternativo\"', 'Alternativo', '\"Mar\\\\u00edtimo\"', '\"Outros\"', \"'Metrô'\", 'Metrô', \"'Outros'\", 'Marítimo', 'Caminhão', \"'Carro'\", 'Carro', \"'Ônibus'\", 'Bicicleta', '\"Carro\"', 'Carroça', '\"Animal\"', \"'Animal'\", \"'Marítimo'\", 'Animal', \"'Trem'\", 'Trem', \"'Carroça'\", 'Ônibus', 'Outros', '\"Caminh\\\\u00e3o\"', '\"Carro\\\\u00e7a\"', \"'Alternativo'\"}\n"
     ]
    }
   ],
   "source": [
    "print(f\"Valores únicos da coluna 'meios_transporte':\\n{df[\"meios_transporte\"].unique()[:5]}\")\n",
    "meios_transporte_unique = set()\n",
    "for meios in df[\"meios_transporte\"].unique():\n",
    "    meios = meios.strip(\"[]\")\n",
    "    for meio in meios.split(\", \"):\n",
    "        meios_transporte_unique.add(meio)\n",
    "\n",
    "print(meios_transporte_unique)"
   ]
  },
  {
   "cell_type": "code",
   "execution_count": 31,
   "metadata": {},
   "outputs": [
    {
     "name": "stdout",
     "output_type": "stream",
     "text": [
      "Os valores apresentam 2 inconsistências:\n",
      "I: Encoding de caracteres especiais: em alguns casos, caracteres especiais são representados como '\\u00XX'\n",
      "... Isto é o equivalente em utf-16. Devem ser convertidos para o caractere correto\n",
      "II: Uso de aspas, aspas duplas e colchetes. A princípio, isto não é necessário, e apenas deixa os dados inconsistentes\n",
      "Outro detalhe: não é usual guardar dados como uma lista. Deve ser avaliado se esta realmente é a melhor solução\n"
     ]
    }
   ],
   "source": [
    "print(\"Os valores apresentam 2 inconsistências:\")\n",
    "print(\"I: Encoding de caracteres especiais: em alguns casos, caracteres especiais são representados como '\\\\u00XX'\")\n",
    "print(\"... Isto é o equivalente em utf-16. Devem ser convertidos para o caractere correto\")\n",
    "print(\"II: Uso de aspas, aspas duplas e colchetes. A princípio, isto não é necessário, e apenas deixa os dados inconsistentes\")\n",
    "print(\"Outro detalhe: não é usual guardar dados como uma lista. Deve ser avaliado se esta realmente é a melhor solução\")"
   ]
  },
  {
   "cell_type": "code",
   "execution_count": 32,
   "metadata": {},
   "outputs": [
    {
     "name": "stdout",
     "output_type": "stream",
     "text": [
      "Todas as entradas estão ordenadas: False\n"
     ]
    }
   ],
   "source": [
    "def is_sorted(lst):\n",
    "    \"\"\"\n",
    "    Check if a list is sorted alphabetically.\n",
    "    \"\"\"\n",
    "    return lst == sorted(lst)\n",
    "\n",
    "\n",
    "def convert_to_list(cell: str):\n",
    "    \"\"\"\n",
    "    Convert a string representation of a list to a list.\n",
    "    \"\"\"\n",
    "    cell = cell.strip(\"[]\")\n",
    "    cell_as_list = cell.replace(\"'\", \"\").replace('\"', \"\").split(\", \")\n",
    "    for i, element in enumerate(cell):\n",
    "        if \"\\\\\\\\u00\" in element:\n",
    "            element = element.replace(\"\\\\\\\\\", \"\\\\\")\n",
    "            cell_as_list[i] = element.encode().decode()\n",
    "    return cell_as_list\n",
    "\n",
    "\n",
    "def remover_acentos_str(texto: str) -> str:\n",
    "    return ''.join(\n",
    "        c for c in unicodedata.normalize('NFKD', texto) \n",
    "        if unicodedata.category(c) != 'Mn'\n",
    "    )\n",
    "\n",
    "\n",
    "def remover_acentos_list(lista_textos: list[str]) -> list[str]:\n",
    "    \"\"\"\n",
    "    Troca caracteres acentuados por sua versão não acentuada para cada string\n",
    "    em uma lista\n",
    "    \"\"\"\n",
    "    return [remover_acentos_str(element) for element in lista_textos]\n",
    "\n",
    "\n",
    "\n",
    "# Apply the function to the column with lists\n",
    "meio_transporte_linhas_ordenadas = df['meios_transporte'].apply(lambda x: is_sorted(remover_acentos_list(convert_to_list(x))))\n",
    "print(f\"Todas as entradas estão ordenadas: {meio_transporte_linhas_ordenadas.all()}\")"
   ]
  },
  {
   "cell_type": "code",
   "execution_count": 33,
   "metadata": {},
   "outputs": [
    {
     "data": {
      "text/plain": [
       "16                          [\"\\u00d4nibus\", \"Alternativo\"]\n",
       "69       [\"\\u00d4nibus\", \"Caminh\\u00e3o\", \"Metr\\u00f4\",...\n",
       "133      [\"\\u00d4nibus\", \"Trem\", \"Metr\\u00f4\", \"Alterna...\n",
       "136                               [\"\\u00d4nibus\", \"Carro\"]\n",
       "165                         [\"\\u00d4nibus\", \"Alternativo\"]\n",
       "                               ...                        \n",
       "99945       [\"\\u00d4nibus\", \"Carro\", \"Trem\", \"Metr\\u00f4\"]\n",
       "99967                       [\"\\u00d4nibus\", \"Alternativo\"]\n",
       "99975                             [\"Carro\", \"Alternativo\"]\n",
       "99989       [\"\\u00d4nibus\", \"Carro\", \"Trem\", \"Metr\\u00f4\"]\n",
       "99993         [\"Carro\", \"Metr\\u00f4\", \"Bicicleta\", \"Trem\"]\n",
       "Name: meios_transporte, Length: 5320, dtype: object"
      ]
     },
     "execution_count": 33,
     "metadata": {},
     "output_type": "execute_result"
    }
   ],
   "source": [
    "df.loc[~meio_transporte_linhas_ordenadas, \"meios_transporte\"]"
   ]
  },
  {
   "cell_type": "code",
   "execution_count": 34,
   "metadata": {},
   "outputs": [
    {
     "name": "stdout",
     "output_type": "stream",
     "text": [
      "Há 5320 entradas que não estão ordenadas\n",
      "É interessante ordenar estas entradas para ser mais fácil avaliar conjuntos de meios de transporte\n",
      "Isto só é relevante se a estrutura em listas for mantida\n"
     ]
    }
   ],
   "source": [
    "print(f\"Há {(~meio_transporte_linhas_ordenadas).sum()} entradas que não estão ordenadas\")\n",
    "print(\"É interessante ordenar estas entradas para ser mais fácil avaliar conjuntos de meios de transporte\")\n",
    "print(\"Isto só é relevante se a estrutura em listas for mantida\")"
   ]
  },
  {
   "cell_type": "markdown",
   "metadata": {},
   "source": [
    "# Coluna: doencas_condicoes"
   ]
  },
  {
   "cell_type": "code",
   "execution_count": 38,
   "metadata": {},
   "outputs": [
    {
     "name": "stdout",
     "output_type": "stream",
     "text": [
      "Valores únicos da coluna 'doencas_condicoes':\n",
      "['[\"Outros\"]' 'Hipertensão' '[]' 'Diabetes, Hipertensão' '[\"Diabetes\"]'\n",
      " 'Diabetes' '[\"Hipertens\\\\u00e3o\"]' '[\"Diabetes\", \"Hipertens\\\\u00e3o\"]'\n",
      " \"['Outros']\" '[\"Gestante\"]' '[\"Sintom\\\\u00e1tico Dermatol\\\\u00f3gico\"]'\n",
      " 'Diabetes, Hipertensão, Tabagismo' '[\"Hipertens\\\\u00e3o\", \"Outros\"]'\n",
      " '[\"Tuberculose\"]' 'Tabagismo' \"['Hipertensão']\" '[\"Outros\", \"Tabagismo\"]'\n",
      " '[\"Asma\", \"Outros\", \"Sintom\\\\u00e1tico Dermatol\\\\u00f3gico\", \"Sintom\\\\u00e1tico Respirat\\\\u00f3rio\"]'\n",
      " 'Hipertensão, Tabagismo' '[\"Diabetes\", \"Hipertens\\\\u00e3o\", \"Outros\"]'\n",
      " '[\"Hipertens\\\\u00e3o\", \"Tabagismo\"]'\n",
      " '[\"Asma\", \"Diabetes\", \"Hipertens\\\\u00e3o\", \"Outros\"]'\n",
      " '[\"Sintom\\\\u00e1tico Respirat\\\\u00f3rio\"]' 'Diabetes, Tabagismo'\n",
      " '[\"AIDS\", \"Outros\"]'\n",
      " '[\"Asma\", \"Diabetes\", \"Hipertens\\\\u00e3o\", \"Outros\", \"Sintom\\\\u00e1tico Respirat\\\\u00f3rio\"]'\n",
      " \"['Diabetes', 'Hipertensão', 'Outros']\"\n",
      " '[\"Hipertens\\\\u00e3o\", \"Sintom\\\\u00e1tico Dermatol\\\\u00f3gico\", \"Sintom\\\\u00e1tico Respirat\\\\u00f3rio\"]'\n",
      " '[\"Outros\", \"Sintom\\\\u00e1tico Dermatol\\\\u00f3gico\"]'\n",
      " '[\"Diabetes\", \"Outros\"]' '[\"Hipertens\\\\u00e3o\", \"Outros\", \"Tabagismo\"]'\n",
      " '[\"Def. Mental\", \"Hipertens\\\\u00e3o\"]' '[\"Tabagismo\"]' \"['Gestante']\"\n",
      " '[\"Diabetes\", \"Hipertens\\\\u00e3o\", \"Tabagismo\"]'\n",
      " \"['Diabetes', 'Hipertensão']\" '[\"Transtorno Mental\"]'\n",
      " \"['Hipertensão', 'Tabagismo']\" '[\"Usu\\\\u00e1rio de Psicof\\\\u00e1rmacos\"]'\n",
      " \"['Hipertensão', 'Outros']\"\n",
      " '[\"Tuberculose\", \"Usu\\\\u00e1rio de Drogas Il\\\\u00edcitas\"]'\n",
      " '[\"Def. Auditiva\"]' '[\"Outros\", \"Sintom\\\\u00e1tico Respirat\\\\u00f3rio\"]'\n",
      " '[\"AIDS\"]' '[\"Transtorno Mental\", \"Viol\\\\u00eancia Dom\\\\u00e9stica\"]'\n",
      " '[\"Asma\", \"Diabetes\", \"Hipertens\\\\u00e3o\", \"Outros\", \"Sintom\\\\u00e1tico Dermatol\\\\u00f3gico\", \"Sintom\\\\u00e1tico Respirat\\\\u00f3rio\"]'\n",
      " '[\"Asma\"]' '[\"Def. F\\\\u00edsica\", \"Def. Visual\"]'\n",
      " '[\"Diabetes\", \"Tabagismo\"]' '[\"Def. F\\\\u00edsica\"]'\n",
      " \"['Outros', 'Usuário de Psicofármacos']\"\n",
      " '[\"Def. Visual\", \"Hipertens\\\\u00e3o\"]'\n",
      " '[\"C\\\\u00e2ncer\", \"Hipertens\\\\u00e3o\"]'\n",
      " '[\"Outros\", \"Tabagismo\", \"Tuberculose\", \"Usu\\\\u00e1rio de Drogas Il\\\\u00edcitas\"]'\n",
      " \"['Diabetes']\" '[\"Outros\", \"Transtorno Mental\"]' \"['Gestante', 'Outros']\"\n",
      " '[\"Def. Visual\"]' \"['Def. Mental']\" '[\"Def. F\\\\u00edsica\", \"Outros\"]'\n",
      " \"['Outros', 'Tabagismo']\" \"['Diabetes', 'Outros']\"\n",
      " '[\"Viol\\\\u00eancia Dom\\\\u00e9stica\"]' \"['Def. Auditiva', 'Outros']\"\n",
      " '[\"Outros\", \"Usu\\\\u00e1rio de Drogas Il\\\\u00edcitas\"]'\n",
      " '[\"C\\\\u00e2ncer\", \"Outros\"]'\n",
      " '[\"Def. Visual\", \"Diabetes\", \"Hipertens\\\\u00e3o\"]'\n",
      " \"['Hipertensão', 'Outros', 'Tabagismo']\"\n",
      " '[\"Epilepsia\", \"Hipertens\\\\u00e3o\", \"Transtorno Mental\"]'\n",
      " '[\"Asma\", \"Hipertens\\\\u00e3o\"]'\n",
      " '[\"AIDS\", \"Diabetes\", \"Hipertens\\\\u00e3o\", \"Outros\"]'\n",
      " '[\"Alcoolismo\", \"Diabetes\", \"Outros\", \"Tabagismo\", \"Tuberculose\"]'\n",
      " '[\"Diabetes\", \"Tuberculose\"]'\n",
      " '[\"Epilepsia\", \"Hipertens\\\\u00e3o\", \"Outros\"]'\n",
      " '[\"Diabetes\", \"Outros\", \"Tabagismo\"]' '[\"C\\\\u00e2ncer\"]' \"['Tabagismo']\"\n",
      " \"['Asma', 'Outros', 'Sintomático Respiratório']\" '[\"Gestante\", \"Outros\"]'\n",
      " '[\"Def. Mental\"]' '[\"C\\\\u00e2ncer\", \"Diabetes\", \"Hipertens\\\\u00e3o\"]'\n",
      " '[\"Diabetes\", \"Hipertens\\\\u00e3o\", \"Outros\", \"Sintom\\\\u00e1tico Respirat\\\\u00f3rio\"]'\n",
      " '[\"Diabetes\", \"Hipertens\\\\u00e3o\", \"Outros\", \"Tabagismo\"]'\n",
      " '[\"Def. Mental\", \"Diabetes\", \"Transtorno Mental\"]'\n",
      " '[\"Def. F\\\\u00edsica\", \"Diabetes\", \"Hipertens\\\\u00e3o\", \"Outros\"]'\n",
      " '[\"Alcoolismo\", \"Outros\", \"Tabagismo\"]'\n",
      " '[\"Diabetes\", \"Hansen\\\\u00edase\", \"Hipertens\\\\u00e3o\", \"Outros\"]'\n",
      " '[\"Diabetes\", \"Hipertens\\\\u00e3o\", \"Usu\\\\u00e1rio de Psicof\\\\u00e1rmacos\"]'\n",
      " \"['Transtorno Mental', 'Usuário de Psicofármacos']\"\n",
      " '[\"Hipertens\\\\u00e3o\", \"Usu\\\\u00e1rio de Drogas Il\\\\u00edcitas\"]'\n",
      " '[\"Hipertens\\\\u00e3o\", \"Sintom\\\\u00e1tico Respirat\\\\u00f3rio\"]'\n",
      " '[\"Def. Mental\", \"Diabetes\"]'\n",
      " '[\"Hipertens\\\\u00e3o\", \"Outros\", \"Transtorno Mental\"]'\n",
      " '[\"Gestante\", \"Outros\", \"Sintom\\\\u00e1tico Respirat\\\\u00f3rio\"]'\n",
      " '[\"Diabetes\", \"Outros\", \"Usu\\\\u00e1rio de Psicof\\\\u00e1rmacos\"]'\n",
      " '[\"Hansen\\\\u00edase\"]' '[\"Def. Mental\", \"Transtorno Mental\"]'\n",
      " '[\"Alcoolismo\", \"Outros\"]'\n",
      " \"['Hipertensão', 'Outros', 'Usuário de Psicofármacos']\"\n",
      " \"['Diabetes', 'Hipertensão', 'Tabagismo']\"\n",
      " '[\"Asma\", \"C\\\\u00e2ncer\", \"Def. Visual\", \"Diabetes\", \"Hipertens\\\\u00e3o\", \"Outros\"]'\n",
      " '[\"Asma\", \"Diabetes\", \"Hipertens\\\\u00e3o\", \"Tabagismo\"]'\n",
      " '[\"Diabetes\", \"Hipertens\\\\u00e3o\", \"Outros\", \"Tabagismo\", \"Usu\\\\u00e1rio de Drogas Il\\\\u00edcitas\"]'\n",
      " '[\"Def. Visual\", \"Outros\"]' \"['Outros', 'Sintomático Respiratório']\"\n",
      " \"['Def. Visual']\"\n",
      " '[\"Outros\", \"Transtorno Mental\", \"Usu\\\\u00e1rio de Psicof\\\\u00e1rmacos\"]'\n",
      " '[\"Asma\", \"Sintom\\\\u00e1tico Respirat\\\\u00f3rio\"]'\n",
      " \"['Def. Física', 'Def. Mental']\" '[\"Gestante\", \"Hipertens\\\\u00e3o\"]'\n",
      " '[\"Def. Auditiva\", \"Outros\"]'\n",
      " \"['Hipertensão', 'Usuário de Psicofármacos']\"\n",
      " '[\"Def. F\\\\u00edsica\", \"Hipertens\\\\u00e3o\", \"Outros\"]' '[\"Epilepsia\"]'\n",
      " '[\"Def. Mental\", \"Diabetes\", \"Hipertens\\\\u00e3o\", \"Outros\"]'\n",
      " '[\"Gestante\", \"Tabagismo\"]'\n",
      " \"['Def. Auditiva', 'Diabetes', 'Epilepsia', 'Hipertensão', 'Intern. Psiq. Ult. 12 meses', 'Transtorno Mental']\"\n",
      " '[\"Def. F\\\\u00edsica\", \"Hipertens\\\\u00e3o\"]'\n",
      " '[\"Def. F\\\\u00edsica\", \"Outros\", \"Transtorno Mental\"]'\n",
      " '[\"Sintom\\\\u00e1tico Dermatol\\\\u00f3gico\", \"Tabagismo\"]'\n",
      " '[\"Diabetes\", \"Sintom\\\\u00e1tico Respirat\\\\u00f3rio\"]'\n",
      " \"['AIDS', 'Hipertensão']\" \"['Outros', 'Tuberculose']\"\n",
      " '[\"Def. Mental\", \"Epilepsia\", \"Transtorno Mental\"]'\n",
      " \"['Transtorno Mental']\"\n",
      " '[\"Def. F\\\\u00edsica\", \"Diabetes\", \"Hipertens\\\\u00e3o\"]'\n",
      " '[\"Def. Auditiva\", \"Def. Mental\", \"Epilepsia\", \"Outros\"]'\n",
      " '[\"Hipertens\\\\u00e3o\", \"Transtorno Mental\"]' '[\"Alcoolismo\"]'\n",
      " '[\"Diabetes\", \"Epilepsia\", \"Hipertens\\\\u00e3o\", \"Outros\"]'\n",
      " '[\"Sintom\\\\u00e1tico Respirat\\\\u00f3rio\", \"Usu\\\\u00e1rio de Drogas Il\\\\u00edcitas\"]'\n",
      " '[\"Diabetes\", \"Outros\", \"Sintom\\\\u00e1tico Dermatol\\\\u00f3gico\"]'\n",
      " '[\"Outros\", \"Usu\\\\u00e1rio de Psicof\\\\u00e1rmacos\"]'\n",
      " '[\"Usu\\\\u00e1rio de Drogas Il\\\\u00edcitas\"]' \"['Câncer']\"\n",
      " \"['AIDS', 'Diabetes']\"\n",
      " '[\"Outros\", \"Tentativa de Suic\\\\u00eddio\", \"Transtorno Mental\"]'\n",
      " '[\"Tentativa de Suic\\\\u00eddio\", \"Usu\\\\u00e1rio de Psicof\\\\u00e1rmacos\"]'\n",
      " '[\"Def. F\\\\u00edsica\", \"Diabetes\", \"Transtorno Mental\"]' \"['AIDS']\"\n",
      " '[\"Outros\", \"Usu\\\\u00e1rio de Psicof\\\\u00e1rmacos\", \"Viol\\\\u00eancia Dom\\\\u00e9stica\"]'\n",
      " '[\"Sintom\\\\u00e1tico Dermatol\\\\u00f3gico\", \"Sintom\\\\u00e1tico Respirat\\\\u00f3rio\"]'\n",
      " '[\"Hipertens\\\\u00e3o\", \"Viol\\\\u00eancia Dom\\\\u00e9stica\"]'\n",
      " '[\"Alcoolismo\", \"Usu\\\\u00e1rio de Drogas Il\\\\u00edcitas\"]'\n",
      " '[\"Alcoolismo\", \"Tabagismo\", \"Transtorno Mental\", \"Usu\\\\u00e1rio de Drogas Il\\\\u00edcitas\"]'\n",
      " \"['Tabagismo', 'Transtorno Mental']\"\n",
      " '[\"Transtorno Mental\", \"Usu\\\\u00e1rio de Psicof\\\\u00e1rmacos\"]'\n",
      " \"['Câncer', 'Outros']\" \"['Sintomático Respiratório']\"\n",
      " '[\"Outros\", \"Tentativa de Suic\\\\u00eddio\", \"Usu\\\\u00e1rio de Psicof\\\\u00e1rmacos\"]'\n",
      " '[\"Hipertens\\\\u00e3o\", \"Tentativa de Suic\\\\u00eddio\", \"Transtorno Mental\"]'\n",
      " '[\"Asma\", \"Tabagismo\"]'\n",
      " '[\"Diabetes\", \"Outros\", \"Sintom\\\\u00e1tico Respirat\\\\u00f3rio\"]'\n",
      " '[\"AIDS\", \"Asma\"]'\n",
      " '[\"Outros\", \"Sintom\\\\u00e1tico Respirat\\\\u00f3rio\", \"Tuberculose\", \"Usu\\\\u00e1rio de Drogas Il\\\\u00edcitas\"]'\n",
      " '[\"AIDS\", \"Tabagismo\"]'\n",
      " '[\"Def. Mental\", \"Diabetes\", \"Hipertens\\\\u00e3o\"]'\n",
      " '[\"Def. Mental\", \"Outros\"]'\n",
      " '[\"AIDS\", \"Outros\", \"Tuberculose\", \"Usu\\\\u00e1rio de Drogas Il\\\\u00edcitas\"]'\n",
      " '[\"Transtorno Mental\", \"Usu\\\\u00e1rio de Drogas Il\\\\u00edcitas\"]'\n",
      " '[\"Diabetes\", \"Hipertens\\\\u00e3o\", \"Outros\", \"Sintom\\\\u00e1tico Dermatol\\\\u00f3gico\", \"Sintom\\\\u00e1tico Respirat\\\\u00f3rio\"]'\n",
      " '[\"Asma\", \"Outros\"]' '[\"Def. Mental\", \"Hipertens\\\\u00e3o\", \"Outros\"]'\n",
      " '[\"Outros\", \"Tabagismo\", \"Usu\\\\u00e1rio de Psicof\\\\u00e1rmacos\"]'\n",
      " \"['Def. Visual', 'Hipertensão', 'Tabagismo']\"\n",
      " \"['AIDS', 'Hipertensão', 'Outros']\"\n",
      " '[\"Outros\", \"Transtorno Mental\", \"Viol\\\\u00eancia Dom\\\\u00e9stica\"]'\n",
      " '[\"Asma\", \"Outros\", \"Sintom\\\\u00e1tico Respirat\\\\u00f3rio\", \"Tabagismo\"]'\n",
      " '[\"Tentativa de Suic\\\\u00eddio\"]'\n",
      " '[\"Hipertens\\\\u00e3o\", \"Usu\\\\u00e1rio de Psicof\\\\u00e1rmacos\"]'\n",
      " \"['Alcoolismo']\"\n",
      " '[\"Outros\", \"Sintom\\\\u00e1tico Dermatol\\\\u00f3gico\", \"Sintom\\\\u00e1tico Respirat\\\\u00f3rio\"]'\n",
      " '[\"Def. Visual\", \"Outros\", \"Usu\\\\u00e1rio de Drogas Il\\\\u00edcitas\"]'\n",
      " \"['Diabetes', 'Hipertensão', 'Outros', 'Tabagismo']\"\n",
      " '[\"Diabetes\", \"Hipertens\\\\u00e3o\", \"Outros\", \"Usu\\\\u00e1rio de Psicof\\\\u00e1rmacos\"]'\n",
      " '[\"Def. Auditiva\", \"Hipertens\\\\u00e3o\", \"Outros\"]'\n",
      " '[\"Def. Mental\", \"Outros\", \"Transtorno Mental\"]'\n",
      " \"['Alcoolismo', 'Hipertensão', 'Tabagismo']\"\n",
      " \"['Outros', 'Sintomático Dermatológico']\"\n",
      " '[\"Alcoolismo\", \"Diabetes\", \"Hipertens\\\\u00e3o\"]'\n",
      " '[\"Def. Auditiva\", \"Hipertens\\\\u00e3o\"]'\n",
      " '[\"Def. F\\\\u00edsica\", \"Def. Mental\", \"Gestante\", \"Mal\\\\u00e1ria\", \"Outros\"]'\n",
      " '[\"AIDS\", \"Hipertens\\\\u00e3o\"]' '[\"Def. Visual\", \"Diabetes\", \"Outros\"]'\n",
      " \"['Sintomático Dermatológico']\"\n",
      " '[\"Diabetes\", \"Hipertens\\\\u00e3o\", \"Sintom\\\\u00e1tico Dermatol\\\\u00f3gico\", \"Sintom\\\\u00e1tico Respirat\\\\u00f3rio\"]'\n",
      " '[\"Asma\", \"Hipertens\\\\u00e3o\", \"Outros\", \"Tabagismo\"]'\n",
      " \"['Gestante', 'Hipertensão', 'Outros']\" \"['Def. Mental', 'Hipertensão']\"\n",
      " '[\"Diabetes\", \"Hipertens\\\\u00e3o\", \"Tabagismo\", \"Transtorno Mental\"]'\n",
      " \"['Def. Física', 'Def. Mental', 'Usuário de Psicofármacos']\"\n",
      " '[\"C\\\\u00e2ncer\", \"Diabetes\"]'\n",
      " '[\"Hipertens\\\\u00e3o\", \"Outros\", \"Sintom\\\\u00e1tico Respirat\\\\u00f3rio\"]'\n",
      " \"['Hipertensão', 'Transtorno Mental']\"\n",
      " '[\"C\\\\u00e2ncer\", \"Hipertens\\\\u00e3o\", \"Outros\"]'\n",
      " '[\"Alcoolismo\", \"Outros\", \"Usu\\\\u00e1rio de Drogas Il\\\\u00edcitas\"]'\n",
      " '[\"Def. F\\\\u00edsica\", \"Def. Visual\", \"Hipertens\\\\u00e3o\"]'\n",
      " '[\"AIDS\", \"Hipertens\\\\u00e3o\", \"Outros\"]'\n",
      " '[\"Hipertens\\\\u00e3o\", \"Outros\", \"Usu\\\\u00e1rio de Psicof\\\\u00e1rmacos\"]'\n",
      " '[\"Outros\", \"Tabagismo\", \"Transtorno Mental\"]'\n",
      " '[\"C\\\\u00e2ncer\", \"Outros\", \"Tabagismo\"]' '[\"Diabetes\", \"Gestante\"]'\n",
      " '[\"Alcoolismo\", \"Def. Mental\", \"Transtorno Mental\", \"Usu\\\\u00e1rio de Drogas Il\\\\u00edcitas\", \"Usu\\\\u00e1rio de Psicof\\\\u00e1rmacos\"]'\n",
      " \"['Epilepsia', 'Outros', 'Transtorno Mental']\"\n",
      " '[\"Def. Mental\", \"Diabetes\", \"Hipertens\\\\u00e3o\", \"Outros\", \"Tabagismo\", \"Transtorno Mental\", \"Usu\\\\u00e1rio de Psicof\\\\u00e1rmacos\"]'\n",
      " '[\"Alcoolismo\", \"Diabetes\", \"Hipertens\\\\u00e3o\", \"Tabagismo\"]'\n",
      " '[\"Diabetes\", \"Gestante\", \"Hipertens\\\\u00e3o\", \"Outros\"]'\n",
      " \"['Câncer', 'Transtorno Mental']\"\n",
      " '[\"Diabetes\", \"Hipertens\\\\u00e3o\", \"Outros\", \"Sintom\\\\u00e1tico Dermatol\\\\u00f3gico\"]'\n",
      " '[\"Outros\", \"Tuberculose\"]'\n",
      " '[\"Tabagismo\", \"Usu\\\\u00e1rio de Drogas Il\\\\u00edcitas\"]'\n",
      " '[\"Hipertens\\\\u00e3o\", \"Tuberculose\"]'\n",
      " '[\"Tabagismo\", \"Tuberculose\", \"Usu\\\\u00e1rio de Drogas Il\\\\u00edcitas\"]'\n",
      " '[\"Tabagismo\", \"Tuberculose\"]'\n",
      " '[\"Def. F\\\\u00edsica\", \"Def. Mental\", \"Def. Visual\"]' \"['Def. Física']\"\n",
      " \"['Gestante', 'Usuário de Drogas Ilícitas']\"\n",
      " '[\"Diabetes\", \"Hipertens\\\\u00e3o\", \"Transtorno Mental\"]'\n",
      " \"['Tuberculose']\"\n",
      " '[\"Diabetes\", \"Hipertens\\\\u00e3o\", \"Sintom\\\\u00e1tico Dermatol\\\\u00f3gico\", \"Sintom\\\\u00e1tico Respirat\\\\u00f3rio\", \"Tabagismo\"]'\n",
      " '[\"Diabetes\", \"Transtorno Mental\"]'\n",
      " '[\"AIDS\", \"Transtorno Mental\", \"Usu\\\\u00e1rio de Drogas Il\\\\u00edcitas\"]'\n",
      " '[\"Def. F\\\\u00edsica\", \"Diabetes\", \"Hipertens\\\\u00e3o\", \"Outros\", \"Tabagismo\"]'\n",
      " \"['AIDS', 'Outros']\"\n",
      " '[\"Hipertens\\\\u00e3o\", \"Outros\", \"Tabagismo\", \"Usu\\\\u00e1rio de Psicof\\\\u00e1rmacos\"]'\n",
      " '[\"Def. F\\\\u00edsica\", \"Usu\\\\u00e1rio de Drogas Il\\\\u00edcitas\"]'\n",
      " '[\"Def. Mental\", \"Usu\\\\u00e1rio de Psicof\\\\u00e1rmacos\"]'\n",
      " '[\"Def. Mental\", \"Hipertens\\\\u00e3o\", \"Transtorno Mental\", \"Usu\\\\u00e1rio de Psicof\\\\u00e1rmacos\"]'\n",
      " '[\"Outros\", \"Usu\\\\u00e1rio de Drogas Il\\\\u00edcitas\", \"Usu\\\\u00e1rio de Psicof\\\\u00e1rmacos\"]'\n",
      " '[\"AIDS\", \"Alcoolismo\", \"Asma\", \"Outros\", \"Tabagismo\", \"Usu\\\\u00e1rio de Drogas Il\\\\u00edcitas\", \"Usu\\\\u00e1rio de Psicof\\\\u00e1rmacos\"]'\n",
      " '[\"Diabetes\", \"Tabagismo\", \"Usu\\\\u00e1rio de Drogas Il\\\\u00edcitas\"]'\n",
      " '[\"Asma\", \"Diabetes\", \"Outros\"]'\n",
      " '[\"Outros\", \"Sintom\\\\u00e1tico Dermatol\\\\u00f3gico\", \"Tuberculose\"]'\n",
      " '[\"Def. F\\\\u00edsica\", \"Def. Visual\", \"Diabetes\", \"Hipertens\\\\u00e3o\", \"Outros\"]'\n",
      " '[\"Hipertens\\\\u00e3o\", \"Tentativa de Suic\\\\u00eddio\"]'\n",
      " '[\"Diabetes\", \"Sintom\\\\u00e1tico Respirat\\\\u00f3rio\", \"Tuberculose\"]'\n",
      " '[\"Diabetes\", \"Gestante\", \"Outros\"]'\n",
      " '[\"Def. F\\\\u00edsica\", \"Def. Mental\", \"Outros\"]'\n",
      " '[\"Transtorno Mental\", \"Tuberculose\"]'\n",
      " '[\"AIDS\", \"Diabetes\", \"Hipertens\\\\u00e3o\", \"Tabagismo\"]'\n",
      " '[\"Alcoolismo\", \"Transtorno Mental\"]' '[\"Hansen\\\\u00edase\", \"Outros\"]'\n",
      " \"['Outros', 'Sintomático Dermatológico', 'Sintomático Respiratório']\"\n",
      " '[\"Def. Visual\", \"Diabetes\", \"Hipertens\\\\u00e3o\", \"Outros\"]'\n",
      " '[\"Alcoolismo\", \"Tabagismo\"]'\n",
      " '[\"C\\\\u00e2ncer\", \"Hipertens\\\\u00e3o\", \"Tabagismo\"]'\n",
      " '[\"Def. Mental\", \"Outros\", \"Transtorno Mental\", \"Usu\\\\u00e1rio de Psicof\\\\u00e1rmacos\"]'\n",
      " '[\"Alcoolismo\", \"Hipertens\\\\u00e3o\", \"Tabagismo\"]'\n",
      " '[\"Outros\", \"Sintom\\\\u00e1tico Respirat\\\\u00f3rio\", \"Tuberculose\"]'\n",
      " '[\"Alcoolismo\", \"Intern. Psiq. Ult. 12 meses\", \"Usu\\\\u00e1rio de Drogas Il\\\\u00edcitas\"]'\n",
      " \"['Diabetes', 'Tabagismo']\"\n",
      " '[\"Diabetes\", \"Hipertens\\\\u00e3o\", \"Sintom\\\\u00e1tico Respirat\\\\u00f3rio\"]'\n",
      " '[\"Diabetes\", \"Gestante\", \"Hipertens\\\\u00e3o\"]'\n",
      " '[\"Def. F\\\\u00edsica\", \"Def. Mental\"]'\n",
      " '[\"Def. Auditiva\", \"Def. F\\\\u00edsica\", \"Def. Visual\", \"Hipertens\\\\u00e3o\"]'\n",
      " '[\"Hipertens\\\\u00e3o\", \"Usu\\\\u00e1rio de Drogas Il\\\\u00edcitas\", \"Usu\\\\u00e1rio de Psicof\\\\u00e1rmacos\"]'\n",
      " \"['Epilepsia', 'Usuário de Drogas Ilícitas']\"\n",
      " '[\"Alcoolismo\", \"Diabetes\", \"Outros\", \"Sintom\\\\u00e1tico Respirat\\\\u00f3rio\", \"Tuberculose\"]'\n",
      " '[\"Def. Mental\", \"Epilepsia\", \"Hipertens\\\\u00e3o\", \"Outros\", \"Transtorno Mental\", \"Usu\\\\u00e1rio de Psicof\\\\u00e1rmacos\"]'\n",
      " '[\"Diabetes\", \"Hipertens\\\\u00e3o\", \"Tuberculose\"]'\n",
      " '[\"AIDS\", \"Gestante\", \"Tabagismo\", \"Usu\\\\u00e1rio de Drogas Il\\\\u00edcitas\"]'\n",
      " '[\"Outros\", \"Sintom\\\\u00e1tico Respirat\\\\u00f3rio\", \"Tabagismo\"]'\n",
      " \"['Intern. Psiq. Ult. 12 meses', 'Outros', 'Sintomático Dermatológico', 'Sintomático Respiratório']\"\n",
      " \"['Hipertensão', 'Outros', 'Sintomático Respiratório']\"\n",
      " '[\"C\\\\u00e2ncer\", \"Diabetes\", \"Hipertens\\\\u00e3o\", \"Outros\", \"Sintom\\\\u00e1tico Respirat\\\\u00f3rio\", \"Tabagismo\"]'\n",
      " '[\"Hipertens\\\\u00e3o\", \"Outros\", \"Tuberculose\"]'\n",
      " '[\"Alcoolismo\", \"Diabetes\"]' \"['Câncer', 'Diabetes', 'Hipertensão']\"\n",
      " '[\"C\\\\u00e2ncer\", \"Diabetes\", \"Outros\"]'\n",
      " '[\"Outros\", \"Tentativa de Suic\\\\u00eddio\"]'\n",
      " '[\"Def. Mental\", \"Tabagismo\"]'\n",
      " '[\"Alcoolismo\", \"Diabetes\", \"Hipertens\\\\u00e3o\", \"Usu\\\\u00e1rio de Drogas Il\\\\u00edcitas\"]'\n",
      " \"['Tabagismo', 'Usuário de Drogas Ilícitas']\"\n",
      " \"['Outros', 'Transtorno Mental']\"\n",
      " \"['Def. Visual', 'Diabetes', 'Hipertensão', 'Outros']\"\n",
      " \"['Asma', 'Gestante', 'Outros']\" \"['Def. Mental', 'Outros']\"]\n"
     ]
    }
   ],
   "source": [
    "print(f\"Valores únicos da coluna 'doencas_condicoes':\\n{df[\"doencas_condicoes\"].unique()}\")"
   ]
  },
  {
   "cell_type": "code",
   "execution_count": 41,
   "metadata": {},
   "outputs": [
    {
     "name": "stdout",
     "output_type": "stream",
     "text": [
      "Todas as entradas estão ordenadas: True\n"
     ]
    }
   ],
   "source": [
    "doencas_condicoes_linhas_ordenadas = df['doencas_condicoes'].apply(lambda x: is_sorted(remover_acentos_list(convert_to_list(x))))\n",
    "print(f\"Todas as entradas estão ordenadas: {doencas_condicoes_linhas_ordenadas.all()}\")"
   ]
  },
  {
   "cell_type": "code",
   "execution_count": null,
   "metadata": {},
   "outputs": [
    {
     "name": "stdout",
     "output_type": "stream",
     "text": [
      "Mesmos problemas de 'meios_transporte':\n",
      "... Uso de listas, que são uma estrutura de dados não muito usual\n",
      "... Encoding de caracteres especiais\n",
      "... Aspas, aspas duplas e colchetes\n"
     ]
    }
   ],
   "source": [
    "print(\"Mesmos problemas de 'meios_transporte':\")\n",
    "print(\"... Uso de listas, que são uma estrutura de dados não muito usual\")\n",
    "print(\"... Encoding de caracteres especiais\")\n",
    "print(\"... Aspas, aspas duplas e colchetes\")\n",
    "print(\"Contudo, todas as entradas estão ordenadas alfabéticamente\")"
   ]
  },
  {
   "cell_type": "markdown",
   "metadata": {},
   "source": [
    "# Coluna: identidade_genero"
   ]
  },
  {
   "cell_type": "code",
   "execution_count": 45,
   "metadata": {},
   "outputs": [
    {
     "name": "stdout",
     "output_type": "stream",
     "text": [
      "Valores únicos da coluna 'identidade_genero':\n",
      "['Cis' 'Não' 'Outro' 'Homem transexual' 'Mulher transexual'\n",
      " 'Heterossexual' 'Homossexual (gay / lésbica)' 'Bissexual' 'Sim'\n",
      " 'Travesti' nan]\n",
      "Há entradas 'Sim', 'Não' e 'nan', que são inválidas e devem ser trocadas por 'Não Informado'\n",
      "Há entrada 'Travesti', que é válida, porém pode haver um estudo de negócio para avaliar se é equivalente a 'Mulher transexual'\n"
     ]
    }
   ],
   "source": [
    "print(f\"Valores únicos da coluna 'identidade_genero':\\n{df[\"identidade_genero\"].unique()}\")\n",
    "print(\"Há entradas 'Sim', 'Não' e 'nan', que são inválidas e devem ser trocadas por 'Não Informado'\")\n",
    "print(\"Há entrada 'Travesti', que é válida, porém pode haver um estudo de negócio para avaliar se é equivalente a 'Mulher transexual'\")"
   ]
  },
  {
   "cell_type": "code",
   "execution_count": 46,
   "metadata": {},
   "outputs": [
    {
     "data": {
      "text/plain": [
       "identidade_genero\n",
       "Não                            69781\n",
       "Cis                            21033\n",
       "Mulher transexual               3792\n",
       "Homem transexual                1939\n",
       "Outro                           1343\n",
       "Heterossexual                   1025\n",
       "Sim                               50\n",
       "Homossexual (gay / lésbica)       44\n",
       "Travesti                          35\n",
       "Bissexual                          6\n",
       "Name: count, dtype: int64"
      ]
     },
     "execution_count": 46,
     "metadata": {},
     "output_type": "execute_result"
    }
   ],
   "source": [
    "df[\"identidade_genero\"].value_counts()"
   ]
  },
  {
   "cell_type": "markdown",
   "metadata": {},
   "source": [
    "# Coluna: meios_comunicacao"
   ]
  },
  {
   "cell_type": "code",
   "execution_count": null,
   "metadata": {},
   "outputs": [
    {
     "name": "stdout",
     "output_type": "stream",
     "text": [
      "Valores únicos da coluna 'meios_comunicacao':\n",
      "['Internet, Televisão' '[]'\n",
      " '[\"R\\\\u00e1dio\", \"Televis\\\\u00e3o\", \"Jornal\", \"Internet\"]'\n",
      " '[\"Televis\\\\u00e3o\", \"Internet\", \"Jornal\"]' 'Televisão'\n",
      " 'Rádio, Televisão' '[\"Televis\\\\u00e3o\", \"Internet\"]' 'Internet'\n",
      " 'Outros, Rádio, Televisão' 'Internet, Rádio, Televisão'\n",
      " '[\"Televis\\\\u00e3o\"]' 'Internet, Rádio' '[\"Televis\\\\u00e3o\", \"Outros\"]'\n",
      " 'Jornal, Rádio, Televisão' 'Internet, Jornal, Rádio, Revista, Televisão'\n",
      " \"['Internet']\" 'Internet, Jornal, Rádio, Televisão' 'Rádio'\n",
      " 'Outros, Televisão' \"['Televisão', 'Internet']\"\n",
      " '[\"R\\\\u00e1dio\", \"Jornal\"]' \"['Rádio', 'Televisão', 'Internet']\" 'Outros'\n",
      " 'Internet, Jornal, Televisão' '[\"R\\\\u00e1dio\"]'\n",
      " 'Internet, Rádio, Revista, Televisão' 'Internet, Rádio, Revista'\n",
      " 'Internet, Revista, Televisão' 'Internet, Outros, Televisão'\n",
      " '[\"R\\\\u00e1dio\", \"Televis\\\\u00e3o\", \"Jornal\", \"Revista\", \"Internet\"]'\n",
      " '[\"Internet\", \"Televis\\\\u00e3o\"]' '[\"Internet\"]'\n",
      " 'Internet, Outros, Rádio, Televisão'\n",
      " '[\"R\\\\u00e1dio\", \"Televis\\\\u00e3o\", \"Internet\"]'\n",
      " '[\"R\\\\u00e1dio\", \"Televis\\\\u00e3o\"]'\n",
      " '[\"R\\\\u00e1dio\", \"Televis\\\\u00e3o\", \"Jornal\"]'\n",
      " 'Jornal, Rádio, Revista, Televisão'\n",
      " 'Internet, Jornal, Outros, Rádio, Revista, Televisão'\n",
      " 'Internet, Jornal, Outros, Revista, Televisão' '[\"Outros\", \"Internet\"]'\n",
      " '[\"Televis\\\\u00e3o\", \"Internet\", \"R\\\\u00e1dio\"]'\n",
      " '[\"Televis\\\\u00e3o\", \"Jornal\", \"Internet\"]' 'Internet, Outros'\n",
      " 'Jornal, Rádio' \"['Rádio']\" 'Internet, Jornal, Rádio'\n",
      " '[\"Televis\\\\u00e3o\", \"Internet\", \"Outros\"]' '[\"Internet\", \"R\\\\u00e1dio\"]'\n",
      " \"['Rádio', 'Televisão', 'Jornal', 'Revista']\" 'Revista, Televisão'\n",
      " 'Rádio, Revista, Televisão' \"['Rádio', 'Internet']\"\n",
      " 'Internet, Jornal, Revista, Televisão'\n",
      " 'Internet, Outros, Rádio, Revista, Televisão'\n",
      " '[\"R\\\\u00e1dio\", \"Televis\\\\u00e3o\", \"Jornal\", \"Revista\", \"Internet\", \"Outros\"]'\n",
      " \"['Internet', 'Televisão']\" 'Jornal, Televisão' \"['Televisão']\"\n",
      " '[\"Televis\\\\u00e3o\", \"Internet\", \"Jornal\", \"R\\\\u00e1dio\"]'\n",
      " '[\"Televis\\\\u00e3o\", \"Jornal\", \"Revista\", \"Internet\"]' 'Jornal'\n",
      " 'Internet, Jornal' \"['Televisão', 'Internet', 'Outros']\"\n",
      " 'Internet, Jornal, Outros, Rádio, Televisão'\n",
      " '[\"R\\\\u00e1dio\", \"Jornal\", \"Televis\\\\u00e3o\", \"Internet\"]'\n",
      " '[\"R\\\\u00e1dio\", \"Internet\", \"Televis\\\\u00e3o\"]'\n",
      " '[\"Outros\", \"Televis\\\\u00e3o\"]'\n",
      " '[\"Jornal\", \"Internet\", \"Televis\\\\u00e3o\"]' '[\"Outros\"]'\n",
      " '[\"Internet\", \"Outros\"]' '[\"R\\\\u00e1dio\", \"Televis\\\\u00e3o\", \"Revista\"]'\n",
      " '[\"Televis\\\\u00e3o\", \"Jornal\"]' 'Jornal, Revista, Televisão'\n",
      " '[\"R\\\\u00e1dio\", \"Internet\"]' '[\"Jornal\"]'\n",
      " '[\"Televis\\\\u00e3o\", \"Revista\", \"Internet\"]'\n",
      " 'Internet, Outros, Revista, Televisão'\n",
      " '[\"Televis\\\\u00e3o\", \"R\\\\u00e1dio\"]'\n",
      " '[\"Televis\\\\u00e3o\", \"R\\\\u00e1dio\", \"Internet\"]'\n",
      " '[\"R\\\\u00e1dio\", \"Outros\"]' 'Internet, Revista' 'Outros, Rádio'\n",
      " '[\"R\\\\u00e1dio\", \"Televis\\\\u00e3o\", \"Jornal\", \"Revista\"]'\n",
      " 'Rádio, Revista'\n",
      " '[\"Televis\\\\u00e3o\", \"R\\\\u00e1dio\", \"Internet\", \"Jornal\", \"Revista\", \"Outros\"]'\n",
      " '[\"R\\\\u00e1dio\", \"Televis\\\\u00e3o\", \"Revista\", \"Internet\"]'\n",
      " 'Internet, Jornal, Rádio, Revista'\n",
      " '[\"R\\\\u00e1dio\", \"Televis\\\\u00e3o\", \"Outros\"]' \"['Internet', 'Rádio']\"\n",
      " '[\"R\\\\u00e1dio\", \"Televis\\\\u00e3o\", \"Internet\", \"Jornal\"]'\n",
      " '[\"Televis\\\\u00e3o\", \"Outros\", \"Internet\"]'\n",
      " 'Outros, Rádio, Revista, Televisão' \"['Outros']\"\n",
      " '[\"R\\\\u00e1dio\", \"Revista\", \"Internet\"]'\n",
      " '[\"R\\\\u00e1dio\", \"Revista\", \"Jornal\", \"Televis\\\\u00e3o\", \"Internet\"]'\n",
      " 'Jornal, Outros, Televisão' \"['Televisão', 'Rádio', 'Internet']\"\n",
      " 'Jornal, Rádio, Revista' '[\"R\\\\u00e1dio\", \"Jornal\", \"Internet\"]'\n",
      " 'Internet, Jornal, Revista' \"['Rádio', 'Jornal', 'Internet']\"\n",
      " '[\"Internet\", \"Televis\\\\u00e3o\", \"R\\\\u00e1dio\", \"Jornal\", \"Revista\"]'\n",
      " '[\"R\\\\u00e1dio\", \"Televis\\\\u00e3o\", \"Outros\", \"Internet\"]'\n",
      " '[\"Televis\\\\u00e3o\", \"Internet\", \"Outros\", \"R\\\\u00e1dio\"]'\n",
      " \"['Rádio', 'Revista', 'Jornal', 'Internet']\"\n",
      " '[\"Televis\\\\u00e3o\", \"Jornal\", \"Internet\", \"Outros\"]'\n",
      " \"['Rádio', 'Televisão', 'Jornal', 'Internet']\"\n",
      " '[\"R\\\\u00e1dio\", \"Televis\\\\u00e3o\", \"Internet\", \"Outros\"]'\n",
      " 'Outros, Rádio, Revista' \"['Rádio', 'Internet', 'Televisão']\"\n",
      " '4 Salários Mínimos, Internet, Rádio, Revista, Televisão'\n",
      " \"['Televisão', 'Internet', 'Rádio']\"\n",
      " '[\"R\\\\u00e1dio\", \"Jornal\", \"Revista\", \"Internet\"]'\n",
      " '[\"R\\\\u00e1dio\", \"Televis\\\\u00e3o\", \"Jornal\", \"Internet\", \"Revista\"]'\n",
      " 'Internet, Jornal, Outros, Televisão' 'Internet, Jornal, Outros, Revista'\n",
      " \"['Rádio', 'Televisão']\" \"['Rádio', 'Televisão', 'Jornal']\"\n",
      " \"['Televisão', 'Internet', 'Jornal']\"\n",
      " '[\"Televis\\\\u00e3o\", \"Outros\", \"R\\\\u00e1dio\"]'\n",
      " '[\"R\\\\u00e1dio\", \"Televis\\\\u00e3o\", \"Internet\", \"Revista\"]'\n",
      " \"['Televisão', 'Rádio', 'Revista', 'Internet']\"\n",
      " \"['Rádio', 'Televisão', 'Jornal', 'Revista', 'Internet']\"\n",
      " '[\"Internet\", \"R\\\\u00e1dio\", \"Televis\\\\u00e3o\"]'\n",
      " '[\"R\\\\u00e1dio\", \"Televis\\\\u00e3o\", \"Jornal\", \"Internet\", \"Outros\"]'\n",
      " 'Jornal, Outros' \"['Jornal', 'Rádio']\"\n",
      " '[\"Internet\", \"Televis\\\\u00e3o\", \"R\\\\u00e1dio\"]'\n",
      " '[\"Internet\", \"Televis\\\\u00e3o\", \"Outros\"]'\n",
      " '[\"R\\\\u00e1dio\", \"Televis\\\\u00e3o\", \"Revista\", \"Jornal\", \"Internet\"]'\n",
      " 'Revista' \"['Televisão', 'Rádio', 'Jornal']\"\n",
      " '[\"R\\\\u00e1dio\", \"Revista\", \"Internet\", \"Televis\\\\u00e3o\"]'\n",
      " '[\"Televis\\\\u00e3o\", \"R\\\\u00e1dio\", \"Outros\"]'\n",
      " 'Jornal, Outros, Rádio, Televisão'\n",
      " '[\"Jornal\", \"Televis\\\\u00e3o\", \"R\\\\u00e1dio\", \"Revista\", \"Internet\"]'\n",
      " '[\"Jornal\", \"Revista\"]' '[\"Revista\", \"Internet\", \"Televis\\\\u00e3o\"]'\n",
      " '[\"Jornal\", \"R\\\\u00e1dio\", \"Televis\\\\u00e3o\", \"Revista\", \"Internet\"]'\n",
      " '[\"R\\\\u00e1dio\", \"Internet\", \"Jornal\", \"Televis\\\\u00e3o\"]'\n",
      " '[\"Jornal\", \"Televis\\\\u00e3o\", \"R\\\\u00e1dio\"]'\n",
      " '[\"Internet\", \"Televis\\\\u00e3o\", \"Jornal\"]'\n",
      " \"['Rádio', 'Internet', 'Jornal']\"\n",
      " '[\"Internet\", \"Revista\", \"Televis\\\\u00e3o\"]'\n",
      " \"['Rádio', 'Jornal', 'Outros']\" 'Internet, Outros, Revista'\n",
      " \"['Televisão', 'Jornal', 'Revista']\" '[\"Jornal\", \"Internet\"]'\n",
      " '[\"Jornal\", \"Revista\", \"Internet\"]'\n",
      " \"['Rádio', 'Televisão', 'Revista', 'Internet', 'Jornal']\"\n",
      " '[\"R\\\\u00e1dio\", \"Internet\", \"Revista\", \"Televis\\\\u00e3o\"]'\n",
      " '[\"Revista\", \"Televis\\\\u00e3o\"]' \"['Televisão', 'Outros', 'Internet']\"\n",
      " 'Jornal, Outros, Rádio, Revista, Televisão' 'Outros, Revista'\n",
      " '[\"R\\\\u00e1dio\", \"Jornal\", \"Revista\", \"Internet\", \"Televis\\\\u00e3o\"]'\n",
      " '[\"Jornal\", \"Televis\\\\u00e3o\"]' \"['Jornal', 'Internet', 'Televisão']\"\n",
      " 'Internet, Outros, Rádio' 'Internet, Jornal, Outros'\n",
      " \"['Televisão', 'Jornal', 'Revista', 'Internet']\"\n",
      " '[\"Televis\\\\u00e3o\", \"Revista\", \"Outros\"]'\n",
      " '[\"Televis\\\\u00e3o\", \"Internet\", \"R\\\\u00e1dio\", \"Jornal\"]'\n",
      " \"['Rádio', 'Televisão', 'Internet', 'Outros']\"\n",
      " '[\"R\\\\u00e1dio\", \"Jornal\", \"Televis\\\\u00e3o\", \"Revista\", \"Internet\"]'\n",
      " \"['Rádio', 'Televisão', 'Jornal', 'Revista', 'Internet', 'Outros']\"\n",
      " '[\"Revista\", \"Internet\"]'\n",
      " '[\"Jornal\", \"Televis\\\\u00e3o\", \"Internet\", \"Outros\"]'\n",
      " '[\"Revista\", \"R\\\\u00e1dio\", \"Internet\"]' 'Jornal, Outros, Rádio'\n",
      " '[\"Internet\", \"Jornal\", \"Televis\\\\u00e3o\"]' '[\"Revista\", \"Jornal\"]'\n",
      " '[\"R\\\\u00e1dio\", \"Televis\\\\u00e3o\", \"Jornal\", \"Outros\"]'\n",
      " '[\"R\\\\u00e1dio\", \"Jornal\", \"Internet\", \"Outros\"]'\n",
      " '[\"Jornal\", \"R\\\\u00e1dio\", \"Internet\"]'\n",
      " 'Jornal, Outros, Revista, Televisão'\n",
      " '[\"Televis\\\\u00e3o\", \"R\\\\u00e1dio\", \"Revista\", \"Jornal\", \"Internet\"]'\n",
      " \"['Rádio', 'Televisão', 'Revista', 'Internet']\"\n",
      " '[\"Jornal\", \"Internet\", \"R\\\\u00e1dio\"]'\n",
      " \"['Televisão', 'Jornal', 'Internet']\"\n",
      " '[\"Internet\", \"Jornal\", \"Televis\\\\u00e3o\", \"R\\\\u00e1dio\"]'\n",
      " 'Internet, Jornal, Outros, Rádio'\n",
      " '[\"Televis\\\\u00e3o\", \"R\\\\u00e1dio\", \"Internet\", \"Outros\"]'\n",
      " 'Internet, Outros, Rádio, Revista'\n",
      " '[\"R\\\\u00e1dio\", \"Televis\\\\u00e3o\", \"Revista\", \"Internet\", \"Jornal\"]'\n",
      " '[\"Internet\", \"Revista\", \"Jornal\", \"Televis\\\\u00e3o\", \"R\\\\u00e1dio\"]'\n",
      " '[\"R\\\\u00e1dio\", \"Revista\", \"Jornal\"]' 'Outros, Revista, Televisão'\n",
      " '[\"Televis\\\\u00e3o\", \"Internet\", \"R\\\\u00e1dio\", \"Revista\"]'\n",
      " \"['Rádio', 'Revista', 'Internet']\" '[\"Televis\\\\u00e3o\", \"Revista\"]'\n",
      " '[\"Televis\\\\u00e3o\", \"R\\\\u00e1dio\", \"Internet\", \"Jornal\"]'\n",
      " '[\"Televis\\\\u00e3o\", \"Internet\", \"Revista\"]'\n",
      " '[\"R\\\\u00e1dio\", \"Internet\", \"Revista\"]'\n",
      " '[\"R\\\\u00e1dio\", \"Internet\", \"Outros\"]'\n",
      " '[\"R\\\\u00e1dio\", \"Televis\\\\u00e3o\", \"Internet\", \"Jornal\", \"Revista\"]'\n",
      " '[\"Jornal\", \"Televis\\\\u00e3o\", \"R\\\\u00e1dio\", \"Internet\"]'\n",
      " '[\"R\\\\u00e1dio\", \"Jornal\", \"Televis\\\\u00e3o\", \"Internet\", \"Revista\"]'\n",
      " '[\"R\\\\u00e1dio\", \"Jornal\", \"Televis\\\\u00e3o\"]'\n",
      " '[\"Internet\", \"Televis\\\\u00e3o\", \"R\\\\u00e1dio\", \"Jornal\"]'\n",
      " \"['Rádio', 'Televisão', 'Outros']\"\n",
      " '[\"Televis\\\\u00e3o\", \"R\\\\u00e1dio\", \"Jornal\", \"Revista\", \"Internet\"]'\n",
      " \"['Rádio', 'Televisão', 'Internet', 'Revista', 'Jornal']\"\n",
      " '[\"R\\\\u00e1dio\", \"Televis\\\\u00e3o\", \"Internet\", \"Revista\", \"Jornal\"]'\n",
      " '[\"Televis\\\\u00e3o\", \"Jornal\", \"R\\\\u00e1dio\"]'\n",
      " \"['Rádio', 'Internet', 'Outros']\" \"['Televisão', 'Rádio']\"\n",
      " '[\"Internet\", \"Revista\", \"Jornal\"]'\n",
      " '[\"Internet\", \"Jornal\", \"R\\\\u00e1dio\", \"Televis\\\\u00e3o\"]'\n",
      " '[\"R\\\\u00e1dio\", \"Revista\", \"Internet\", \"Jornal\"]'\n",
      " '[\"R\\\\u00e1dio\", \"Internet\", \"Jornal\"]'\n",
      " '[\"Televis\\\\u00e3o\", \"R\\\\u00e1dio\", \"Internet\", \"Revista\", \"Jornal\"]'\n",
      " 'Internet, Mais de 4 Salários Mínimos, Televisão'\n",
      " '[\"Internet\", \"Revista\", \"Jornal\", \"Televis\\\\u00e3o\"]'\n",
      " '[\"Televis\\\\u00e3o\", \"R\\\\u00e1dio\", \"Internet\", \"Revista\"]'\n",
      " \"['Televisão', 'Revista', 'Internet']\"\n",
      " '[\"R\\\\u00e1dio\", \"Internet\", \"Revista\", \"Jornal\"]'\n",
      " \"['Rádio', 'Televisão', 'Internet', 'Jornal']\"\n",
      " \"['Rádio', 'Internet', 'Jornal', 'Televisão']\"\n",
      " '[\"R\\\\u00e1dio\", \"Jornal\", \"Revista\"]'\n",
      " \"['Rádio', 'Televisão', 'Revista', 'Jornal', 'Internet']\"\n",
      " '[\"R\\\\u00e1dio\", \"Internet\", \"Televis\\\\u00e3o\", \"Jornal\"]'\n",
      " \"['Rádio', 'Jornal', 'Televisão', 'Revista', 'Internet']\"\n",
      " '[\"Televis\\\\u00e3o\", \"Jornal\", \"Revista\", \"Internet\", \"R\\\\u00e1dio\"]'\n",
      " 'Jornal, Outros, Revista'\n",
      " \"['Rádio', 'Jornal', 'Revista', 'Internet', 'Televisão']\"\n",
      " \"['Revista', 'Internet']\"\n",
      " '[\"R\\\\u00e1dio\", \"Televis\\\\u00e3o\", \"Jornal\", \"Revista\", \"Outros\"]'\n",
      " '[\"Outros\", \"Internet\", \"Televis\\\\u00e3o\", \"R\\\\u00e1dio\"]'\n",
      " '[\"R\\\\u00e1dio\", \"Televis\\\\u00e3o\", \"Revista\", \"Internet\", \"Outros\"]'\n",
      " '[\"R\\\\u00e1dio\", \"Internet\", \"Outros\", \"Televis\\\\u00e3o\", \"Jornal\"]'\n",
      " \"['Rádio', 'Televisão', 'Revista']\" '3 Salários Mínimos'\n",
      " '[\"Outros\", \"Televis\\\\u00e3o\", \"Revista\", \"Internet\"]'\n",
      " '[\"Jornal\", \"Internet\", \"Televis\\\\u00e3o\", \"R\\\\u00e1dio\"]'\n",
      " '[\"Jornal\", \"Televis\\\\u00e3o\", \"Internet\"]'\n",
      " \"['Revista', 'Internet', 'Televisão']\" \"['Rádio', 'Jornal']\"\n",
      " \"['Rádio', 'Jornal', 'Revista', 'Televisão', 'Internet']\"\n",
      " '[\"Internet\", \"Jornal\", \"R\\\\u00e1dio\"]'\n",
      " \"['Televisão', 'Internet', 'Jornal', 'Rádio']\" \"['Rádio', 'Outros']\"\n",
      " '[\"R\\\\u00e1dio\", \"Revista\"]'\n",
      " '[\"Televis\\\\u00e3o\", \"R\\\\u00e1dio\", \"Jornal\", \"Internet\"]'\n",
      " '[\"R\\\\u00e1dio\", \"Revista\", \"Outros\"]'\n",
      " \"['Televisão', 'Jornal', 'Internet', 'Outros']\" 'Grupos Religiosos'\n",
      " '[\"Televis\\\\u00e3o\", \"Revista\", \"Jornal\", \"Internet\"]'\n",
      " '[\"Televis\\\\u00e3o\", \"Internet\", \"Jornal\", \"Revista\", \"R\\\\u00e1dio\"]'\n",
      " '[\"Jornal\", \"Revista\", \"Internet\", \"Televis\\\\u00e3o\"]' 'Jornal, Revista'\n",
      " '[\"Revista\", \"Internet\", \"Jornal\"]'\n",
      " \"['Televisão', 'Jornal', 'Revista', 'Rádio']\"\n",
      " \"['Rádio', 'Televisão', 'Jornal', 'Internet', 'Outros']\"\n",
      " '[\"Televis\\\\u00e3o\", \"Internet\", \"Revista\", \"Jornal\"]'\n",
      " '[\"Outros\", \"R\\\\u00e1dio\"]'\n",
      " '[\"R\\\\u00e1dio\", \"Televis\\\\u00e3o\", \"Revista\", \"Internet\", \"Jornal\", \"Outros\"]'\n",
      " '[\"Televis\\\\u00e3o\", \"R\\\\u00e1dio\", \"Jornal\"]'\n",
      " \"['Internet', 'Jornal', 'Televisão']\"\n",
      " '[\"R\\\\u00e1dio\", \"Jornal\", \"Internet\", \"Televis\\\\u00e3o\"]'\n",
      " '[\"Televis\\\\u00e3o\", \"Revista\", \"Internet\", \"Jornal\"]'\n",
      " \"['Internet', 'Televisão', 'Jornal']\"\n",
      " '[\"Televis\\\\u00e3o\", \"Jornal\", \"R\\\\u00e1dio\", \"Internet\"]'\n",
      " '[\"Internet\", \"Revista\"]'\n",
      " '[\"R\\\\u00e1dio\", \"Televis\\\\u00e3o\", \"Revista\", \"Jornal\"]'\n",
      " '[\"R\\\\u00e1dio\", \"Televis\\\\u00e3o\", \"Revista\", \"Jornal\", \"Internet\", \"Outros\"]'\n",
      " \"['Internet', 'Televisão', 'Rádio']\"\n",
      " '[\"Televis\\\\u00e3o\", \"Jornal\", \"Internet\", \"Revista\"]'\n",
      " \"['Jornal', 'Internet']\"\n",
      " '[\"R\\\\u00e1dio\", \"Jornal\", \"Outros\", \"Internet\"]'\n",
      " '[\"Internet\", \"Jornal\"]' \"['Internet', 'Rádio', 'Televisão']\"\n",
      " '[\"R\\\\u00e1dio\", \"Outros\", \"Internet\"]'\n",
      " \"['Televisão', 'Revista', 'Jornal', 'Internet']\"\n",
      " '[\"Internet\", \"Outros\", \"R\\\\u00e1dio\", \"Televis\\\\u00e3o\"]'\n",
      " '[\"Televis\\\\u00e3o\", \"Jornal\", \"Revista\"]' \"['Televisão', 'Jornal']\"\n",
      " '[\"R\\\\u00e1dio\", \"Jornal\", \"Outros\"]' 'Jornal, Outros, Rádio, Revista'\n",
      " '[\"Televis\\\\u00e3o\", \"Jornal\", \"Revista\", \"Internet\", \"Outros\"]'\n",
      " \"['Televisão', 'Revista']\"\n",
      " '[\"R\\\\u00e1dio\", \"Internet\", \"Outros\", \"Televis\\\\u00e3o\"]'\n",
      " '[\"R\\\\u00e1dio\", \"Jornal\", \"Televis\\\\u00e3o\", \"Revista\", \"Internet\", \"Outros\"]'\n",
      " \"['Rádio', 'Jornal', 'Televisão']\"\n",
      " '[\"Jornal\", \"Internet\", \"R\\\\u00e1dio\", \"Televis\\\\u00e3o\"]'\n",
      " '[\"Jornal\", \"Revista\", \"R\\\\u00e1dio\"]'\n",
      " '[\"Televis\\\\u00e3o\", \"R\\\\u00e1dio\", \"Jornal\", \"Revista\", \"Internet\", \"Outros\"]'\n",
      " \"['Televisão', 'Rádio', 'Internet', 'Outros']\"\n",
      " '[\"Outros\", \"Internet\", \"Televis\\\\u00e3o\"]'\n",
      " '[\"Televis\\\\u00e3o\", \"Revista\", \"Jornal\"]'\n",
      " '[\"R\\\\u00e1dio\", \"Revista\", \"Jornal\", \"Internet\"]'\n",
      " '[\"Revista\", \"Jornal\", \"Televis\\\\u00e3o\", \"Internet\"]'\n",
      " \"['Rádio', 'Revista']\"\n",
      " '[\"R\\\\u00e1dio\", \"Jornal\", \"Televis\\\\u00e3o\", \"Revista\"]'\n",
      " '[\"Televis\\\\u00e3o\", \"Internet\", \"Revista\", \"R\\\\u00e1dio\"]'\n",
      " \"['Televisão', 'Outros']\"\n",
      " \"['Rádio', 'Revista', 'Televisão', 'Jornal', 'Internet']\" 'Manhã'\n",
      " '[\"Revista\", \"Internet\", \"Jornal\", \"Televis\\\\u00e3o\", \"R\\\\u00e1dio\"]'\n",
      " '[\"R\\\\u00e1dio\", \"Revista\", \"Televis\\\\u00e3o\", \"Internet\"]'\n",
      " '[\"Televis\\\\u00e3o\", \"Jornal\", \"R\\\\u00e1dio\", \"Internet\", \"Revista\"]'\n",
      " '[\"R\\\\u00e1dio\", \"Revista\", \"Televis\\\\u00e3o\"]'\n",
      " '[\"Jornal\", \"Internet\", \"Revista\"]'\n",
      " '[\"Outros\", \"Televis\\\\u00e3o\", \"Internet\"]'\n",
      " \"['Televisão', 'Jornal', 'Rádio', 'Internet']\"\n",
      " '[\"Revista\", \"Internet\", \"Televis\\\\u00e3o\", \"Jornal\", \"R\\\\u00e1dio\"]'\n",
      " \"['Internet', 'Outros']\"\n",
      " '[\"Internet\", \"R\\\\u00e1dio\", \"Televis\\\\u00e3o\", \"Outros\"]'\n",
      " \"['Rádio', 'Jornal', 'Revista', 'Internet']\"\n",
      " '[\"Televis\\\\u00e3o\", \"R\\\\u00e1dio\", \"Revista\", \"Internet\", \"Outros\"]'\n",
      " '[\"Televis\\\\u00e3o\", \"R\\\\u00e1dio\", \"Revista\", \"Internet\"]'\n",
      " '[\"Jornal\", \"R\\\\u00e1dio\", \"Internet\", \"Televis\\\\u00e3o\"]'\n",
      " '[\"Televis\\\\u00e3o\", \"R\\\\u00e1dio\", \"Internet\", \"Jornal\", \"Revista\"]'\n",
      " '[\"Televis\\\\u00e3o\", \"Revista\", \"Internet\", \"Outros\"]'\n",
      " '[\"Televis\\\\u00e3o\", \"Revista\", \"Internet\", \"R\\\\u00e1dio\"]'\n",
      " '[\"Revista\", \"Televis\\\\u00e3o\", \"Internet\"]'\n",
      " \"['Televisão', 'Rádio', 'Revista', 'Jornal', 'Internet']\"\n",
      " '[\"Internet\", \"Revista\", \"R\\\\u00e1dio\", \"Televis\\\\u00e3o\"]'\n",
      " '[\"Televis\\\\u00e3o\", \"R\\\\u00e1dio\", \"Jornal\", \"Revista\"]'\n",
      " '[\"Internet\", \"Outros\", \"Televis\\\\u00e3o\"]'\n",
      " '[\"R\\\\u00e1dio\", \"Televis\\\\u00e3o\", \"Jornal\", \"Internet\", \"Revista\", \"Outros\"]'\n",
      " '[\"Revista\", \"Jornal\", \"Internet\"]'\n",
      " \"['Televisão', 'Jornal', 'Internet', 'Rádio']\"\n",
      " 'Internet, Jornal, Outros, Rádio, Revista'\n",
      " '[\"Jornal\", \"R\\\\u00e1dio\", \"Televis\\\\u00e3o\", \"Internet\"]']\n"
     ]
    }
   ],
   "source": [
    "print(f\"Valores únicos da coluna 'meios_comunicacao':\\n{df[\"meios_comunicacao\"].unique()}\")"
   ]
  },
  {
   "cell_type": "code",
   "execution_count": 48,
   "metadata": {},
   "outputs": [
    {
     "name": "stdout",
     "output_type": "stream",
     "text": [
      "Todas as entradas estão ordenadas: False\n"
     ]
    }
   ],
   "source": [
    "meios_comunicacao_linhas_ordenadas = df['meios_comunicacao'].apply(lambda x: is_sorted(remover_acentos_list(convert_to_list(x))))\n",
    "print(f\"Todas as entradas estão ordenadas: {meios_comunicacao_linhas_ordenadas.all()}\")"
   ]
  },
  {
   "cell_type": "code",
   "execution_count": 51,
   "metadata": {},
   "outputs": [
    {
     "data": {
      "text/plain": [
       "3        [\"R\\u00e1dio\", \"Televis\\u00e3o\", \"Jornal\", \"In...\n",
       "4                 [\"Televis\\u00e3o\", \"Internet\", \"Jornal\"]\n",
       "8                           [\"Televis\\u00e3o\", \"Internet\"]\n",
       "31                            [\"Televis\\u00e3o\", \"Outros\"]\n",
       "41                          [\"Televis\\u00e3o\", \"Internet\"]\n",
       "                               ...                        \n",
       "99935    [\"Televis\\u00e3o\", \"R\\u00e1dio\", \"Jornal\", \"Re...\n",
       "99939    [\"R\\u00e1dio\", \"Internet\", \"Televis\\u00e3o\", \"...\n",
       "99952    [\"R\\u00e1dio\", \"Televis\\u00e3o\", \"Jornal\", \"Re...\n",
       "99954                       [\"Televis\\u00e3o\", \"Internet\"]\n",
       "99963                       [\"Televis\\u00e3o\", \"Internet\"]\n",
       "Name: meios_comunicacao, Length: 6324, dtype: object"
      ]
     },
     "execution_count": 51,
     "metadata": {},
     "output_type": "execute_result"
    }
   ],
   "source": [
    "df.loc[~meios_comunicacao_linhas_ordenadas, \"meios_comunicacao\"]"
   ]
  },
  {
   "cell_type": "code",
   "execution_count": null,
   "metadata": {},
   "outputs": [],
   "source": [
    "print(\"Mesmos problemas de 'meios_transporte':\")\n",
    "print(\"... Uso de listas, que são uma estrutura de dados não muito usual\")\n",
    "print(\"... Encoding de caracteres especiais\")\n",
    "print(\"... Aspas, aspas duplas e colchetes\")\n",
    "print(\"... Entradas não ordenadas alfabeticamente\")"
   ]
  }
 ],
 "metadata": {
  "kernelspec": {
   "display_name": "desafio-dit",
   "language": "python",
   "name": "python3"
  },
  "language_info": {
   "codemirror_mode": {
    "name": "ipython",
    "version": 3
   },
   "file_extension": ".py",
   "mimetype": "text/x-python",
   "name": "python",
   "nbconvert_exporter": "python",
   "pygments_lexer": "ipython3",
   "version": "3.13.2"
  }
 },
 "nbformat": 4,
 "nbformat_minor": 2
}
