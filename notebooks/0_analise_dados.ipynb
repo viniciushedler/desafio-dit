{
 "cells": [
  {
   "cell_type": "code",
   "execution_count": 65,
   "metadata": {},
   "outputs": [],
   "source": [
    "import re\n",
    "\n",
    "import pandas as pd"
   ]
  },
  {
   "cell_type": "code",
   "execution_count": 25,
   "metadata": {},
   "outputs": [
    {
     "name": "stdout",
     "output_type": "stream",
     "text": [
      "Visualização inicial do dataframe:\n"
     ]
    },
    {
     "data": {
      "text/html": [
       "<div>\n",
       "<style scoped>\n",
       "    .dataframe tbody tr th:only-of-type {\n",
       "        vertical-align: middle;\n",
       "    }\n",
       "\n",
       "    .dataframe tbody tr th {\n",
       "        vertical-align: top;\n",
       "    }\n",
       "\n",
       "    .dataframe thead th {\n",
       "        text-align: right;\n",
       "    }\n",
       "</style>\n",
       "<table border=\"1\" class=\"dataframe\">\n",
       "  <thead>\n",
       "    <tr style=\"text-align: right;\">\n",
       "      <th></th>\n",
       "      <th>id_paciente</th>\n",
       "      <th>sexo</th>\n",
       "      <th>obito</th>\n",
       "      <th>bairro</th>\n",
       "      <th>raca_cor</th>\n",
       "      <th>ocupacao</th>\n",
       "      <th>religiao</th>\n",
       "      <th>luz_eletrica</th>\n",
       "      <th>data_cadastro</th>\n",
       "      <th>escolaridade</th>\n",
       "      <th>...</th>\n",
       "      <th>familia_beneficiaria_auxilio_brasil</th>\n",
       "      <th>crianca_matriculada_creche_pre_escola</th>\n",
       "      <th>altura</th>\n",
       "      <th>peso</th>\n",
       "      <th>pressao_sistolica</th>\n",
       "      <th>pressao_diastolica</th>\n",
       "      <th>n_atendimentos_atencao_primaria</th>\n",
       "      <th>n_atendimentos_hospital</th>\n",
       "      <th>updated_at</th>\n",
       "      <th>tipo</th>\n",
       "    </tr>\n",
       "  </thead>\n",
       "  <tbody>\n",
       "    <tr>\n",
       "      <th>0</th>\n",
       "      <td>cd6daa6e-038d-4952-af29-579e62e07f97</td>\n",
       "      <td>male</td>\n",
       "      <td>0</td>\n",
       "      <td>Parada de Lucas</td>\n",
       "      <td>Branca</td>\n",
       "      <td>Não se aplica</td>\n",
       "      <td>Sem religião</td>\n",
       "      <td>True</td>\n",
       "      <td>2021-06-24 00:00:00.000</td>\n",
       "      <td>Fundamental Incompleto</td>\n",
       "      <td>...</td>\n",
       "      <td>0</td>\n",
       "      <td>0</td>\n",
       "      <td>172.0</td>\n",
       "      <td>52.5</td>\n",
       "      <td>110.0</td>\n",
       "      <td>70.0</td>\n",
       "      <td>8</td>\n",
       "      <td>9</td>\n",
       "      <td>2021-06-01 00:00:00.000</td>\n",
       "      <td>historico</td>\n",
       "    </tr>\n",
       "    <tr>\n",
       "      <th>1</th>\n",
       "      <td>ad6cecb2-3a44-49ab-b2f3-6f9ffc2e2ec7</td>\n",
       "      <td>male</td>\n",
       "      <td>0</td>\n",
       "      <td>Cidade Nova</td>\n",
       "      <td>Parda</td>\n",
       "      <td>Assistente Administrativo</td>\n",
       "      <td>Evangélica</td>\n",
       "      <td>1</td>\n",
       "      <td>2021-01-07 00:00:00.000</td>\n",
       "      <td>Médio Incompleto</td>\n",
       "      <td>...</td>\n",
       "      <td>1</td>\n",
       "      <td>0</td>\n",
       "      <td>158.0</td>\n",
       "      <td>76.2</td>\n",
       "      <td>140.0</td>\n",
       "      <td>80.0</td>\n",
       "      <td>0</td>\n",
       "      <td>6</td>\n",
       "      <td>2020-06-25 00:00:00.000</td>\n",
       "      <td>historico</td>\n",
       "    </tr>\n",
       "    <tr>\n",
       "      <th>2</th>\n",
       "      <td>54e834e7-e722-4daa-8909-cf917a1247e6</td>\n",
       "      <td>male</td>\n",
       "      <td>0</td>\n",
       "      <td>Santa cruz</td>\n",
       "      <td>Parda</td>\n",
       "      <td>Não se aplica</td>\n",
       "      <td>Católica</td>\n",
       "      <td>1</td>\n",
       "      <td>2021-02-18 00:00:00.000</td>\n",
       "      <td>Fundamental Completo</td>\n",
       "      <td>...</td>\n",
       "      <td>0</td>\n",
       "      <td>0</td>\n",
       "      <td>53.0</td>\n",
       "      <td>82.5</td>\n",
       "      <td>180.0</td>\n",
       "      <td>60.0</td>\n",
       "      <td>5</td>\n",
       "      <td>2</td>\n",
       "      <td>2020-03-02 00:00:00.000</td>\n",
       "      <td>historico</td>\n",
       "    </tr>\n",
       "  </tbody>\n",
       "</table>\n",
       "<p>3 rows × 35 columns</p>\n",
       "</div>"
      ],
      "text/plain": [
       "                            id_paciente  sexo obito           bairro raca_cor  \\\n",
       "0  cd6daa6e-038d-4952-af29-579e62e07f97  male     0  Parada de Lucas   Branca   \n",
       "1  ad6cecb2-3a44-49ab-b2f3-6f9ffc2e2ec7  male     0      Cidade Nova    Parda   \n",
       "2  54e834e7-e722-4daa-8909-cf917a1247e6  male     0       Santa cruz    Parda   \n",
       "\n",
       "                    ocupacao      religiao luz_eletrica  \\\n",
       "0              Não se aplica  Sem religião         True   \n",
       "1  Assistente Administrativo    Evangélica            1   \n",
       "2              Não se aplica      Católica            1   \n",
       "\n",
       "             data_cadastro            escolaridade  ...  \\\n",
       "0  2021-06-24 00:00:00.000  Fundamental Incompleto  ...   \n",
       "1  2021-01-07 00:00:00.000        Médio Incompleto  ...   \n",
       "2  2021-02-18 00:00:00.000    Fundamental Completo  ...   \n",
       "\n",
       "  familia_beneficiaria_auxilio_brasil crianca_matriculada_creche_pre_escola  \\\n",
       "0                                   0                                     0   \n",
       "1                                   1                                     0   \n",
       "2                                   0                                     0   \n",
       "\n",
       "  altura  peso  pressao_sistolica pressao_diastolica  \\\n",
       "0  172.0  52.5              110.0               70.0   \n",
       "1  158.0  76.2              140.0               80.0   \n",
       "2   53.0  82.5              180.0               60.0   \n",
       "\n",
       "  n_atendimentos_atencao_primaria n_atendimentos_hospital  \\\n",
       "0                               8                       9   \n",
       "1                               0                       6   \n",
       "2                               5                       2   \n",
       "\n",
       "                updated_at       tipo  \n",
       "0  2021-06-01 00:00:00.000  historico  \n",
       "1  2020-06-25 00:00:00.000  historico  \n",
       "2  2020-03-02 00:00:00.000  historico  \n",
       "\n",
       "[3 rows x 35 columns]"
      ]
     },
     "execution_count": 25,
     "metadata": {},
     "output_type": "execute_result"
    }
   ],
   "source": [
    "df = pd.read_csv(\"../data/dados_ficha_a_desafio.csv\")\n",
    "print(f\"Visualização inicial do dataframe:\")\n",
    "df.head(3)"
   ]
  },
  {
   "cell_type": "code",
   "execution_count": null,
   "metadata": {},
   "outputs": [
    {
     "name": "stdout",
     "output_type": "stream",
     "text": [
      "Colunas do dataframe:\n",
      "Index(['id_paciente', 'sexo', 'obito', 'bairro', 'raca_cor', 'ocupacao',\n",
      "       'religiao', 'luz_eletrica', 'data_cadastro', 'escolaridade',\n",
      "       'nacionalidade', 'renda_familiar', 'data_nascimento',\n",
      "       'em_situacao_de_rua', 'frequenta_escola', 'meios_transporte',\n",
      "       'doencas_condicoes', 'identidade_genero', 'meios_comunicacao',\n",
      "       'orientacao_sexual', 'possui_plano_saude', 'em_caso_doenca_procura',\n",
      "       'situacao_profissional', 'vulnerabilidade_social',\n",
      "       'data_atualizacao_cadastro', 'familia_beneficiaria_auxilio_brasil',\n",
      "       'crianca_matriculada_creche_pre_escola', 'altura', 'peso',\n",
      "       'pressao_sistolica', 'pressao_diastolica',\n",
      "       'n_atendimentos_atencao_primaria', 'n_atendimentos_hospital',\n",
      "       'updated_at', 'tipo'],\n",
      "      dtype='object')\n"
     ]
    }
   ],
   "source": [
    "print(f\"Colunas do dataframe:\")\n",
    "print(df.columns)"
   ]
  },
  {
   "cell_type": "markdown",
   "metadata": {},
   "source": [
    "# Coluna: id_paciente"
   ]
  },
  {
   "cell_type": "markdown",
   "metadata": {},
   "source": [
    "## Requisito: Unicidade"
   ]
  },
  {
   "cell_type": "code",
   "execution_count": null,
   "metadata": {},
   "outputs": [
    {
     "name": "stdout",
     "output_type": "stream",
     "text": [
      "Avaliando se todas as entradas de 'id_paciente' são únicas:\n",
      "count\n",
      "1    98007\n",
      "2      986\n",
      "3        7\n",
      "Name: count, dtype: int64\n"
     ]
    },
    {
     "data": {
      "text/plain": [
       "'49cf308b-411f-4fd5-a33d-0446d48de446'"
      ]
     },
     "execution_count": 34,
     "metadata": {},
     "output_type": "execute_result"
    }
   ],
   "source": [
    "print(\"Avaliando se todas as entradas de 'id_paciente' são únicas:\")\n",
    "id_counts = df[\"id_paciente\"].value_counts()\n",
    "id_counts_counts = id_counts.value_counts()\n",
    "print(id_counts_counts)"
   ]
  },
  {
   "cell_type": "code",
   "execution_count": null,
   "metadata": {},
   "outputs": [
    {
     "name": "stdout",
     "output_type": "stream",
     "text": [
      "Há 986 id's duplicados e 7 id's triplicados\n",
      "Mostrando todas as ocorrências para o id triplicado '49cf308b-411f-4fd5-a33d-0446d48de446'\n"
     ]
    },
    {
     "data": {
      "text/html": [
       "<div>\n",
       "<style scoped>\n",
       "    .dataframe tbody tr th:only-of-type {\n",
       "        vertical-align: middle;\n",
       "    }\n",
       "\n",
       "    .dataframe tbody tr th {\n",
       "        vertical-align: top;\n",
       "    }\n",
       "\n",
       "    .dataframe thead th {\n",
       "        text-align: right;\n",
       "    }\n",
       "</style>\n",
       "<table border=\"1\" class=\"dataframe\">\n",
       "  <thead>\n",
       "    <tr style=\"text-align: right;\">\n",
       "      <th></th>\n",
       "      <th>id_paciente</th>\n",
       "      <th>sexo</th>\n",
       "      <th>obito</th>\n",
       "      <th>bairro</th>\n",
       "      <th>raca_cor</th>\n",
       "      <th>ocupacao</th>\n",
       "      <th>religiao</th>\n",
       "      <th>luz_eletrica</th>\n",
       "      <th>data_cadastro</th>\n",
       "      <th>escolaridade</th>\n",
       "      <th>...</th>\n",
       "      <th>familia_beneficiaria_auxilio_brasil</th>\n",
       "      <th>crianca_matriculada_creche_pre_escola</th>\n",
       "      <th>altura</th>\n",
       "      <th>peso</th>\n",
       "      <th>pressao_sistolica</th>\n",
       "      <th>pressao_diastolica</th>\n",
       "      <th>n_atendimentos_atencao_primaria</th>\n",
       "      <th>n_atendimentos_hospital</th>\n",
       "      <th>updated_at</th>\n",
       "      <th>tipo</th>\n",
       "    </tr>\n",
       "  </thead>\n",
       "  <tbody>\n",
       "    <tr>\n",
       "      <th>42083</th>\n",
       "      <td>49cf308b-411f-4fd5-a33d-0446d48de446</td>\n",
       "      <td>female</td>\n",
       "      <td>0</td>\n",
       "      <td>Catumbi</td>\n",
       "      <td>Branca</td>\n",
       "      <td>Técnico Mecânico</td>\n",
       "      <td>Religião de matriz africana</td>\n",
       "      <td>1</td>\n",
       "      <td>2023-08-29 10:59:09.410</td>\n",
       "      <td>Fundamental Incompleto</td>\n",
       "      <td>...</td>\n",
       "      <td>0</td>\n",
       "      <td>0</td>\n",
       "      <td>117.0</td>\n",
       "      <td>80.20</td>\n",
       "      <td>120.0</td>\n",
       "      <td>70.0</td>\n",
       "      <td>0</td>\n",
       "      <td>12</td>\n",
       "      <td>2020-03-02 00:00:00.000</td>\n",
       "      <td>historico</td>\n",
       "    </tr>\n",
       "    <tr>\n",
       "      <th>48094</th>\n",
       "      <td>49cf308b-411f-4fd5-a33d-0446d48de446</td>\n",
       "      <td>female</td>\n",
       "      <td>0</td>\n",
       "      <td>Irajá</td>\n",
       "      <td>Branca</td>\n",
       "      <td>Não se aplica</td>\n",
       "      <td>Outra</td>\n",
       "      <td>1</td>\n",
       "      <td>2021-03-24 19:35:47</td>\n",
       "      <td>Superior completo</td>\n",
       "      <td>...</td>\n",
       "      <td>0</td>\n",
       "      <td>1</td>\n",
       "      <td>158.0</td>\n",
       "      <td>70.85</td>\n",
       "      <td>170.0</td>\n",
       "      <td>100.0</td>\n",
       "      <td>0</td>\n",
       "      <td>7</td>\n",
       "      <td>2020-09-02 00:00:00.000</td>\n",
       "      <td>historico</td>\n",
       "    </tr>\n",
       "    <tr>\n",
       "      <th>87084</th>\n",
       "      <td>49cf308b-411f-4fd5-a33d-0446d48de446</td>\n",
       "      <td>female</td>\n",
       "      <td>False</td>\n",
       "      <td>Alto da Boa Vista</td>\n",
       "      <td>Parda</td>\n",
       "      <td>Empregado doméstico nos serviços gerais</td>\n",
       "      <td>Sem religião</td>\n",
       "      <td>1</td>\n",
       "      <td>2022-05-11 08:45:32.933</td>\n",
       "      <td>Fundamental Incompleto</td>\n",
       "      <td>...</td>\n",
       "      <td>0</td>\n",
       "      <td>1</td>\n",
       "      <td>155.0</td>\n",
       "      <td>18.60</td>\n",
       "      <td>143.0</td>\n",
       "      <td>70.0</td>\n",
       "      <td>0</td>\n",
       "      <td>3</td>\n",
       "      <td>2022-05-13 00:00:00.000</td>\n",
       "      <td>historico</td>\n",
       "    </tr>\n",
       "  </tbody>\n",
       "</table>\n",
       "<p>3 rows × 35 columns</p>\n",
       "</div>"
      ],
      "text/plain": [
       "                                id_paciente    sexo  obito             bairro  \\\n",
       "42083  49cf308b-411f-4fd5-a33d-0446d48de446  female      0            Catumbi   \n",
       "48094  49cf308b-411f-4fd5-a33d-0446d48de446  female      0              Irajá   \n",
       "87084  49cf308b-411f-4fd5-a33d-0446d48de446  female  False  Alto da Boa Vista   \n",
       "\n",
       "      raca_cor                                 ocupacao  \\\n",
       "42083   Branca                         Técnico Mecânico   \n",
       "48094   Branca                            Não se aplica   \n",
       "87084    Parda  Empregado doméstico nos serviços gerais   \n",
       "\n",
       "                          religiao luz_eletrica            data_cadastro  \\\n",
       "42083  Religião de matriz africana            1  2023-08-29 10:59:09.410   \n",
       "48094                        Outra            1      2021-03-24 19:35:47   \n",
       "87084                 Sem religião            1  2022-05-11 08:45:32.933   \n",
       "\n",
       "                 escolaridade  ... familia_beneficiaria_auxilio_brasil  \\\n",
       "42083  Fundamental Incompleto  ...                                   0   \n",
       "48094       Superior completo  ...                                   0   \n",
       "87084  Fundamental Incompleto  ...                                   0   \n",
       "\n",
       "      crianca_matriculada_creche_pre_escola altura   peso  pressao_sistolica  \\\n",
       "42083                                     0  117.0  80.20              120.0   \n",
       "48094                                     1  158.0  70.85              170.0   \n",
       "87084                                     1  155.0  18.60              143.0   \n",
       "\n",
       "      pressao_diastolica n_atendimentos_atencao_primaria  \\\n",
       "42083               70.0                               0   \n",
       "48094              100.0                               0   \n",
       "87084               70.0                               0   \n",
       "\n",
       "      n_atendimentos_hospital               updated_at       tipo  \n",
       "42083                      12  2020-03-02 00:00:00.000  historico  \n",
       "48094                       7  2020-09-02 00:00:00.000  historico  \n",
       "87084                       3  2022-05-13 00:00:00.000  historico  \n",
       "\n",
       "[3 rows x 35 columns]"
      ]
     },
     "execution_count": 44,
     "metadata": {},
     "output_type": "execute_result"
    }
   ],
   "source": [
    "print(f\"Há {id_counts_counts[2]} id's duplicados e {id_counts_counts[3]} id's triplicados\")\n",
    "id_triplicado_exemplo = id_counts[id_counts == 3].index[0]\n",
    "print(f\"Mostrando todas as ocorrências para o id triplicado '{id_triplicado_exemplo}'\")\n",
    "df[df[\"id_paciente\"] == id_triplicado_exemplo]"
   ]
  },
  {
   "cell_type": "code",
   "execution_count": 62,
   "metadata": {},
   "outputs": [
    {
     "name": "stdout",
     "output_type": "stream",
     "text": [
      "Avaliando se há algum id duplicado/triplicado com repetição dos dados\n",
      "Total de entradas duplicadas/triplicadas com todos os dados iguais: 0\n",
      "Avaliando quão semelhante os id's repetidos são (caso sejam leves modificações dos mesmos pacientes):\n",
      "Valor máximo da média de valores iguais entre os id's duplicados/triplicados: 55.88%\n",
      "Avaliação final: os id's duplicados/triplicados são de pacientes diferentes\n"
     ]
    }
   ],
   "source": [
    "print(\"Avaliando se há algum id duplicado/triplicado com repetição dos dados\")\n",
    "duplicated_ids = id_counts[id_counts > 1].index\n",
    "duplicated_entries = df[df[\"id_paciente\"].isin(duplicated_ids)]\n",
    "grouped = duplicated_entries.groupby(\"id_paciente\").nunique()\n",
    "grouped\n",
    "\n",
    "# Checando se há entradas duplicadas/triplicadas com todos os dados iguais\n",
    "equal_entries = grouped[grouped.eq(1).all(axis=1)]\n",
    "print(f\"Total de entradas duplicadas/triplicadas com todos os dados iguais: {equal_entries.shape[0]}\")\n",
    "print(f\"Avaliando quão semelhante os id's repetidos são (caso sejam leves modificações dos mesmos pacientes):\")\n",
    "entries_similarity = grouped.eq(1).mean(axis=1).sort_values(ascending=False).head(10)\n",
    "print(f\"Valor máximo da média de valores iguais entre os id's duplicados/triplicados: {entries_similarity.max():.2%}\")\n",
    "print(f\"Avaliação final: os id's duplicados/triplicados são de pacientes diferentes\")"
   ]
  },
  {
   "cell_type": "markdown",
   "metadata": {},
   "source": [
    "## Requisito: Máscara"
   ]
  },
  {
   "cell_type": "code",
   "execution_count": 71,
   "metadata": {},
   "outputs": [],
   "source": [
    "def verificar_mascara_id_paciente(id_paciente: str) -> bool:\n",
    "    \"\"\"\n",
    "    Verifica se a máscara do id_paciente está correta.\n",
    "    \"\"\"\n",
    "    return bool(re.match(r\"^[a-zA-Z0-9]{8}-[a-zA-Z0-9]{4}-[a-zA-Z0-9]{4}-[a-zA-Z0-9]{4}-[a-zA-Z0-9]{12}$\", id_paciente))"
   ]
  },
  {
   "cell_type": "code",
   "execution_count": 78,
   "metadata": {},
   "outputs": [
    {
     "name": "stdout",
     "output_type": "stream",
     "text": [
      "Todos os id's respeitam a máscara? True\n"
     ]
    }
   ],
   "source": [
    "print(f\"Todos os id's respeitam a máscara? {str(df[\"id_paciente\"].apply(verificar_mascara_id_paciente).all())}\")"
   ]
  },
  {
   "cell_type": "markdown",
   "metadata": {},
   "source": [
    "# Coluna: sexo"
   ]
  },
  {
   "cell_type": "code",
   "execution_count": 87,
   "metadata": {},
   "outputs": [
    {
     "name": "stdout",
     "output_type": "stream",
     "text": [
      "Valores únicos da coluna 'sexo': ['male' 'female']\n",
      "Está ok, porém o dado está em inglês, enquanto o resto da base está em português.\n"
     ]
    }
   ],
   "source": [
    "print(f\"Valores únicos da coluna 'sexo': {df[\"sexo\"].unique()}\")\n",
    "print(f\"Está ok, porém o dado está em inglês, enquanto o resto da base está em português.\")"
   ]
  },
  {
   "cell_type": "markdown",
   "metadata": {},
   "source": [
    "# Coluna: obito"
   ]
  },
  {
   "cell_type": "code",
   "execution_count": 90,
   "metadata": {},
   "outputs": [
    {
     "name": "stdout",
     "output_type": "stream",
     "text": [
      "Valores únicos da coluna 'obito': ['0' 'False' '1' 'True']\n",
      "O dado está inconsistente, variando entre (0, 1) e (False, True)\n",
      "Isto deve ser corrigido para ficar consistente.\n"
     ]
    }
   ],
   "source": [
    "print(f\"Valores únicos da coluna 'obito': {df[\"obito\"].unique()}\")\n",
    "print(\"O dado está inconsistente, variando entre (0, 1) e (False, True)\")\n",
    "print(\"Isto deve ser corrigido para ficar consistente.\")"
   ]
  },
  {
   "cell_type": "markdown",
   "metadata": {},
   "source": [
    "# Coluna: bairro"
   ]
  },
  {
   "cell_type": "code",
   "execution_count": 105,
   "metadata": {},
   "outputs": [
    {
     "name": "stdout",
     "output_type": "stream",
     "text": [
      "Valores únicos da coluna 'bairro': ['Parada de Lucas' 'Cidade Nova' 'Santa cruz' 'Bangu' 'Santíssimo'\n",
      " 'Jardim Vinte e Cinco de Agosto' 'Penha Circular' 'Guadalupe'\n",
      " 'Manguinhos' 'Irajá']\n"
     ]
    }
   ],
   "source": [
    "print(f\"Valores únicos da coluna 'bairro': {df[\"bairro\"].unique()[:10]}\")"
   ]
  },
  {
   "cell_type": "code",
   "execution_count": 115,
   "metadata": {},
   "outputs": [],
   "source": [
    "def salvar_count_unique(series: pd.Series, path: str, ascending: bool = True):\n",
    "    \"\"\"\n",
    "    Salva a contagem de valores únicos de uma série em um arquivo CSV. O foco \n",
    "    desta função é auxiliar a encontrar valores errados/problemáticos em uma\n",
    "    série cheia de valores únicos.\n",
    "    \n",
    "    Os valores únicos são ordenados de acordo com a contagem de ocorrências, e\n",
    "    então salvos em um arquivo CSV para serem avaliados, dando prioridade aos\n",
    "    valores com menor ocorrência. Isto é feito porque se assume que os valores\n",
    "    com uma ocorrência média/alta são menos sucetíveis a serem erros.\n",
    "    \n",
    "    Isto deve ser feito para economizar esforço. Avaliar todos os valores únicos\n",
    "    da série é uma abordagem mais eficaz (porém menos eficiente).\n",
    "\n",
    "    Parameters\n",
    "    ----------\n",
    "    series : pd.Series\n",
    "        A série com os valores (não únicos) a serem avaliados.\n",
    "    path : str\n",
    "        O caminho para salvar o arquivo CSV.\n",
    "    ascending : bool, optional\n",
    "        Se os valores devem ser ordenados em ordem crescente. O padrão é True.\n",
    "    \"\"\"\n",
    "    series.value_counts().sort_values().to_csv(path)"
   ]
  },
  {
   "cell_type": "code",
   "execution_count": 117,
   "metadata": {},
   "outputs": [
    {
     "name": "stdout",
     "output_type": "stream",
     "text": [
      "Avaliando os bairros com menor quantidade de ocorrências\n",
      "Arquivo com contagem salvo em ../data/output/bairro_counts.csv\n",
      "Foram avaliados os nomes dos bairros, focando nos bairros com menor ocorrência\n",
      "Isso porque se assume que caso um bairro tenha alta quantidade de ocorrências, dificilmente será um dado errado\n",
      "Não foi identificado nenhum bairro com nome problemático\n"
     ]
    }
   ],
   "source": [
    "print(f\"Avaliando os bairros com menor quantidade de ocorrências\")\n",
    "local_bairro_counts = \"../data/output/bairro_counts.csv\"\n",
    "print(f\"Arquivo com contagem salvo em {local_bairro_counts}\")\n",
    "salvar_count_unique(df[\"bairro\"], local_bairro_counts)\n",
    "print(\"Foram avaliados os nomes dos bairros, focando nos bairros com menor ocorrência\")\n",
    "print(\"Isso porque se assume que caso um bairro tenha alta quantidade de ocorrências, dificilmente será um dado errado\")\n",
    "print(\"Não foi identificado nenhum bairro com nome problemático\")"
   ]
  },
  {
   "cell_type": "markdown",
   "metadata": {},
   "source": [
    "# Coluna: raca_cor"
   ]
  },
  {
   "cell_type": "code",
   "execution_count": 109,
   "metadata": {},
   "outputs": [
    {
     "name": "stdout",
     "output_type": "stream",
     "text": [
      "Valores únicos da coluna 'raca_cor': ['Branca' 'Parda' 'Preta' 'Amarela' 'Não' 'Indígena']\n",
      "Uma das ocorrências é 'Não' (3 ocorrências)\n",
      "Isto parece errado, com o dado equivalente esperado sendo 'Não Informado'\n"
     ]
    }
   ],
   "source": [
    "print(f\"Valores únicos da coluna 'raca_cor': {df[\"raca_cor\"].unique()}\")\n",
    "print(f\"Uma das ocorrências é 'Não' ({df['raca_cor'].value_counts()['Não']} ocorrências)\")\n",
    "print(\"Isto parece errado, com o dado equivalente esperado sendo 'Não Informado'\")"
   ]
  },
  {
   "cell_type": "markdown",
   "metadata": {},
   "source": [
    "# Coluna: ocupacao"
   ]
  },
  {
   "cell_type": "code",
   "execution_count": 112,
   "metadata": {},
   "outputs": [
    {
     "name": "stdout",
     "output_type": "stream",
     "text": [
      "Valores únicos da coluna 'ocupacao': ['Não se aplica', 'Assistente Administrativo', 'Representante Comercial Autônomo', 'Técnico Eletricista', 'Porteiro de Edifícios', 'Motorista de Táxi', 'Técnico de Telecomunicações (telefonia)', 'Administrador', 'Manicure', 'Atendente de Lanchonete', 'Vendedor permissionário', 'Recepcionista, Em Geral', 'Empresário de Espetáculo', 'Catador de Material Reciclável', 'Motorista de Carro de Passeio', 'Empregado doméstico arrumador', 'Pintor de Obras', 'Vendedor Ambulante', 'Motorista de ônibus Rodoviário', 'Gerente de Vendas', 'Vendedor de Comércio Varejista', 'Empregado doméstico faxineiro', 'Vendedor Em Domicílio', 'Professor de Educação Artística do Ensino Fundamental', 'Técnico de Manutenção Eletrônica', 'Auxiliar de Saúde (navegação Marítima)', 'Motociclista No Transporte de Documentos e Pequenos Volumes', 'Auxiliar de Pessoal', 'Vendedor Pracista', 'Terapeuta Ocupacional', 'Técnico de Enfermagem', 'Operador de Caixa', 'Vendedor Em Comércio Atacadista', 'Fisioterapeuta geral', 'Pedreiro', 'Monitor de Teleatendimento', 'Supervisor de Compras', 'Empregado Doméstico Diarista', 'Operador de área de Corrida', 'Ajudante de confecção', 'Agente de Segurança', 'Comerciante Varejista', 'Esteticista', 'Entrevistador de Pesquisa de Opinião e Mídia', 'Artista de Circo (outros)', 'Fotógrafo', 'Auxiliar de Escritório, Em Geral', 'Promotor de Vendas Especializado', 'Técnico Em Secretariado', 'Porteiro de Locais de Diversão', 'Empregado doméstico nos serviços gerais', 'Técnico Em Radiologia e Imagenologia', 'Eletricista de Instalações', 'Técnico Em Atendimento e Vendas', 'Carregador (armazém)', 'Gerente Comercial', 'Monitor de transporte escolar', 'Cuidador de Idosos', 'Agente Comunitário de Saúde', 'Costureira de Peças Sob Encomenda', 'Chefe de Cozinha', 'Marceneiro', 'Cirurgião dentista - odontologia para pacientes com necessidades especiais', 'Professores de Cursos Livres', 'Técnico Em Manutenção de Equipamentos de Informática', 'Psicólogo Social', 'Professor de Técnicas de Enfermagem', 'Soldado da Polícia Militar', 'Agente de Vendas de Serviços', 'Vigilante', 'Assistente de Vendas', 'Padeiro', 'Auxiliar de manutenção predial', 'Atendente de Farmácia - Balconista', 'Professor de História do Ensino Fundamental', 'Trabalhador de serviços de limpeza e conservação de áreas públicas', 'Servente de Obras', 'Pipoqueiro Ambulante', 'Enfermeiro', 'Cozinheiro Geral', 'Lavador de Garrafas, Vidros e Outros Utensílios', 'Economista Doméstico', 'Recepcionista de Hotel', 'Técnico Mecânico', 'Faxineiro', 'Alimentador de Linha de Produção', 'Guardador de Veículos', 'Professor de Nível Superior na Educação Infantil (zero A Três Anos)', 'Escriturário em estatística', 'Farmacêutico', 'Técnico Mecânico (calefação, Ventilação e Refrigeração)', 'Inspetor de Alunos de Escola Pública', 'Camareira de Teatro', 'Cabeleireiro', 'Motorista de ônibus Urbano', 'Economista', 'Promotor de Vendas', 'Mecânico de Manutenção de Empilhadeiras e Outros Veículos de Cargas Leves', 'Poeta', 'Escrevente', 'Cabo Bombeiro Militar', 'Professor de Nível Superior do Ensino Fundamental (primeira A Quarta Série)', 'Almoxarife', 'Conferente de Carga e Descarga', 'Jornaleiro (em Banca de Jornal)', 'Ajudante de Motorista', 'Supervisor de Carga e Descarga', 'Secretária executiva', 'Auxiliar de Produção Farmacêutica', 'Bate-folha a máquina', 'Modelador de Madeira', 'Costureiro na confecção em série', 'Confeiteiro', 'Especialista de políticas públicas e gestão governamental - EPPGG', 'Costureiro, a máquina na confecção em série', 'Caseiro (agricultura)', 'Praça da Marinha', 'Jardineiro', 'Contador', 'Borracheiro', 'Gerente de Crédito e Cobrança', 'Professor de Desenho Técnico', 'Agente de Manobra e Docagem', 'Técnico Em Eletromecânica', 'Engenheiro de Telecomunicações', 'Operador de Computador (inclusive Microcomputador)', 'Auxiliar nos serviços de alimentação', 'Engenheiro Mecânico Automotivo', 'Técnico de Vendas', 'Feirante', 'Diretor de Marketing', 'Costureira de Reparação de Roupas', 'Auxiliar de veterinário', 'Supervisor Administrativo', 'Recreador', 'Operador de Máquinas Operatrizes', 'Técnico Em Laboratório de Farmácia', 'Colorista de Papel', 'Auxiliar Técnico Em Laboratório de Farmácia', 'Nutricionista', 'Supervisor de Manutenção de Bombas, Motores, Compressores e Equipamentos de Transmissão', 'Gerente Financeiro', 'Caixa de Banco', 'Crítico', 'Tecnólogo em logística de transporte', 'Organizador de Evento', 'Oficial General do Exército', 'Eletrotécnico', 'Motorista de Caminhão (rotas Regionais e Internacionais)', 'Diretor de Operações Comerciais (comércio Atacadista e Varejista)', 'Vigia', 'Auxiliar de Contabilidade', 'Mordomo de Hotelaria', 'Condutor de Veículos A Pedais', 'Modelo Artístico', 'Analista de Transporte Em Comércio Exterior', 'Zelador de Edifício', 'Técnico Em Administração', 'Açougueiro', 'Operador de Caminhão (minas e Pedreiras)', 'Músico Intérprete Instrumentista', 'Professor de Nível Médio na Educação Infantil', 'Pintor de Veículos (reparação)', 'Churrasqueiro', 'Produtor de Televisão', 'Gerente de Logística (armazenagem e Distribuição)', 'Babá', 'Cirurgião Dentista - Radiologista', 'Atendente de Agência', 'Guia de Turismo', 'Secretário-Executivo', 'Professor de Educação Física No Ensino Médio', 'Moleiro de Minérios', 'Técnico de Rede (telecomunicações)', 'Diretor de Manutenção', 'Técnico de Contabilidade', 'Operador de Telemarketing Ativo', 'Artista (artes Visuais)', 'Oficial General da Aeronáutica', 'Atendente de Lavanderia', 'Professor de Nível Superior na Educação Infantil (quatro A Seis Anos)', 'Cirurgião Dentista - Clínico Geral', 'Motorista de Furgão Ou Veículo Similar', 'Analista de Desenvolvimento de Sistemas', 'Diretor Administrativo', 'Auxiliar de corte (preparação da confecção de roupas)', 'Agente de Viagem', 'Atendente de Judiciário', 'Professor de Ensino Superior na área de Prática de Ensino', 'Artesão bordador', 'Serralheiro', 'Cozinheiro do Serviço Doméstico', 'Tecnólogo Em Eletrônica', 'Supervisor de Recepcionistas', 'Gerente de Marketing', 'Gerente de Bar', 'Operador de Empilhadeira', 'Engenheiro Civil', 'Oficial do Exército', 'Médico Veterinário', 'Bailarino (exceto Danças Populares)', 'Corretor de Imóveis', 'Psicólogo Clínico', 'Agente de Higiene e Segurança', 'Estivador', 'Protético Dentário', 'Cozinhador de Frutas e Legumes', 'Auxiliar de Lavanderia', 'Operador de Rede de Teleprocessamento', 'Produtor de Flores Em Vaso', 'Carregador (veículos de Transportes Terrestres)', 'Mecânico de Manutenção de Compressores de Ar', 'Médico Fisiatra', 'Auxiliar Geral de Conservação de Vias Permanentes (exceto Trilhos)', 'Lavadeiro, Em Geral', 'Técnico Em Turismo', 'Professor de língua alema', 'Varredor de rua', 'Tecnólogo Em Eletricidade', 'Professor de Física (ensino Superior)', 'Pintor de Veículos (fabricação)', 'Professor de Técnicas Comerciais e Secretariais', 'Cenógrafo Carnavalesco e Festas Populares', 'Gerente de Loja e Supermercado', 'Passador de roupas, a mão', 'Mágico', 'Marcador de Produtos (siderúrgico e Metalúrgico)', 'Gerente de Produção e Operações Agropecuárias', 'Mecânico de Refrigeração', 'Advogado', 'Garçom', 'Carpinteiro de Obras', 'Assistente Social', 'Masseiro (massas Alimentícias)', 'Professor de Nível Médio No Ensino Fundamental', 'Cozinheiro de Hospital', 'Desenhista Técnico (artes Gráficas)', 'Ajustador Mecânico', 'Soldador', 'Sargento da Polícia Militar', 'Vidraceiro', 'Analista de Suporte Computacional', 'Operador de Máquina de Costura de Acabamento', 'Controlador de Pragas', 'Gerente de Restaurante', 'Agente Fiscal de Qualidade', 'Operador de Central Termoelétrica', 'Auxiliar de Enfermagem do Trabalho', 'Copeiro de Hospital', 'Coronel da Polícia Militar', 'Cientista Político', 'Gerente de produção e operações florestais', 'Repositor de Mercadorias', 'Analista de Produtos Bancários', 'Técnico de Operações e Serviços Bancários - Renda Fixa e Variável', 'Telefonista', 'Bibliotecário', 'Embalador, A Mão', 'Mestre (indústria de Máquinas e Outros Equipamentos Mecânicos)', 'Criador de Animais Domésticos', 'Engenheiro Mecânico', 'Operador de Máquina Rodoferroviária', 'Agente de Saúde Pública', 'Auxiliar de Prótese Dentária', 'Mestre (construção Civil)', 'Técnico Em Patologia Clínica', 'Fonoaudiólogo', 'Oficial da Aeronáutica', 'Copeiro', 'Apontador de Produção', 'Químico', 'Gerente de Produção e Operações', 'Operador de Produção (química, Petroquímica e Afins)', 'Consultor Contábil (técnico)', 'Professor de Geografia do Ensino Fundamental', 'Recepcionista de Casas de Espetáculos', 'Administrador de Redes', 'Fotógrafo Retratista', 'Atendente de Enfermagem', 'Professor de Educação Física do Ensino Fundamental', 'Diretor de Serviços de Informática', 'Operador de Máquina de Fabricação de Produtos de Higiene e Limpeza (sabão, Sabonete, Detergente, Absorvente, Fraldas Cotonetes e Outros)', 'Caminhoneiro Autônomo (rotas Regionais e Internacionais)', 'Artesão escultor', 'Musicólogo', 'Despachante Operacional de Vôo', 'Auxiliar de Serviços de Importação e Exportação', 'Pizzaiolo', 'Encarregado de Manutenção de Instrumentos de Controle, Medição e Similares', 'Montador de Móveis e Artefatos de Madeira', 'Barbeiro', 'Lavador de Veículos', 'Músico Arranjador', 'Analista de Recursos Humanos', 'Supervisor de Telemarketing e Atendimento', 'Camareira de Televisão', 'Diretor Comercial', 'Técnico de enfermagem da estratégia de saúde da família', 'Mecânico de Manutenção de Motocicletas', 'Recepcionista de Consultório Médico Ou Dentário', 'Médico oncologista clínico', 'Finalizador de Filmes', 'Professor de História No Ensino Médio', 'Gerente Administrativo', 'Produtor na Olericultura de Legumes', 'Auxiliar de Seguros', 'Desenhista industrial de produto (designer de produto)', 'Gerente de Serviços Sociais', 'Comprador', 'Médico Ortopedista e Traumatologista', 'Engenheiro ambiental', 'Artesão com material reciclável', 'Biólogo', 'Ator', 'Frentista', 'Professor de Medicina', 'Jornalista', 'Cozinhador de Pescado', 'Cuidador em saúde', 'Oficial da Marinha', 'Administrador de Sistemas Operacionais', 'Atleta Profissional de Futebol', 'Mergulhador Profissional (raso e Profundo)', 'Camareiro de hotel', 'Apresentador de Festas Populares', 'Supervisor Técnico Operacional de Sistemas de Televisão e Produtoras de Vídeo', 'Mecânico de Manutenção de Automóveis, Motocicletas e Veículos Similares', 'Operador de Colheitadeira', 'Pintor A Pincel e Rolo (exceto Obras e Estruturas Metálicas)', 'Supervisor de Produção da Indústria Alimentícia', 'Técnico de Manutenção Elétrica de Máquina', 'Artesão do couro', 'Técnico Mecânico (motores)', 'Porteiro (hotel)', 'Administrador de Banco de Dados', 'Técnico Mecânico (máquinas)', 'Comerciante Atacadista', 'Corretor de Seguros', 'Operador de Telemarketing Receptivo', 'Estofador de Móveis', 'Médico Clínico', 'Mae social', 'Coordenador Pedagógico', 'Operador de Telemarketing Ativo e Receptivo', 'Técnico Eletrônico', 'Enfermeiro da estratégia de saúde da família', 'Técnico de Obras Civis', 'Pescador Profissional', 'Encarregado de costura na confecção do vestuário', 'Secretária Trilíngüe', 'Inspetor de Alunos de Escola Privada', 'Mordomo de Residência', 'Agente de Trânsito', 'Soldador Elétrico', 'Técnico Em Farmácia', 'Gerente de Recursos Humanos', 'Impressor Digital', 'Auxiliar de Cartório', 'Locutor Publicitário de Rádio e Televisão', 'Médico Cirurgião Cardiovascular', 'Tecnólogo em metalurgia', 'Professor de Literatura Portuguesa', 'Carteiro', 'Auxiliar de Faturamento', 'Atendente Comercial (agência Postal)', 'Pesquisador de Engenharia Civil', 'Telhador (telhas Pláticas)', 'Controlador de Serviços de Máquinas e Veículos', 'Soldado Bombeiro Militar', 'Atleta Profissional de Luta', 'Designer de Vitrines', 'Profissional do Sexo', 'Estampador de Tecido', 'Pintor Por Imersão', 'Auxiliar de Desenvolvimento Infantil', 'Subtenente Bombeiro Militar', 'Instalador de Isolantes Acústicos', 'Bordador, a mão', 'Técnico de Manutenção Elétrica', 'Praça da Aeronáutica', 'Professor da educação de jovens e adultos do ensino fundamental (primeira a quarta série)', 'Limpador a seco, a máquina', 'Supervisor de Digitação e Operação', 'Operador de Máquina de Cordoalha', 'Limpador de Vidros', 'Operador de Instalação de Ar-condicionado', 'Engenheiro de Segurança do Trabalho', 'Sushiman', 'Engenheiro Químico', 'Pesquisador de Engenharia Mecânica', 'Técnico de Comunicação de Dados', 'Assessor de Imprensa', 'Operador de Triagem e Transbordo', 'Garagista', 'Professor de Outras Línguas e Literaturas', 'Operador de Máquina Copiadora (exceto Operador de Gráfica Rápida)', 'Supervisor de Lavanderia', 'Adestrador de Animais', 'Engenheiro de Manutenção de Telecomunicações', 'Embalador, A Máquina', 'Professor de Administração', 'Costureiro de Roupa de Couro e Pele', 'Chefe de Bar', 'Tecnólogo em secretariado escolar', 'Professor de Língua Inglesa', 'Médico Cardiologista', 'Cabo da Polícia Militar', 'Professor de Artes No Ensino Médio', 'Garimpeiro', 'Diretor Administrativo e Financeiro', 'Vereador', 'Tosador de Animais Domésticos', 'Enfermeiro Auditor', 'Operador de Telemarketing Técnico', 'Modelo de Modas', 'Encarregado de Manutenção Mecânica de Sistemas Operacionais', 'Carpinteiro', 'Operador de Máquina Cortadora (minas e Pedreiras)', 'Técnico de Laboratório de Análises Físico-químicas (materiais de Construção)', 'Instalador de Sistemas Eletroeletrônicos de Segurança', 'Tecnólogo em gastronomia', 'Médico Gastroenterologista', 'Agente Publicitário', 'Analista de Sistemas de Automação', 'Desenhista Técnico', 'Técnico Operacional de Serviços de Correios', 'Operador de Mensagens de Telecomunicações (correios)', 'Operador de Atendimento Aeroviário', 'Torneiro (lavra de Pedra)', 'Montador de Máquinas, Motores e Acessórios (montagem Em Série)', 'Marinheiro de Convés (marítimo e Fluviário)', 'Modelista de Roupas', 'Programador de Internet', 'Professor de Língua Portuguesa do Ensino Fundamental', 'Auxiliar de Estatística', 'Operador de Cobrança Bancária', 'Biotecnologista', 'Motorista Operacional de Guincho', 'Montador de Máquinas', 'Engenheiro Eletricista', 'Técnico Em Biotecnologia', 'Tecnólogo em produção audiovisual', 'Editor de Texto e Imagem', 'Professor de Física No Ensino Médio', 'Artesão rendeiro', 'Advogado (direito Civil)', 'Professor de Língua e Literatura Brasileira No Ensino Médio', 'Recepcionista de Banco', 'Coletor de lixo domiciliar', 'Digitador', 'Supervisor de Coletadores de Apostas e de Jogos', 'Perfumista', 'Instalador-reparador de Redes e Cabos Telefônicos', 'Instrutor de Cursos Livres', 'Decorador de eventos', 'Dirigente do Serviço Público Estadual e Distrital', 'Apresentador de Eventos', 'Praça do Exército', 'Mestre Serralheiro', 'Cozinheiro Industrial', 'Maquiador', 'Músico Intérprete Cantor', 'Cozinhador (conservação de Alimentos)', 'Auxiliar de Laboratório de Análises Clínicas', 'Técnico Químico', 'Sargento Bombeiro Militar', 'Operador de Draga', 'Cobrador de Transportes Coletivos (exceto Trem)', 'Bombeiro de Segurança do Trabalho', 'Relojoeiro (reparação)', 'Pesquisador de Engenharia Elétrica e Eletrônica', 'Auxiliar de Biblioteca', 'Sapateiro (calçados Sob Medida)', 'Auxiliar de Farmácia de Manipulação', 'Designer de Interiores', 'Eletricista de Manutenção de Linhas Elétricas, Telefônicas e de Comunicação de Dados', 'Professor de Matemática do Ensino Fundamental', 'Técnólogo em radiologia', 'Redator de Publicidade', 'Coletor de resíduos sólidos de serviços de saúde', 'Operador de Central Hidrelétrica', 'Avicultor', 'Auxiliar de Laboratório de Análises Físico-químicas', 'Técnico de Enfermagem do Trabalho', 'Dirigente e Administrador de Organização Religiosa', 'Chefe de Confeitaria', 'Diretor de Serviços de Saúde', 'Professor de Geografia No Ensino Médio', 'Folheador de Móveis de Madeira', 'Advogado (direito do Trabalho)', 'Operador de Laminador de Metais Não-ferrosos', 'Analista Financeiro (instituições Financeiras)', 'Trabalhador de Preparação de Pescados (limpeza)', 'Eletricista de Instalações (edifícios)', 'Preparador Físico', 'Auxiliar de Serviços Jurídicos', 'Economista Financeiro', 'Tecnólogo em segurança do trabalho', 'Psicanalista', 'Técnico Têxtil', 'Pintor de Letreiros', 'Supervisor de Entrevistadores e Recenseadores', 'Eletricista de Manutenção Eletroeletrônica', 'Classificador de grãos', 'Técnico de Apoio Ao Usuário de Informática (helpdesk)', 'Técnico Em Carcinicultura', 'Encarregado de acabamento de chapas e metais (têmpera)', 'Operador Eletromecânico', 'Pesquisador de Clínica Médica', 'Impressor de Rotativa', 'Operador de Máquinas de Fabricação de Doces, Salgados e Massas Alimentícias', 'Professor de Matemática No Ensino Médio', 'Técnico Têxtil de Fiação', 'Massoterapeuta', 'Engenheiro de Produção', 'Teólogo', 'Trabalhador da Exploração de Tucum', 'Desenhista Industrial (designer)', 'Engenheiro Eletrônico', 'Educador social', 'Operador de Subestação', 'Operador de Máquina de Eletroerosão', 'Produtor de Especiarias', 'Assistente Comercial de Seguros', 'Pedagogo', 'Oficial General da Marinha', 'Instrutor de Auto-escola', 'Primeiro Tenente de Polícia Militar', 'Operador de Maçaroqueira', 'Atleta Profissional (outras Modalidades)', 'Relações Públicas', 'Técnico Em Borracha', 'Supervisor de Vendas Comercial', 'Técnico Em Curtimento', 'Ciclista Mensageiro', 'Passadeira de Peças Confeccionadas', 'Professor de Ciências Exatas e Naturais do Ensino Fundamental', 'Analista de Redes e de Comunicação de Dados', 'Agente de Segurança Penitenciária', 'Arquiteto de Edificações', 'Bilheteiro de Transportes Coletivos', 'Instrutor de Aprendizagem e Treinamento Industrial', 'Crocheteiro, a mão', 'Técnico em saúde bucal da estratégia de saúde da família', 'Balanceiro', 'Tecnólogo em gestão da tecnologia da informação', 'Técnico de Laboratório Industrial', 'Professor de Sociologia No Ensino Médio', 'Consultor Jurídico', 'Pedreiro de Edificações', 'Estatístico', 'Médico Generalista', 'Médico Pediatra', 'Despachante de Transportes Coletivos (exceto Trem)', 'Ladrilheiro', 'Administrador de Edifícios', 'Pescador artesanal de peixes e camaroes', 'Operador de Guindaste (fixo)', 'Supervisor de Telefonistas', 'Ferramenteiro de Mandris, Calibradores e Outros Dispositivos', 'Técnico Em Instalação de Equipamentos de áudio', 'Engenheiro Mecatrônico', 'Escriturário de Banco', 'Produtor de Texto', 'Mecânico de Manutenção de Bicicletas e Veículos Similares', 'Operador de Acabamento (indústria Gráfica)', 'Vigia Portuário', 'Cumim', 'Agente de Defesa Ambiental', 'Diretor de Câmbio e Comércio Exterior', 'Encanador', 'Ministro de Culto Religioso', 'Socorrista (exceto médicos e enfermeiros)', 'Mecânico de Manutenção de Máquinas, Em Geral', 'Artesão tecelão', 'Médico Urologista', 'Músico Regente', 'Barman', 'Pescador Artesanal de água Doce', 'Professor de Aprendizagem e Treinamento Comercial', 'Médico da estratégia de saúde da família', 'Professor de Disciplinas Pedagógicas No Ensino Médio', 'Neuropsicólogo', 'Oficial do Registro de Títulos e Documentos', 'Podólogo', 'Gerente de Agência', 'Orientador Educacional', 'Chefe de Portaria de Hotel', 'Conferente de Serviços Bancários', 'Artesão trançador', 'Caldeireiro (chapas de Cobre)', 'Operador de Máquinas de Construção Civil e Mineração', 'Selecionador de material reciclável', 'Controlador de Entrada e Saída', 'Técnico Em Mecânica de Precisão', 'Gerente de Pensão', 'Guarda-civil Municipal', 'Montador de Filmes', 'Motorneiro', 'Programador de Sistemas de Informação', 'Gerente de Serviços Educacionais da área Pública', 'Senador', 'Supervisor de Almoxarifado', 'Técnico Em Segurança No Trabalho', 'Técnico de Garantia da Qualidade', 'Coronel Bombeiro Militar', 'Ferramenteiro', 'Afiador de Cutelaria', 'Técnico de Enfermagem de Terapia Intensiva', 'Montador de Equipamentos Elétricos (aparelhos Eletrodomésticos)', 'Maquinista de Trem', 'Professor de Serviço Social do Ensino Superior', 'Técnico de Celulose e Papel', 'Ajudante de Despachante Aduaneiro', 'Governador de Estado', 'Vistoriador Naval', 'Supervisor de Bombeiros', 'Assistente de Laboratório Industrial', 'Administrador em segurança da informação', 'Cortador de Pedras', 'Editor de TV e vídeo', 'Mecânico de Veículos Automotores A Diesel (exceto Tratores)', 'Dirigente do Serviço Público Municipal', 'Médico Dermatologista', 'Supervisor de Vendas de Serviços', 'Salgador de Alimentos', 'Operador de Negócios', 'Zootecnista', 'Auditor (contadores e Afins)', 'Visitador Sanitário', 'Montador de Estruturas Metálicas de Embarcações', 'Técnico Em Soldagem', 'Pesquisador de Engenharia Metalúrgica, de Minas e de Materiais', 'Lustrador de Piso', 'Teleoperador', 'Chaveiro', 'Gerente de Serviços Culturais', 'Gerente de Operações de Correios e Telecomunicações', 'Técnico Em Instrumentação', 'Auxiliar Técnico Em Patologia Clínica', 'Trabalhador Volante da Agricultura', 'Analista de Exportação e Importação', 'Técnico de Resseguros', 'Secretário bilíngüe', 'Trabalhador da Exploração de Coco-da-praia', 'Professor de Língua Portuguesa', 'Cartazeiro', 'Auxiliar em saúde bucal da estratégia de saúde da família', 'Analista de Negócios', 'Ourives', 'Eletroténico na Fabricação, Montagem e Instalação de Máquinas e Equipamentos', 'Instalador-reparador de Redes Telefônicas e de Comunicação de Dados', 'Professor de Educação Física No Ensino Superior', 'Governanta de Hotelaria', 'Professor de Alunos Com Deficiência Múltipla', 'Médico Em Medicina Nuclear', 'Dirigente do Serviço Público Federal', 'Gerente de Almoxarifado', 'Pintor de Estruturas Metálicas', 'Fiscal de Tributos Municipal', 'Professor Leigo No Ensino Fundamental', 'Analista de Informações (pesquisador de Informações de Rede)', 'Técnico de Saneamento', 'Técnico Gráfico', 'Treinador Profissional de Futebol', 'Auxiliar de Banco de Sangue', 'Gerente de Suporte Técnico de Tecnologia da Informação', 'Dançarino Tradicional', 'Montador de Equipamentos Eletrônicos', 'Banhista de Animais Domésticos', 'Pedreiro de Conservação de Vias Permanentes (exceto Trilhos)', 'Polidor de Metais', 'Auxiliar de enfermagem da estratégia de saúde da família', 'Motorista de Trólebus', 'Maquetista na Marcenaria', 'Major Bombeiro Militar', 'Operador de Máquina de Usinagem de Madeira (produção Em Série)', 'Desenhista Copista', 'Auxiliar em saúde bucal', 'Analista de Cobrança (instituições Financeiras)', 'Matemático', 'Médico de família e comunidade', 'Encarregado de corte na confecção do vestuário', 'Operador de Máquina de Produtos Farmacêuticos', 'Técnico em saúde bucal', 'Ajudante de Carvoaria', 'Engenheiro Químico (indústria Química)', 'Cartonageiro, A Mão (caixas de Papelão)', 'Gerente de Operações de Transportes', 'Cozinheiro de Embarcações', 'Alfaiate', 'Programador Visual Gráfico', 'Gravador de Matriz Para Rotogravura (eletromecânico e Químico)', 'Pesquisador Em História', 'Lavador de Roupas', 'Cortador de Roupas', 'Desenhista Projetista de Eletricidade', 'Professor de Técnicas Industriais', 'Gerente de Hotel', 'Supervisor de Caixas e Bilheteiros (exceto Caixa de Banco)', 'Gerente de Produtos Bancários', 'Técnico Em Administração de Comércio Exterior', 'Contínuo', 'Despachante de trânsito', 'Artesão moveleiro (exceto reciclado)', 'Trabalhador de Fabricação de Margarina', 'Cirurgião Dentista - Odontologista Legal', 'Visual Merchandiser', 'Técnico de Operações e Serviços Bancários - Leasing', 'Operador de Máquinas-ferramenta Convencionais', 'Professor de Museologia do Ensino Superior', 'Policial Rodoviário Federal', 'Artesão ceramista', 'Operador de forno (fabricação de paes, biscoitos e similares)', 'Subtenente da Polícia Militar', 'Filósofo', 'Professor de Língua Estrangeira Moderna do Ensino Fundamental', 'Professor de Biologia No Ensino Médio', 'Radiotelegrafista', 'Professor de Dança', 'Técnico de Planejamento e Programação da Manutenção', 'Analista de planejamento e orçamento - APO', 'Despachante Documentalista', 'Gerente de Departamento Pessoal', 'Tradutor', 'Médico residente', 'Fisioterapeuta respiratória', 'Condutor de Veículos de Tração Animal (ruas e Estradas)', 'Operador de Carregadeira', 'Montador de Andaimes (edificações)', 'Técnico Em Automobilística', 'Agente de ação social', 'Técnico de Transmissão (telecomunicações)', 'Arquiteto Urbanista', 'Trabalhador na Apicultura', 'Classificador e Empilhador de Tijolos Refratários', 'Cobrador Interno', 'Juiz Auditor Federal - Justiça Militar', 'Reparador de Equipamentos de Escritório', 'Eletricista de Bordo', 'Gerente de Câmbio e Comércio Exterior', 'Trabalhador de Tratamento do Leite e Fabricação de Laticínios e Afins', 'Limpador de Fachadas', 'Técnico Em Estruturas Metálicas', 'Agente de Pátio', 'Ensaiador de Dança', 'Técnico de Operações e Serviços Bancários - Crédito Imobiliário', 'Técnico de Operações e Serviços Bancários - Crédito Rural', 'Gerente de Operações de Serviços de Assistência Técnica', 'Operador de Máquinas Fixas, Em Geral', 'Corretor de Valores, Ativos Financeiros, Mercadorias e Derivativos', 'Inspetor de Aviação Civil', 'Gerente de Contas - Pessoa Física e Jurídica', 'Engenheiro de Controle de Qualidade', 'Gerente de Comunicação', 'Técnico Em Manutenção de Hidrômetros', 'Ascensorista', 'Acabador de Embalagens (flexíveis e Cartotécnicas)', 'Oficial Superior de Máquinas da Marinha Mercante', 'Esteticista de Animais Domésticos', 'Tecnólogo em gestão administrativo- financeira', 'Supervisor de Vigilantes', 'Fotógrafo Publicitário', 'Engenheiro Naval', 'Operador de Câmera de Televisão', 'Supervisor de Curtimento', 'Mecânico de Manutenção de Sistema Hidráulico de Aeronaves (serviços de Pista e Hangar)', 'Laboratorista Fotográfico', 'Mecânico de Manutenção de Motores e Equipamentos Navais', 'Segundo Tenente de Polícia Militar', 'Arquivista', 'Operador de Estação de Bombeamento', 'Professor de Química No Ensino Médio', 'Desenhista Técnico (ilustrações Artísticas)', 'Eletricista de Instalações (cenários)', 'Gesseiro', 'Musicoterapeuta', 'Médico Cirurgião Geral', 'Técnico Em Hidrografia', 'Operador de Trator (minas e Pedreiras)', 'Guarda portuário', 'Desenhista Projetista de Arquitetura', 'Técnico Mecânico na Manutenção de Ferramentas', 'Pesquisador Em Biologia Ambiental', 'Missionário', 'Major da Polícia Militar', 'Operador de Máquina de Lavar Fios e Tecidos', 'Relojoeiro (fabricação)', 'Guarda-roupeira de Cinema', 'Engenheiro de Minas', 'Supervisor de Transportes', 'Engenheiro Civil (pontes e Viadutos)', 'Professor de Fisioterapia', 'Salva-vidas', 'Professor de Música No Ensino Superior', 'Operador de Turismo', 'Operador de Retificadora Com Comando Numérico', 'Técnico Em Sonorização', 'Demonstrador de Mercadorias', 'Chapeador de Carrocerias Metálicas (fabricação)', 'Professor de Alunos Com Deficiência Auditiva e Surdos', 'Professor de Psicologia No Ensino Médio', 'Artesão crocheteiro', 'Eletrotécnico (produção de Energia)', 'Modelo Publicitário', 'Lixador de Couros e Peles', 'Mecânico Montador de Motores de Explosão e Diesel', 'Emendador de Cabos Elétricos e Telefônicos (aéreos e Subterrâneos)', 'Cacique', 'Técnico Em Mecatrônica - Automação da Manufatura', 'Enfermeiro de Centro Cirúrgico', 'Entrevistador de Preços', 'Gerente de Projetos e Serviços de Manutenção', 'Auxiliar de Processamento de Fumo', 'Técnico Em Manutenção de Máquinas', 'Analista de Seguros (técnico)', 'Agente Funerário', 'Autor-roteirista', 'Conferente-expedidor de Roupas (lavanderias)', 'Montador de Fotolito (analógico e Digital)', 'Administrador de Fundos e Carteiras de Investimento', 'Desenhista Técnico Aeronáutico', 'Cirurgião Dentista - Endodontista', 'Arquiteto Paisagista', 'Técnico em equipamento médico hospitalar', 'Técnico de Operação (química, Petroquímica e Afins)', 'Professor de Língua Estrangeira Moderna No Ensino Médio', 'Criador de Animais Produtores de Veneno', 'Mestre de Linhas (ferrovias)', 'Analista de Pesquisa de Mercado', 'Cirurgião Dentista - Protesista', 'Operador de Escavadeira', 'Projetista de Som', 'Serrador de Madeira (serra Circular Múltipla)', 'Técnico de Laboratório e Fiscalização Desportiva', 'Técnico de Controle de Meio Ambiente', 'Mecânico de Manutenção de Máquinas de Construção e Terraplenagem', 'Supervisor de Manutenção Eletromecânica Industrial, Comercial e Predial', 'Analista de Folha de Pagamento', 'Agente de microcrédito', 'Psicopedagogo', 'Pesquisador de Engenharia Química', 'Desenhista Detalhista', 'Gerente de Compras', 'Imediato da Marinha Mercante', 'Enfermeiro de Terapia Intensiva', 'Auditor-fiscal do Trabalho', 'Capitão de Manobra da Marinha Mercante', 'Tenente-coronel Bombeiro Militar', 'Técnico em nutrição e dietética', 'Operador de Motosserra', 'Operador de Externa (rádio)', 'Físico (fluidos)', 'Técnico em confecções do vestuário', 'Monitor de dependente químico', 'Recepcionista de Seguro Saúde', 'Operador Polivalente da Indústria Têxtil', 'Cirurgião dentista - dentística', 'Bombeiro de Aeródromo', 'Capitão Bombeiro Militar', 'Dançarino Popular', 'Catador de Mariscos', 'Supervisor das artes gráficas (indústria editorial e gráfica)', 'Mestre (indústria de Celulose, Papel e Papelão)', 'Repórter de Rádio e Televisão', 'Professor de Terapia Ocupacional', 'Trabalhador na Minhocultura', 'Chefe de Serviço de Transporte Rodoviário (passageiros e Cargas)', 'Gerente de Produção e Operações da Construção Civil e Obras Públicas', 'Montador de Máquinas Têxteis', 'Deputado Federal', 'Operador de Linha de Montagem (aparelhos Elétricos)', 'Analista de Crédito (instituições Financeiras)', 'Pintor, a pistola (exceto obras e estruturas metálicas)', 'Técnico Em Madeira', 'Pedicure', 'Psicólogo Jurídico', 'Trabalhador da Exploração de Copaíba', 'Programador de Multimídia', 'Cenógrafo de Eventos', 'Montador de Equipamentos Eletrônicos (computadores e Equipamentos Auxiliares)', 'Armador de Estrutura de Concreto Armado', 'Gelador Industrial', 'Pesquisador Em Psicologia', 'Engenheiro de Aplicativos Em Computação', 'Conservador de Via Permanente (trilhos)', 'Médico Pneumologista', 'Gerente de Segurança de Tecnologia da Informação', 'Professor Instrutor de Ensino e Aprendizagem Em Serviços', 'Auxiliar de Judiciário', 'Repórter (exclusive Rádio e Televisão)', 'Operador de áudio de Continuidade (rádio)', 'Técnico Têxtil de Malharia', 'Defensor Público', 'Forneiro e Operador (alto-forno)', 'Pesquisador Em Ciências da Computação e Informática', 'Técnico Em Operação de Equipamentos de Transmissão/recepção de Televisão', 'Decorador de Vidro', 'Operador de Lavagem e Depuração de Pasta Para Fabricação de Papel', 'Tecelão de Malhas (máquina Circular)', 'Bobinador eletricista, a máquina', 'Primeiro Oficial de Máquinas da Marinha Mercante', 'Eletromecânico de Manutenção de Portas Automáticas', 'Professor de Filosofia No Ensino Médio', 'Pesquisador de Medicina Básica', 'Operador de Prensa de Embutir Papelão', 'Sondador de Poços (exceto de Petróleo e Gás)', 'Supervisor de Ensino', 'Economista Industrial', 'Operador de Linha de Montagem (aparelhos Eletrônicos)', 'Fisioterapeuta acupunturista', 'Carpinteiro de Carrocerias', 'Inspetor de Estamparia (produção Têxtil)', 'Gerente de Produção de Tecnologia da Informação', 'Costurador de calçados, a máquina', 'Operador de Máquina de Fabricação de Cosméticos', 'Caldeireiro (chapas de Ferro e Aço)', 'Mineiro', 'Terapeuta holístico', 'Geólogo', 'Mestre de Pintura (tratamento de Superfícies)', 'Artesão Modelador (vidros)', 'Professor de Medicina Veterinária', 'Papiloscopista Policial', 'Auditor-fiscal da Receita Federal', 'Técnico de Seguros', 'Costurador de artefatos de couro, a mão (exceto roupas e calçados)', 'Psicólogo Educacional', 'Cartonageiro, A Máquina', 'Trabalhador da Manutenção de Edificações', 'Operador de Motoniveladora', 'Armador de Estrutura de Concreto', 'Maître', 'Operador de Bateria de Gás de Hulha', 'Supervisor de Apoio Operacional na Mineração', 'Operador de Processo de Tratamento de Imagem', 'Técnico do Mobiliário', 'Manobrador', 'Locutor de Rádio e Televisão', 'Agente de Polícia Federal', 'Médico Ginecologista e Obstetra', 'Mecânico de Manutenção de Bomba Injetora (exceto de Veículos Automotores)', 'Instalador de Som e Acessórios de Veículos', 'Arrematadeira', 'Capitão da Polícia Militar', 'Professor de Geologia', 'Engenheiro Agrônomo', 'Instalador-reparador de Linhas e Aparelhos de Telecomunicações', 'Engenheiro Cartógrafo', 'Preparador de Sucata e Aparas', 'Professor de Farmácia e Bioquímica', 'Tenente-coronel da Polícia Militar', 'Carregador (aeronaves)', 'Costureiro de roupas de couro e pele, a máquina na confecção em série', 'Operador de Centro de Controle (ferrovia e Metrô)', 'Tecnólogo em alimentos', 'Passador de Roupas Em Geral', 'Desenhista Técnico (arquitetura)', 'Enfestador de Roupas', 'Técnico Em Plástico', 'Taxidermista', 'Camareiro de Embarcações', 'Encarregado Geral de Operações de Conservação de Vias Permanentes (exceto Trilhos)', 'Técnico Em Operação de Equipamento de Exibição de Televisão', 'Médico Legista', 'Designer educacional', 'Diretor de Instituição Educacional Pública', 'Eletricista de Instalações (veículos Automotores e Máquinas Operatrizes, Exceto Aeronaves e Embarcações)', 'Professor de Odontologia', 'Trabalhador da Exploração de Ouricuri', 'Desenhista Técnico (cartografia)', 'Analista de Câmbio', 'Técnico de Alimentos', 'Professor de Contabilidade', 'Operador de Máquina de Fundir Sob Pressão', 'Montador de Artefatos de Couro (exceto Roupas e Calçados)', 'Entrevistador Censitário e de Pesquisas Amostrais', 'Desenhista industrial de produto de moda (designer de moda)', 'Deputado Estadual e Distrital', 'Técnico de Planejamento de Produção', 'Operador de Central de Rádio', 'Revisor de texto', 'Operador de Máquina Perfuratriz', 'Serrador de Madeira', 'Professor de Engenharia', 'Produtor de Plantas Aromáticas e Medicinais', 'Supervisor de Tesouraria', 'Fiscal de Aviação Civil (fac)', 'Pintor de cerâmica, a pincel', 'Engenheiro Mecânico Industrial', 'Preparador de Máquinas-ferramenta', 'Montador de Máquinas de Minas e Pedreiras', 'Mestre de Produção Farmacêutica', 'Colchoeiro (confecção de colchoes)', 'Operador de Estação de Tratamento de água e Efluentes', 'Enfermeiro do Trabalho', 'Trabalhador da Cunicultura', 'Trabalhador de Fabricação de Sorvete', 'Superintendente Técnico No Transporte Aquaviário', 'Operador de máquina de fabricar papel (fase úmida)', 'Mecânico de Manutenção de Máquinas Cortadoras de Grama, Roçadeiras, Motosserras e Similares', 'Recebedor de Apostas (loteria)', 'Advogado de Empresa', 'Engraxate', 'Professor de Comunicação Social do Ensino Superior', 'Cirurgião-dentista da estratégia de saúde da família', 'Operador de Máquina de Abrir Valas', 'Produtor Cinematográfico', 'Operador de Central de Concreto', 'Ministro do Superior Tribunal de Justiça', 'Pesquisador Em Saúde Coletiva', 'Mecânico de Manutenção de Veículos Ferroviários', 'Supervisor de Orçamento', 'Professor de Ensino Superior na área de Orientação Educacional', 'Fiscal de Transportes Coletivos (exceto Trem)', 'Garçom (serviços de Vinhos)', 'Professor de Língua Francesa', 'Topógrafo', 'Gerente de Instituição Educacional da área Privada', 'Investigador de Polícia', 'Gestor em segurança', 'Impressor Tipográfico', 'Operador-mantenedor de Projetor Cinematográfico', 'Técnico Mecânico (aeronaves)', 'Pedreiro (material Refratário)', 'Operador de Martelete', 'Pesquisador Em Ciências da Educação', 'Perito Contábil', 'Médico Cardiologista Intervencionista', 'Operador de Monta-cargas (construção Civil)', 'Malabarista', 'Equilibrista', 'Torneiro na Usinagem Convencional de Madeira', 'Afretador', 'Engenheiros de Sistemas Operacionais Em Computação', 'Diretor de Planejamento Estratégico', 'Chefe de Serviços Bancários', 'Técnico Químico de Petróleo', 'Marmorista (construção)', 'Lavador de Peças', 'Chefe de Contabilidade (técnico)', 'Fisioterapeuta traumato-ortopédica funcional', 'Polidor de Pedras', 'Gravador, a mão (encadernação)', 'Técnico de Estradas', 'Engenheiro de Equipamentos Em Computação', 'Agente de Estação (ferrovia e Metrô)', 'Operador de Máquina Perfuradora (minas e Pedreiras)', 'Arbitro desportivo', 'Emissor de Passagens', 'Gerente de Rede', 'Produtor de Teatro', 'Supervisor de Manutenção de Máquinas Industriais Têxteis', 'Cronoanalista', 'Instalador de Material Isolante, A Mão (edificações)', 'Operador de Pavimentadora (asfalto, Concreto e Materiais Similares)', 'Cozinhador de Carnes', 'Localizador (cobrador)', 'Operador de Peneiras Hidráulicas', 'Pesquisador Em Biologia Vegetal', 'Técnico de Produção Em Refino de Petróleo', 'Maquiador de caracterização', 'Pesquisador Em Medicina Veterinária', 'Bioengenheiro', 'Auxiliar de Maquinista de Trem', 'Perfusionista', 'Catador de Caranguejos e Siris', 'Desenhista Técnico (eletricidade e Eletrônica)', 'Tricoteiro, a mão', 'Diretor de Instituição Educacional da área Privada', 'Operador de máquina de cortina d#água (produção de móveis)', 'Técnico Em Imunobiológicos', 'Mecânico de manutenção e instalação de aparelhos de climatização e refrigeração', 'Técnico Em Tratamento de Efluentes', 'Oficial de Registro de Contratos Marítimos', 'Professor de Filologia e Crítica Textual', 'Agenciador de Propaganda', 'Forneiro (materiais de Construção)', 'Montador de Bicicletas', 'Pesquisador Em Química', 'Diretor de Redação', 'Agente de Recrutamento e Seleção', 'Condutor Maquinista Fluvial', 'Copiador de Chapa', 'Armazenista', 'Estatístico (estatística Aplicada)', 'Funileiro de Veículos (reparação)', 'Engenheiro Civil (geotécnia)', 'Professor de Nutrição', 'Membro Superior do Poder Executivo', 'Escrivão Judicial', 'Mecânico Montador de Motores de Aeronaves', 'Técnico Em Pecuária', 'Operador de Cabine de Laminação (fio-máquina)', 'Pescador Industrial', 'Professor de Ensino Superior na área de Didática', 'Operador de Espessador', 'Desenhista Projetista Mecânico', 'Condutor de Processos Robotizados de Pintura', 'Criador de Caprinos', 'Domador de Animais (circense)', 'Operador de Máquinas de Fabricação de Chocolates e Achocolatados', 'Gerente de Projetos de Tecnologia da Informação', 'Enfermeiro Obstétrico', 'Agente de Proteção de Aeroporto', 'Assoalhador', 'Técnico de Manutenção de Sistemas e Instrumentos', 'Editor de Revista', 'Aplicador de Asfalto Impermeabilizante (coberturas)', 'Operador de prensa de material reciclável', 'Viveirista Florestal', 'Mecânico de Manutenção de Máquinas Gráficas', 'Técnico de Apoio à Bioengenharia', 'Técnico de Imobilização Ortopédica', 'Ouvidor (ombudsman) do Meio de Comunicação', 'Marcador de Peças Confeccionadas Para Bordar', 'Técnico de Meteorologia', 'Mantenedor de Sistemas Eletroeletrônicos de Segurança', 'Montador de Estruturas Metálicas', 'Diretor Geral de Empresa e Organizações (exceto de Interesse Público)', 'Ajustador Ferramenteiro', 'Montador de Veículos (linha de Montagem)', 'Técnico Em Fotônica', 'Técnico Em Mecatrônica - Robótica', 'Supervisor (indústria de calçados e artefatos de couro)', 'Biomédico', 'Supervisor de Cobrança', 'Técnico em reabilitação', 'Arquiteto de Patrimônio', 'Professor de Artes Visuais No Ensino Superior (artes Plásticas e Multimídia)', 'Diretor de Produção e Operações Em Empresa Pesqueira', 'Pesquisador Em Ciências Agronômicas', 'Destilador de Madeira', 'Desidratador de Alimentos', 'Gravador de vidro a esmeril', 'Limpador de piscinas', 'Mecânico de Manutenção de Motores Diesel (exceto de Veículos Automotores)', 'Supervisor de Operações Portuárias', 'Editor de Jornal', 'Oficial do Registro Civil de Pessoas Juridicas', 'Mecânico de Manutenção de Redutores', 'Chapeador', 'Instalador de Tubulações de Gás Combustível (produção e Distribuição)', 'Oceanógrafo', 'Compositor', 'Técnico Em Manutenção de Equipamentos e Instrumentos Médico-hospitalares', 'Diretor Financeiro', 'Atuário', 'Pedreiro (chaminés Industriais)', 'Arquiteto de Interiores', 'Supervisor da Indústria de Bebidas', 'Carpinteiro Naval (estaleiros)', 'Engenheiro Civil (aeroportos)', 'Gerente de Grandes Contas (corporate)', 'Técnico Em Manutenção de Balanças', 'Gerente de Captação (fundos e Investimentos Institucionais)', 'Trabalhador da Exploração de Espécies Produtoras de Gomas Não Elásticas', 'Chefe de Estação Portuária', 'Tenente do Corpo de Bombeiros Militar', 'Queijeiro na Fabricação de Laticínio', 'Contramestre de Malharia (indústria Têxtil)', 'Engenheiro Metalurgista', 'Confeccionador de Bolsas, Sacos e Sacolas e Papel, A Máquina', 'Diretor de Produtos Bancários', 'Supervisor de Embalagem e Etiquetagem', 'Oficial do Registro de Imóveis', 'Instrumentador Cirúrgico', 'Supervisor da Indústria de Minerais Não Metálicos (exceto Os Derivados de Petróleo e Carvão)', 'Ajustador Mecânico Em Bancada', 'Médico Angiologista', 'Projetista de Móveis', 'Cirurgião Dentista - Auditor', 'Professor de Teoria da Literatura', 'Psicólogo Hospitalar', 'Médico Anatomopatologista', 'Técnico de Manutenção Eletrônica (circuitos de Máquinas Com Comando Numérico)', 'Desenhista Técnico (construção Civil)', 'Técnico Em Bioterismo', 'Mecânico de Manutenção de Instalações Mecânicas de Edifícios', 'Supervisor de Operação de Fluidos (distribuição, Captação, Tratamento de água, Gases, Vapor)', 'Psicólogo do Trabalho', 'Professor de Alunos Com Deficiência Mental', 'Artesão confeccionador de biojóias e ecojóias', 'Instalador de Tubulações', 'Médico Acupunturista', 'Comissário de Vôo', 'Professor de Literatura Comparada', 'Instalador-reparador de Equipamentos de Comutação Em Telefonia', 'Engenheiro Eletricista de Projetos', 'Pesquisador Em Biologia Humana', 'Técnico da Receita Federal', 'Tecnólogo em gestão hospitalar', 'Dirigente de Partido Político', 'Supervisor de Crédito e Cobrança', 'Produtor de árvores Frutíferas', 'Operador de Laços de Cabos de Aço', 'Professor de Literatura Italiana', 'Operador de Trem de Metrô', 'Prefeito', 'Advogado (direito Público)', 'Técnico de Utilidade (produção e Distribuição de Vapor, Gases, óleos, Combustíveis, Energia)', 'Engenheiro Civil (edificações)', 'Assistente Técnico de Seguros', 'JAPERI', 'Diretor de Produção e Operações Em Empresa Florestal', 'Operador de Inspeção de Qualidade', 'Médico cancerologista pediátrico', 'Tecnólogo em telecomunicações', 'Intérprete de língua de sinais', 'Limpador de roupas a seco, a mão', 'Bordador, a máquina', 'Professor de Pesquisa Operacional (no Ensino Superior)', 'Retalhador de Carne', 'Técnico de Mineração', 'Desenhista Técnico (calefação, Ventilação e Refrigeração)', 'Diretor de Operações de Obras Pública e Civil', 'Advogado (direito Penal)', 'Pedreiro (mineração)', 'Pesquisador Em Metrologia', 'Bilheteiro (estações de Metrô, Ferroviárias e Assemelhadas)', 'Químico Industrial', 'Engenheiro Eletricista de Manutenção', 'Taifeiro (exceto Militares)', 'Carpinteiro de Carretas', 'Operador de Fresadora Com Comando Numérico', 'Despachante Aduaneiro', 'Agente indígena de saneamento', 'Maquinista de Embarcações', 'Produtor Agropecuário, Em Geral', 'Calceteiro', 'Enfermeiro Sanitarista', 'Diretor de Fotografia', 'Gerente de Clientes Especiais (private)', 'Médico Cirurgião Pediátrico', 'Cirurgião Dentista - Implantodontista', 'Professor de Ensino Superior na área de Pesquisa Educacional', 'Promotor de Justiça', 'Supervisor de Perfuração e Desmonte', 'Sinaleiro (ponte-rolante)', 'Mestre de Ferramentaria', 'Operador de Equipamento de Secagem de Pintura', 'Iluminador (televisão)', 'Cirurgião Dentista - Protesiólogo Bucomaxilofacial', 'Operador de Máquina de Sinterizar', 'Preparador de Atleta', 'Professor de Matemática Aplicada (no Ensino Superior)', 'Diretor de Operações de Serviços de Telecomunicações', 'Delegado de Polícia', 'Produtor de Rádio', 'Trabalhador da Exploração de Piaçava', 'Técnico de Acabamento Em Siderurgia', 'Pesquisador Em Economia', 'Professor de Técnicas Agrícolas', 'Supervisor da Aqüicultura', 'Engenheiro Civil (hidráulica)', 'Lavador de Artefatos de Tapeçaria', 'Decorador de Interiores de Nível Superior', 'Lavador de la', 'Operador de máquina de preparação de matéria prima para produção de cigarros', 'Colorista Têxtil', 'Médico Em Medicina Intensiva', 'Agente Fiscal Têxtil', 'Cimentador (poços de Petróleo)', 'Estofador de avioes', 'Mecânico de Manutenção de Bombas', 'Operador de Desempenadeira na Usinagem Convencional de Madeira', 'Condutor Maquinista Marítimo', 'Diretor de Recursos Humanos', 'Planejista', 'Técnico Mecânico (embarcações)', 'Mantenedor de Equipamentos de Parques de Diversões e Similares', 'Confeccionador de Escovas, Pincéis e Produtos Similares (a Mão)', 'Operador de Desgaseificação', 'Auditor-fiscal da Previdência Social', 'Encarregado de Manutenção Elétrica de Veículos', 'Comentarista de Rádio e Televisão', 'Cirurgião dentista - disfunção temporomandibular e dor orofacial', 'Técnico Em Petroquímica', 'Leiturista', 'Operador de Transporte Multimodal', 'Instalador de Isolantes Térmicos (refrigeração e Climatização)', 'Desenhista Projetista de Máquinas', 'Estirador de Tubos de Metal Sem Costura', 'Diretor de Operações de Correios', 'Gerente de turismo', 'Operador de Máquinas de Beneficiamento de Produtos Agrícolas', 'Inspetor de Risco', 'Confeccionador de Piano', 'Eletromecânico de Manutenção de Elevadores', 'Físico', 'Professor de Psicologia do Ensino Superior', 'Marinheiro de esporte e recreio', 'Gerente de Produção e Operações Pesqueiras', 'Supervisor de Contas A Pagar', 'Gerente de Suprimentos', 'Controlador de Tráfego Aéreo', 'Guincheiro (construção Civil)', 'Operador de Instalação de Refrigeração', 'Degustador de Derivados de Cacau', 'Supervisor de Produção na Mineração', 'Trabalhador da Exploração de Pequi', 'Documentalista', 'Carpinteiro (cenários)', 'Gerente de Recuperação de Crédito', 'Técnico de Tributos Municipal', 'Analista de Sinistros', 'Engenheiro Eletrônico de Manutenção', 'Programador de Máquinas - Ferramenta Com Comando Numérico', 'Impressor de Corte e Vinco', 'Professor de Computação (no Ensino Superior)', 'Impressor (serigrafia)', 'Acrobata', 'Dietista', 'Jóquei', 'Técnico Em Mixagem de áudio', 'Inspetor de Soldagem', 'Cenotécnico (cinema, Vídeo, Televisão, Teatro e Espetáculos)', 'Mestre (indústria de Automotores e Material de Transportes)', 'Inspetor de Serviços de Transportes Rodoviários (passageiros e Cargas)', 'Diretor de Suprimentos No Serviço Público', 'Inspetor de Terminal', 'Artesão tricoteiro', 'Soldador Aluminotérmico Em Conservação de Trilhos', 'Diretor de Recuperação de Créditos Em Operações de Intermediação Financeira', 'Supervisor de Andar', 'Professor de Técnicas e Recursos Audiovisuais', 'Riscador de Roupas', 'Engenheiro Civil (rodovias)', 'Supervisor de Manutenção de Aparelhos Térmicos, de Climatização e de Refrigeração', 'Gerente da Administração de Aeroportos', 'Montador de Equipamentos Elétricos (elevadores e Equipamentos Similares)', 'Técnico Têxtil (tratamentos Químicos)', 'Operador de Prensa de Moldar Vidro', 'Redator de Textos Técnicos', 'Entrevistador de Pesquisas de Mercado', 'Tecnólogo em produção industrial', 'Produtor na Olericultura de Raízes, Bulbos e Tubérculos', 'Técnico de Operações e Serviços Bancários - Câmbio', 'Contramestre de Cabotagem', 'Trabalhador da Exploração de árvores e Arbustos Produtores de Substâncias Aromát., Medic. e Tóxicas', 'Supervisor de Controle Patrimonial', 'Técnico Mecânico na Fabricação de Ferramentas', 'Instalador Eletricista (tração de Veículos)', 'Marcheteiro', 'Estenotipista', 'Montador de Equipamentos Elétricos', 'Engenheiro Eletrônico de Projetos', 'Vigia Florestal', 'Professor de Línguas Estrangeiras Modernas', 'Mecânico de Manutenção de Turbocompressores', 'Preparador de Calçados', 'Amostrador de Minérios', 'Assistente de Coreografia', 'Produtor de Espécies Frutíferas Rasteiras', 'Supervisor da confecção de artefatos de tecidos, couros e afins']\n"
     ]
    }
   ],
   "source": [
    "print(f\"Valores únicos da coluna 'ocupacao': {list(df[\"ocupacao\"].unique())}\")"
   ]
  }
 ],
 "metadata": {
  "kernelspec": {
   "display_name": "Python 3",
   "language": "python",
   "name": "python3"
  },
  "language_info": {
   "codemirror_mode": {
    "name": "ipython",
    "version": 3
   },
   "file_extension": ".py",
   "mimetype": "text/x-python",
   "name": "python",
   "nbconvert_exporter": "python",
   "pygments_lexer": "ipython3",
   "version": "3.13.2"
  }
 },
 "nbformat": 4,
 "nbformat_minor": 2
}
